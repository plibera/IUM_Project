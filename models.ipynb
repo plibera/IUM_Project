{
 "cells": [
  {
   "cell_type": "markdown",
   "metadata": {},
   "source": [
    "# Model\n",
    "\n",
    "W procesie modelowania tworzymy dwa modele, bazowy i docelowy.\n",
    "\n",
    "Przed trenowaniem modeli wczytujemy atrybuty wybrane na etapie analizy danych:\n",
    "- miasto\n",
    "- firma kurierska\n",
    "- dzień tygodnia zakupu\n",
    "- pora dnia zakupu\n",
    "\n",
    "Dodatkowo wczytujemy inne atrybuty, by sprawdzić przewidywany na etapie analizy danych ich niewielki wpływ na dokładność modelu:\n",
    "- kategoria produktu\n",
    "- cena produktu\n",
    "\n",
    "Nie rozważamy innych danych, takich jak dokładne dane odbiorcy czy nazwa produktu, nawet jako atrybutów dodatkowych w celu sprawdzenia wniosków z analizy danych, gdyż ich wykorzystanie w praktyce uniemożliwiłoby eksploatację modelu w sklepie, w którym nowi klienci i produkty stale się pojawiają.\n",
    "\n",
    "Na etapie wczytywania dane poddajemy również normalizacji oraz w niektórych przypadkach dodatkowym przekształceniom. Dla każdego atrybutu opisujemy te działania w odpowiedniej sekcji."
   ]
  },
  {
   "cell_type": "markdown",
   "metadata": {},
   "source": [
    "## Wczytanie danych\n",
    "\n",
    "Zaczynamy od wczytania wszystkich danych z plików."
   ]
  },
  {
   "cell_type": "code",
   "execution_count": 1,
   "metadata": {},
   "outputs": [
    {
     "name": "stdout",
     "output_type": "stream",
     "text": [
      "Requirement already satisfied: pandasql in /home/piotr/anaconda3/lib/python3.8/site-packages (0.7.3)\n",
      "Requirement already satisfied: pandas in /home/piotr/anaconda3/lib/python3.8/site-packages (from pandasql) (1.1.3)\n",
      "Requirement already satisfied: numpy in /home/piotr/anaconda3/lib/python3.8/site-packages (from pandasql) (1.19.2)\n",
      "Requirement already satisfied: sqlalchemy in /home/piotr/anaconda3/lib/python3.8/site-packages (from pandasql) (1.3.20)\n",
      "Requirement already satisfied: python-dateutil>=2.7.3 in /home/piotr/anaconda3/lib/python3.8/site-packages (from pandas->pandasql) (2.8.1)\n",
      "Requirement already satisfied: pytz>=2017.2 in /home/piotr/anaconda3/lib/python3.8/site-packages (from pandas->pandasql) (2020.1)\n",
      "Requirement already satisfied: six>=1.5 in /home/piotr/anaconda3/lib/python3.8/site-packages (from python-dateutil>=2.7.3->pandas->pandasql) (1.15.0)\n",
      "Note: you may need to restart the kernel to use updated packages.\n"
     ]
    }
   ],
   "source": [
    "#installs pandasql within jupyter kernel\n",
    "%pip install pandasql"
   ]
  },
  {
   "cell_type": "code",
   "execution_count": 2,
   "metadata": {},
   "outputs": [],
   "source": [
    "import matplotlib.pyplot as plt\n",
    "from mpl_toolkits.mplot3d import Axes3D\n",
    "from matplotlib import cm\n",
    "import numpy as np\n",
    "import json\n",
    "from datetime import datetime\n",
    "import time\n",
    "import pandas as pd\n",
    "from pandasql import sqldf\n",
    "import csv"
   ]
  },
  {
   "cell_type": "code",
   "execution_count": 3,
   "metadata": {},
   "outputs": [],
   "source": [
    "dataPath = \"IUM21L_Zad_03_02_v2\"\n",
    "citiesPath = \"cities.csv\""
   ]
  },
  {
   "cell_type": "code",
   "execution_count": 4,
   "metadata": {},
   "outputs": [],
   "source": [
    "deliveriesFile = open(dataPath + \"/deliveries.jsonl\", \"r\")\n",
    "productsFile = open(dataPath + \"/products.jsonl\", \"r\")\n",
    "sessionsFile = open(dataPath + \"/sessions.jsonl\", \"r\")\n",
    "usersFile = open(dataPath + \"/users.jsonl\", \"r\")\n",
    "\n",
    "deliveries = [json.loads(jline) for jline in deliveriesFile.read().splitlines()]\n",
    "products = [json.loads(jline) for jline in productsFile.read().splitlines()]\n",
    "sessions = [json.loads(jline) for jline in sessionsFile.read().splitlines()]\n",
    "users = [json.loads(jline) for jline in usersFile.read().splitlines()]\n",
    "\n",
    "deliveriesDF = pd.DataFrame.from_dict(deliveries)\n",
    "productsDF = pd.DataFrame.from_dict(products)\n",
    "sessionsDF = pd.DataFrame.from_dict(sessions)\n",
    "usersDF = pd.DataFrame.from_dict(users)\n",
    "\n",
    "pysqldf = lambda q: sqldf(q, globals())\n",
    "dataDF = pysqldf(\"SELECT * FROM sessionsDF s JOIN deliveriesDF d ON s.purchase_id = d.purchase_id JOIN productsDF p ON s.product_id = p.product_id JOIN usersDF u ON s.user_id = u.user_id;\")\n",
    "projectedDataDF = pysqldf(\"SELECT purchase_timestamp, delivery_timestamp, delivery_company, offered_discount, product_name, price, category_path, name, city, street FROM dataDF;\")"
   ]
  },
  {
   "cell_type": "code",
   "execution_count": 5,
   "metadata": {
    "scrolled": false
   },
   "outputs": [
    {
     "data": {
      "text/html": [
       "<div>\n",
       "<style scoped>\n",
       "    .dataframe tbody tr th:only-of-type {\n",
       "        vertical-align: middle;\n",
       "    }\n",
       "\n",
       "    .dataframe tbody tr th {\n",
       "        vertical-align: top;\n",
       "    }\n",
       "\n",
       "    .dataframe thead th {\n",
       "        text-align: right;\n",
       "    }\n",
       "</style>\n",
       "<table border=\"1\" class=\"dataframe\">\n",
       "  <thead>\n",
       "    <tr style=\"text-align: right;\">\n",
       "      <th></th>\n",
       "      <th>purchase_timestamp</th>\n",
       "      <th>delivery_timestamp</th>\n",
       "      <th>delivery_company</th>\n",
       "      <th>offered_discount</th>\n",
       "      <th>product_name</th>\n",
       "      <th>price</th>\n",
       "      <th>category_path</th>\n",
       "      <th>name</th>\n",
       "      <th>city</th>\n",
       "      <th>street</th>\n",
       "    </tr>\n",
       "  </thead>\n",
       "  <tbody>\n",
       "    <tr>\n",
       "      <th>0</th>\n",
       "      <td>2021-04-01T15:52:47</td>\n",
       "      <td>2021-04-02T14:06:34.432964</td>\n",
       "      <td>620</td>\n",
       "      <td>0</td>\n",
       "      <td>Sony DVP-SR760</td>\n",
       "      <td>193.00</td>\n",
       "      <td>Sprzęt RTV;Video;Odtwarzacze DVD</td>\n",
       "      <td>Aurelia Malon</td>\n",
       "      <td>Police</td>\n",
       "      <td>pl. Brzoskwiniowa 11/53</td>\n",
       "    </tr>\n",
       "    <tr>\n",
       "      <th>1</th>\n",
       "      <td>2021-04-01T02:26:23</td>\n",
       "      <td>2021-04-02T10:45:27.707128</td>\n",
       "      <td>360</td>\n",
       "      <td>15</td>\n",
       "      <td>Philips SDV5225</td>\n",
       "      <td>129.00</td>\n",
       "      <td>Sprzęt RTV;Video;Telewizory i akcesoria;Anteny...</td>\n",
       "      <td>Aurelia Malon</td>\n",
       "      <td>Police</td>\n",
       "      <td>pl. Brzoskwiniowa 11/53</td>\n",
       "    </tr>\n",
       "    <tr>\n",
       "      <th>2</th>\n",
       "      <td>2021-01-03T05:11:17</td>\n",
       "      <td>2021-01-04T15:43:07.635371</td>\n",
       "      <td>620</td>\n",
       "      <td>0</td>\n",
       "      <td>Kinect Joy Ride (Xbox 360)</td>\n",
       "      <td>69.00</td>\n",
       "      <td>Gry i konsole;Gry na konsole;Gry Xbox 360</td>\n",
       "      <td>Aurelia Malon</td>\n",
       "      <td>Police</td>\n",
       "      <td>pl. Brzoskwiniowa 11/53</td>\n",
       "    </tr>\n",
       "    <tr>\n",
       "      <th>3</th>\n",
       "      <td>2021-02-17T12:59:54</td>\n",
       "      <td>2021-02-18T11:52:42.608746</td>\n",
       "      <td>620</td>\n",
       "      <td>5</td>\n",
       "      <td>Telefon Siemens Gigaset DA310</td>\n",
       "      <td>58.97</td>\n",
       "      <td>Telefony i akcesoria;Telefony stacjonarne</td>\n",
       "      <td>Aurelia Malon</td>\n",
       "      <td>Police</td>\n",
       "      <td>pl. Brzoskwiniowa 11/53</td>\n",
       "    </tr>\n",
       "    <tr>\n",
       "      <th>4</th>\n",
       "      <td>2021-02-13T09:17:52</td>\n",
       "      <td>2021-02-15T08:59:28.973167</td>\n",
       "      <td>620</td>\n",
       "      <td>5</td>\n",
       "      <td>Doom 3 (PC)</td>\n",
       "      <td>19.99</td>\n",
       "      <td>Gry i konsole;Gry komputerowe</td>\n",
       "      <td>Aurelia Malon</td>\n",
       "      <td>Police</td>\n",
       "      <td>pl. Brzoskwiniowa 11/53</td>\n",
       "    </tr>\n",
       "  </tbody>\n",
       "</table>\n",
       "</div>"
      ],
      "text/plain": [
       "    purchase_timestamp          delivery_timestamp  delivery_company  \\\n",
       "0  2021-04-01T15:52:47  2021-04-02T14:06:34.432964               620   \n",
       "1  2021-04-01T02:26:23  2021-04-02T10:45:27.707128               360   \n",
       "2  2021-01-03T05:11:17  2021-01-04T15:43:07.635371               620   \n",
       "3  2021-02-17T12:59:54  2021-02-18T11:52:42.608746               620   \n",
       "4  2021-02-13T09:17:52  2021-02-15T08:59:28.973167               620   \n",
       "\n",
       "   offered_discount                   product_name   price  \\\n",
       "0                 0                 Sony DVP-SR760  193.00   \n",
       "1                15                Philips SDV5225  129.00   \n",
       "2                 0     Kinect Joy Ride (Xbox 360)   69.00   \n",
       "3                 5  Telefon Siemens Gigaset DA310   58.97   \n",
       "4                 5                    Doom 3 (PC)   19.99   \n",
       "\n",
       "                                       category_path           name    city  \\\n",
       "0                   Sprzęt RTV;Video;Odtwarzacze DVD  Aurelia Malon  Police   \n",
       "1  Sprzęt RTV;Video;Telewizory i akcesoria;Anteny...  Aurelia Malon  Police   \n",
       "2          Gry i konsole;Gry na konsole;Gry Xbox 360  Aurelia Malon  Police   \n",
       "3          Telefony i akcesoria;Telefony stacjonarne  Aurelia Malon  Police   \n",
       "4                      Gry i konsole;Gry komputerowe  Aurelia Malon  Police   \n",
       "\n",
       "                    street  \n",
       "0  pl. Brzoskwiniowa 11/53  \n",
       "1  pl. Brzoskwiniowa 11/53  \n",
       "2  pl. Brzoskwiniowa 11/53  \n",
       "3  pl. Brzoskwiniowa 11/53  \n",
       "4  pl. Brzoskwiniowa 11/53  "
      ]
     },
     "execution_count": 5,
     "metadata": {},
     "output_type": "execute_result"
    }
   ],
   "source": [
    "pysqldf(\"SELECT * FROM projectedDataDF LIMIT 5;\")"
   ]
  },
  {
   "cell_type": "markdown",
   "metadata": {},
   "source": [
    "## Przygotowanie danych\n",
    "\n",
    "W tej sekcji wczytujemy i przygotowujemy dane odpowiadające każdemu z atrybutów."
   ]
  },
  {
   "cell_type": "markdown",
   "metadata": {},
   "source": [
    "### Funkcje i struktury pomocnicze\n",
    "\n",
    "Przed kolejnym krokiem wyznaczamy z otrzymanych danych wartości najbardziej dla nas przydatne, między innymi:\n",
    "- czas trwania procesu dostarczania przesyłki na podstawie casu zakupu i dostawy\n",
    "- dzień tygodnia zakupu na podstawie daty zakupu, przedstawiony jako liczba całkowita od 0 do 6, gdzie 0 oznacza poniedziałek, a 6 niedzielę"
   ]
  },
  {
   "cell_type": "code",
   "execution_count": 6,
   "metadata": {},
   "outputs": [
    {
     "data": {
      "text/html": [
       "<div>\n",
       "<style scoped>\n",
       "    .dataframe tbody tr th:only-of-type {\n",
       "        vertical-align: middle;\n",
       "    }\n",
       "\n",
       "    .dataframe tbody tr th {\n",
       "        vertical-align: top;\n",
       "    }\n",
       "\n",
       "    .dataframe thead th {\n",
       "        text-align: right;\n",
       "    }\n",
       "</style>\n",
       "<table border=\"1\" class=\"dataframe\">\n",
       "  <thead>\n",
       "    <tr style=\"text-align: right;\">\n",
       "      <th></th>\n",
       "      <th>purchase_timestamp</th>\n",
       "      <th>delivery_timestamp</th>\n",
       "      <th>delivery_company</th>\n",
       "      <th>offered_discount</th>\n",
       "      <th>product_name</th>\n",
       "      <th>price</th>\n",
       "      <th>category_path</th>\n",
       "      <th>name</th>\n",
       "      <th>city</th>\n",
       "      <th>street</th>\n",
       "      <th>purchase_timestamp_sec</th>\n",
       "      <th>delivery_timestamp_sec</th>\n",
       "      <th>delivery_time_h</th>\n",
       "      <th>purchase_day_name</th>\n",
       "      <th>purchase_day_index</th>\n",
       "      <th>delivery_company_id</th>\n",
       "    </tr>\n",
       "  </thead>\n",
       "  <tbody>\n",
       "    <tr>\n",
       "      <th>0</th>\n",
       "      <td>2021-04-01 15:52:47</td>\n",
       "      <td>2021-04-02 14:06:34.432964</td>\n",
       "      <td>620</td>\n",
       "      <td>0</td>\n",
       "      <td>Sony DVP-SR760</td>\n",
       "      <td>193.00</td>\n",
       "      <td>Sprzęt RTV;Video;Odtwarzacze DVD</td>\n",
       "      <td>Aurelia Malon</td>\n",
       "      <td>Police</td>\n",
       "      <td>pl. Brzoskwiniowa 11/53</td>\n",
       "      <td>1617285167</td>\n",
       "      <td>1617365194</td>\n",
       "      <td>22.229722</td>\n",
       "      <td>Thursday</td>\n",
       "      <td>3.0</td>\n",
       "      <td>620.0</td>\n",
       "    </tr>\n",
       "    <tr>\n",
       "      <th>1</th>\n",
       "      <td>2021-04-01 02:26:23</td>\n",
       "      <td>2021-04-02 10:45:27.707128</td>\n",
       "      <td>360</td>\n",
       "      <td>15</td>\n",
       "      <td>Philips SDV5225</td>\n",
       "      <td>129.00</td>\n",
       "      <td>Sprzęt RTV;Video;Telewizory i akcesoria;Anteny...</td>\n",
       "      <td>Aurelia Malon</td>\n",
       "      <td>Police</td>\n",
       "      <td>pl. Brzoskwiniowa 11/53</td>\n",
       "      <td>1617236783</td>\n",
       "      <td>1617353127</td>\n",
       "      <td>32.317778</td>\n",
       "      <td>Thursday</td>\n",
       "      <td>3.0</td>\n",
       "      <td>360.0</td>\n",
       "    </tr>\n",
       "    <tr>\n",
       "      <th>2</th>\n",
       "      <td>2021-01-03 05:11:17</td>\n",
       "      <td>2021-01-04 15:43:07.635371</td>\n",
       "      <td>620</td>\n",
       "      <td>0</td>\n",
       "      <td>Kinect Joy Ride (Xbox 360)</td>\n",
       "      <td>69.00</td>\n",
       "      <td>Gry i konsole;Gry na konsole;Gry Xbox 360</td>\n",
       "      <td>Aurelia Malon</td>\n",
       "      <td>Police</td>\n",
       "      <td>pl. Brzoskwiniowa 11/53</td>\n",
       "      <td>1609647077</td>\n",
       "      <td>1609771387</td>\n",
       "      <td>34.530556</td>\n",
       "      <td>Sunday</td>\n",
       "      <td>6.0</td>\n",
       "      <td>620.0</td>\n",
       "    </tr>\n",
       "    <tr>\n",
       "      <th>3</th>\n",
       "      <td>2021-02-17 12:59:54</td>\n",
       "      <td>2021-02-18 11:52:42.608746</td>\n",
       "      <td>620</td>\n",
       "      <td>5</td>\n",
       "      <td>Telefon Siemens Gigaset DA310</td>\n",
       "      <td>58.97</td>\n",
       "      <td>Telefony i akcesoria;Telefony stacjonarne</td>\n",
       "      <td>Aurelia Malon</td>\n",
       "      <td>Police</td>\n",
       "      <td>pl. Brzoskwiniowa 11/53</td>\n",
       "      <td>1613563194</td>\n",
       "      <td>1613645562</td>\n",
       "      <td>22.880000</td>\n",
       "      <td>Wednesday</td>\n",
       "      <td>2.0</td>\n",
       "      <td>620.0</td>\n",
       "    </tr>\n",
       "    <tr>\n",
       "      <th>4</th>\n",
       "      <td>2021-02-13 09:17:52</td>\n",
       "      <td>2021-02-15 08:59:28.973167</td>\n",
       "      <td>620</td>\n",
       "      <td>5</td>\n",
       "      <td>Doom 3 (PC)</td>\n",
       "      <td>19.99</td>\n",
       "      <td>Gry i konsole;Gry komputerowe</td>\n",
       "      <td>Aurelia Malon</td>\n",
       "      <td>Police</td>\n",
       "      <td>pl. Brzoskwiniowa 11/53</td>\n",
       "      <td>1613204272</td>\n",
       "      <td>1613375968</td>\n",
       "      <td>47.693333</td>\n",
       "      <td>Saturday</td>\n",
       "      <td>5.0</td>\n",
       "      <td>620.0</td>\n",
       "    </tr>\n",
       "    <tr>\n",
       "      <th>...</th>\n",
       "      <td>...</td>\n",
       "      <td>...</td>\n",
       "      <td>...</td>\n",
       "      <td>...</td>\n",
       "      <td>...</td>\n",
       "      <td>...</td>\n",
       "      <td>...</td>\n",
       "      <td>...</td>\n",
       "      <td>...</td>\n",
       "      <td>...</td>\n",
       "      <td>...</td>\n",
       "      <td>...</td>\n",
       "      <td>...</td>\n",
       "      <td>...</td>\n",
       "      <td>...</td>\n",
       "      <td>...</td>\n",
       "    </tr>\n",
       "    <tr>\n",
       "      <th>7282</th>\n",
       "      <td>2021-04-15 13:00:45</td>\n",
       "      <td>2021-04-16 08:00:40.223545</td>\n",
       "      <td>516</td>\n",
       "      <td>5</td>\n",
       "      <td>Manta DVD064</td>\n",
       "      <td>109.00</td>\n",
       "      <td>Sprzęt RTV;Video;Odtwarzacze DVD</td>\n",
       "      <td>Sara Nóżka</td>\n",
       "      <td>Warszawa</td>\n",
       "      <td>aleja Słoneczna 78/05</td>\n",
       "      <td>1618484445</td>\n",
       "      <td>1618552840</td>\n",
       "      <td>18.998611</td>\n",
       "      <td>Thursday</td>\n",
       "      <td>3.0</td>\n",
       "      <td>516.0</td>\n",
       "    </tr>\n",
       "    <tr>\n",
       "      <th>7283</th>\n",
       "      <td>2021-01-28 09:32:38</td>\n",
       "      <td>2021-01-29 14:26:03.596544</td>\n",
       "      <td>360</td>\n",
       "      <td>20</td>\n",
       "      <td>Kyocera FS-3540MFP</td>\n",
       "      <td>5126.00</td>\n",
       "      <td>Komputery;Drukarki i skanery;Biurowe urządzeni...</td>\n",
       "      <td>Sara Nóżka</td>\n",
       "      <td>Warszawa</td>\n",
       "      <td>aleja Słoneczna 78/05</td>\n",
       "      <td>1611822758</td>\n",
       "      <td>1611926763</td>\n",
       "      <td>28.890278</td>\n",
       "      <td>Thursday</td>\n",
       "      <td>3.0</td>\n",
       "      <td>360.0</td>\n",
       "    </tr>\n",
       "    <tr>\n",
       "      <th>7284</th>\n",
       "      <td>2021-03-22 20:30:58</td>\n",
       "      <td>2021-03-24 08:26:34.660190</td>\n",
       "      <td>620</td>\n",
       "      <td>10</td>\n",
       "      <td>Szalone Króliki Na żywo i w kolorze (Xbox 360)</td>\n",
       "      <td>49.99</td>\n",
       "      <td>Gry i konsole;Gry na konsole;Gry Xbox 360</td>\n",
       "      <td>Sara Nóżka</td>\n",
       "      <td>Warszawa</td>\n",
       "      <td>aleja Słoneczna 78/05</td>\n",
       "      <td>1616441458</td>\n",
       "      <td>1616570794</td>\n",
       "      <td>35.926667</td>\n",
       "      <td>Monday</td>\n",
       "      <td>0.0</td>\n",
       "      <td>620.0</td>\n",
       "    </tr>\n",
       "    <tr>\n",
       "      <th>7285</th>\n",
       "      <td>2021-02-19 03:55:11</td>\n",
       "      <td>2021-02-20 18:26:44.646625</td>\n",
       "      <td>620</td>\n",
       "      <td>15</td>\n",
       "      <td>HTC HS-S200</td>\n",
       "      <td>14.99</td>\n",
       "      <td>Telefony i akcesoria;Akcesoria telefoniczne;Ze...</td>\n",
       "      <td>Sara Nóżka</td>\n",
       "      <td>Warszawa</td>\n",
       "      <td>aleja Słoneczna 78/05</td>\n",
       "      <td>1613703311</td>\n",
       "      <td>1613842004</td>\n",
       "      <td>38.525833</td>\n",
       "      <td>Friday</td>\n",
       "      <td>4.0</td>\n",
       "      <td>620.0</td>\n",
       "    </tr>\n",
       "    <tr>\n",
       "      <th>7286</th>\n",
       "      <td>2021-04-19 22:09:12</td>\n",
       "      <td>2021-04-20 09:08:48.449133</td>\n",
       "      <td>516</td>\n",
       "      <td>0</td>\n",
       "      <td>Jabra Speak 410</td>\n",
       "      <td>327.47</td>\n",
       "      <td>Telefony i akcesoria;Akcesoria telefoniczne;Ze...</td>\n",
       "      <td>Sara Nóżka</td>\n",
       "      <td>Warszawa</td>\n",
       "      <td>aleja Słoneczna 78/05</td>\n",
       "      <td>1618862952</td>\n",
       "      <td>1618902528</td>\n",
       "      <td>10.993333</td>\n",
       "      <td>Monday</td>\n",
       "      <td>0.0</td>\n",
       "      <td>516.0</td>\n",
       "    </tr>\n",
       "  </tbody>\n",
       "</table>\n",
       "<p>7287 rows × 16 columns</p>\n",
       "</div>"
      ],
      "text/plain": [
       "       purchase_timestamp          delivery_timestamp  delivery_company  \\\n",
       "0     2021-04-01 15:52:47  2021-04-02 14:06:34.432964               620   \n",
       "1     2021-04-01 02:26:23  2021-04-02 10:45:27.707128               360   \n",
       "2     2021-01-03 05:11:17  2021-01-04 15:43:07.635371               620   \n",
       "3     2021-02-17 12:59:54  2021-02-18 11:52:42.608746               620   \n",
       "4     2021-02-13 09:17:52  2021-02-15 08:59:28.973167               620   \n",
       "...                   ...                         ...               ...   \n",
       "7282  2021-04-15 13:00:45  2021-04-16 08:00:40.223545               516   \n",
       "7283  2021-01-28 09:32:38  2021-01-29 14:26:03.596544               360   \n",
       "7284  2021-03-22 20:30:58  2021-03-24 08:26:34.660190               620   \n",
       "7285  2021-02-19 03:55:11  2021-02-20 18:26:44.646625               620   \n",
       "7286  2021-04-19 22:09:12  2021-04-20 09:08:48.449133               516   \n",
       "\n",
       "      offered_discount                                    product_name  \\\n",
       "0                    0                                  Sony DVP-SR760   \n",
       "1                   15                                 Philips SDV5225   \n",
       "2                    0                      Kinect Joy Ride (Xbox 360)   \n",
       "3                    5                   Telefon Siemens Gigaset DA310   \n",
       "4                    5                                     Doom 3 (PC)   \n",
       "...                ...                                             ...   \n",
       "7282                 5                                    Manta DVD064   \n",
       "7283                20                              Kyocera FS-3540MFP   \n",
       "7284                10  Szalone Króliki Na żywo i w kolorze (Xbox 360)   \n",
       "7285                15                                     HTC HS-S200   \n",
       "7286                 0                                 Jabra Speak 410   \n",
       "\n",
       "        price                                      category_path  \\\n",
       "0      193.00                   Sprzęt RTV;Video;Odtwarzacze DVD   \n",
       "1      129.00  Sprzęt RTV;Video;Telewizory i akcesoria;Anteny...   \n",
       "2       69.00          Gry i konsole;Gry na konsole;Gry Xbox 360   \n",
       "3       58.97          Telefony i akcesoria;Telefony stacjonarne   \n",
       "4       19.99                      Gry i konsole;Gry komputerowe   \n",
       "...       ...                                                ...   \n",
       "7282   109.00                   Sprzęt RTV;Video;Odtwarzacze DVD   \n",
       "7283  5126.00  Komputery;Drukarki i skanery;Biurowe urządzeni...   \n",
       "7284    49.99          Gry i konsole;Gry na konsole;Gry Xbox 360   \n",
       "7285    14.99  Telefony i akcesoria;Akcesoria telefoniczne;Ze...   \n",
       "7286   327.47  Telefony i akcesoria;Akcesoria telefoniczne;Ze...   \n",
       "\n",
       "               name      city                   street  \\\n",
       "0     Aurelia Malon    Police  pl. Brzoskwiniowa 11/53   \n",
       "1     Aurelia Malon    Police  pl. Brzoskwiniowa 11/53   \n",
       "2     Aurelia Malon    Police  pl. Brzoskwiniowa 11/53   \n",
       "3     Aurelia Malon    Police  pl. Brzoskwiniowa 11/53   \n",
       "4     Aurelia Malon    Police  pl. Brzoskwiniowa 11/53   \n",
       "...             ...       ...                      ...   \n",
       "7282     Sara Nóżka  Warszawa    aleja Słoneczna 78/05   \n",
       "7283     Sara Nóżka  Warszawa    aleja Słoneczna 78/05   \n",
       "7284     Sara Nóżka  Warszawa    aleja Słoneczna 78/05   \n",
       "7285     Sara Nóżka  Warszawa    aleja Słoneczna 78/05   \n",
       "7286     Sara Nóżka  Warszawa    aleja Słoneczna 78/05   \n",
       "\n",
       "      purchase_timestamp_sec  delivery_timestamp_sec  delivery_time_h  \\\n",
       "0                 1617285167              1617365194        22.229722   \n",
       "1                 1617236783              1617353127        32.317778   \n",
       "2                 1609647077              1609771387        34.530556   \n",
       "3                 1613563194              1613645562        22.880000   \n",
       "4                 1613204272              1613375968        47.693333   \n",
       "...                      ...                     ...              ...   \n",
       "7282              1618484445              1618552840        18.998611   \n",
       "7283              1611822758              1611926763        28.890278   \n",
       "7284              1616441458              1616570794        35.926667   \n",
       "7285              1613703311              1613842004        38.525833   \n",
       "7286              1618862952              1618902528        10.993333   \n",
       "\n",
       "     purchase_day_name  purchase_day_index  delivery_company_id  \n",
       "0             Thursday                 3.0                620.0  \n",
       "1             Thursday                 3.0                360.0  \n",
       "2               Sunday                 6.0                620.0  \n",
       "3            Wednesday                 2.0                620.0  \n",
       "4             Saturday                 5.0                620.0  \n",
       "...                ...                 ...                  ...  \n",
       "7282          Thursday                 3.0                516.0  \n",
       "7283          Thursday                 3.0                360.0  \n",
       "7284            Monday                 0.0                620.0  \n",
       "7285            Friday                 4.0                620.0  \n",
       "7286            Monday                 0.0                516.0  \n",
       "\n",
       "[7287 rows x 16 columns]"
      ]
     },
     "execution_count": 6,
     "metadata": {},
     "output_type": "execute_result"
    }
   ],
   "source": [
    "# Convert date to unix timestamp (seconds only)\n",
    "def dateToTimestamp(date):\n",
    "    date = date.split('.')[0]\n",
    "    date = datetime.strptime(date, \"%Y-%m-%dT%H:%M:%S\").timetuple()\n",
    "    return time.mktime(date)\n",
    "\n",
    "def timestampToDate(timestamp):\n",
    "    return datetime.fromtimestamp(timestamp).strftime(\"%Y-%m-%dT%H:%M:%S\")\n",
    "\n",
    "\n",
    "# Creates one-hot encoding based on data in extendedDataDF\n",
    "def readDiscreteAttribute(name):\n",
    "    names = pysqldf(\"SELECT \" + name + \" FROM extendedDataDF;\").to_numpy()\n",
    "    distinctNames = np.unique(names)\n",
    "    distinctNames.sort()\n",
    "    attribute = np.zeros(shape=(len(names), len(distinctNames)))\n",
    "    for i in range(len(names)):\n",
    "        attribute[i, np.where(names[i] == distinctNames)[0]] = 1\n",
    "    return attribute\n",
    "\n",
    "\n",
    "def attributeHist(attribute, bins, xlabel, ylabel = \"Number of deliveries\"):\n",
    "    plt.hist(attribute, bins=bins, density=False)\n",
    "    plt.xlabel(xlabel)\n",
    "    plt.ylabel(ylabel)\n",
    "    plt.show()\n",
    "\n",
    "\n",
    "N_SECONDS = 3600.0\n",
    "\n",
    "extendedDataDF = pysqldf(\"SELECT * FROM projectedDataDF WHERE purchase_timestamp < delivery_timestamp\")\n",
    "\n",
    "#create columns\n",
    "extendedDataDF[\"purchase_timestamp_sec\"] = 0\n",
    "extendedDataDF[\"delivery_timestamp_sec\"] = 0\n",
    "extendedDataDF[\"delivery_time_h\"] = 0.0\n",
    "extendedDataDF[\"purchase_day_name\"] = \"\"\n",
    "\n",
    "for index, _ in extendedDataDF.iterrows():\n",
    "    extendedDataDF.at[index, \"purchase_timestamp_sec\"] = dateToTimestamp(extendedDataDF[\"purchase_timestamp\"].iloc[index])\n",
    "    extendedDataDF.at[index, \"delivery_timestamp_sec\"] = dateToTimestamp(extendedDataDF[\"delivery_timestamp\"].iloc[index])\n",
    "    extendedDataDF.at[index, \"delivery_time_h\"] = float(extendedDataDF[\"delivery_timestamp_sec\"].iloc[index] - extendedDataDF[\"purchase_timestamp_sec\"].iloc[index]) / N_SECONDS\n",
    "    extendedDataDF.at[index, \"purchase_timestamp\"] = pd.to_datetime(extendedDataDF[\"purchase_timestamp\"].iloc[index])\n",
    "    extendedDataDF.at[index, \"delivery_timestamp\"] = pd.to_datetime(extendedDataDF[\"delivery_timestamp\"].iloc[index])\n",
    "    extendedDataDF.at[index, \"purchase_day_name\"] = extendedDataDF[\"purchase_timestamp\"].iloc[index].day_name()\n",
    "    extendedDataDF.at[index, \"purchase_day_index\"] = (int(extendedDataDF[\"purchase_timestamp\"].iloc[index].strftime(\"%w\")) + 6) % 7\n",
    "    extendedDataDF.at[index, \"delivery_company_id\"] = int(extendedDataDF[\"delivery_company\"].iloc[index])\n",
    "\n",
    "extendedDataDF"
   ]
  },
  {
   "cell_type": "markdown",
   "metadata": {},
   "source": [
    "### Miasta\n",
    "\n",
    "Miasto odbiorcy przesyłki jest specyficznym atrybutem. W danych występuje kilka miast, których podane są nazwy. Gdybyśmy jednak traktowali miasta jak atrybut dyskretny nominalny, nie bylibyśmy w stanie przewidywać czasu dostawy do miast nieobecnych w danych, co z pewnością bardzo ograniczyłoby wykorzystanie modelu w sklepie. Wykorzystujemy więc zewnętrzną bazę danych zawierającą nazwy miast w Polsce i ich współrzędne geograficzne, które wykorzystamy w modelu.\n",
    "\n",
    "Baza zawiera kilka miast spoza Polski, stąd nie przetwarzamy miast z bazy, których współrzędne wykraczają poza któryś ze zdefiniowanych zakresów współrzędnych. Wartości minimalne i maksymalne współrzędnych zdefiniowane są na początku kolejnej komórki i są one równe współrzędnym punktów krańcowych Polski.\n",
    "\n",
    "Po wczytaniu współrzędnych każdego miasta, skalujemy je do przedziału [0; 1] wykorzystując wspomniane już wartości minimalne i maksymalne współrzędnych Polski wyrażonych w stopniach. Wykorzystanie tych powszechnie znanych wartości pozwala na wykonanie takiej samej normalizacji bez posiadania tej samej bazy współrzędnych miast (w przeciwieństwie do wykorzystania skrajnych wartości współrzędnych obecnych w innej bazie lub w dostarczonych danych). "
   ]
  },
  {
   "cell_type": "code",
   "execution_count": 7,
   "metadata": {},
   "outputs": [
    {
     "data": {
      "image/png": "[encoded data removed]",
      "text/plain": [
       "<Figure size 432x288 with 1 Axes>"
      ]
     },
     "metadata": {
      "needs_background": "light"
     },
     "output_type": "display_data"
    },
    {
     "data": {
      "image/png": "[encoded data removed]",
      "text/plain": [
       "<Figure size 432x288 with 1 Axes>"
      ]
     },
     "metadata": {
      "needs_background": "light"
     },
     "output_type": "display_data"
    }
   ],
   "source": [
    "# Convert cities to coordinates, and then normalize the coordinates based on min and max values for Poland\n",
    "\n",
    "# Read cities coordinates from csv file\n",
    "# Strip cities names of whitespaces and convert coordinates to floats [degrees] by dividing minutes by 60\n",
    "# City data contains few cities outside Poland, so we skip them using the following bounds\n",
    "minEastCoord = 14.11\n",
    "maxEastCoord = 24.15\n",
    "minNorthCoord = 49\n",
    "maxNorthCoord = 54.84\n",
    "\n",
    "cityDatabaseNames = []\n",
    "cityDatabaseCoords = []\n",
    "with open(citiesPath, newline='') as csvfile:\n",
    "    citiesReader = csv.reader(csvfile)\n",
    "    for row in citiesReader:\n",
    "        coordRow = []\n",
    "        for cell in row:\n",
    "            cell = cell.strip()\n",
    "            if len(cell) > 1:\n",
    "                if cell[-1] == 'E' or cell[-1] == 'N':\n",
    "                    numericCoord = float(cell[0:2]) + float(cell[3:5])/60\n",
    "                    coordRow.append(numericCoord)\n",
    "                else:\n",
    "                    cityDatabaseNames.append(cell)\n",
    "        if coordRow[0] >= minEastCoord and \\\n",
    "           coordRow[0] <= maxEastCoord and \\\n",
    "           coordRow[1] >= minNorthCoord and \\\n",
    "           coordRow[1] <= maxNorthCoord:\n",
    "            cityDatabaseCoords.append(coordRow)\n",
    "        else:\n",
    "            del cityDatabaseNames[-1]\n",
    "            \n",
    "        \n",
    "#Convert to numpy\n",
    "citiesCoordinatesDataArray = np.array(cityDatabaseCoords)\n",
    "\n",
    "citiesCoordinatesDataArray[:, 0] = (citiesCoordinatesDataArray[:, 0]-minEastCoord)/(maxEastCoord-minEastCoord)\n",
    "citiesCoordinatesDataArray[:, 1] = (citiesCoordinatesDataArray[:, 1]-minNorthCoord)/(maxNorthCoord-minNorthCoord)\n",
    "   \n",
    "attributeHist(citiesCoordinatesDataArray[:,0], bins=30, xlabel=\"East coordinate\", ylabel=\"Number of cities\")\n",
    "attributeHist(citiesCoordinatesDataArray[:,1], bins=30, xlabel=\"North coordinate\", ylabel=\"Number of cities\")"
   ]
  },
  {
   "cell_type": "markdown",
   "metadata": {},
   "source": [
    "Stworzone struktury danych wykorzystujemy do przekształcenia nazw miast z danych sklepu do znormalizowanych współrzędnych geograficznych."
   ]
  },
  {
   "cell_type": "code",
   "execution_count": 8,
   "metadata": {
    "scrolled": false
   },
   "outputs": [
    {
     "data": {
      "image/png": "[encoded data removed]",
      "text/plain": [
       "<Figure size 432x288 with 1 Axes>"
      ]
     },
     "metadata": {
      "needs_background": "light"
     },
     "output_type": "display_data"
    },
    {
     "data": {
      "image/png": "[encoded data removed]",
      "text/plain": [
       "<Figure size 432x288 with 1 Axes>"
      ]
     },
     "metadata": {
      "needs_background": "light"
     },
     "output_type": "display_data"
    },
    {
     "name": "stdout",
     "output_type": "stream",
     "text": [
      "(7287, 2)\n"
     ]
    }
   ],
   "source": [
    "# Get city attribute\n",
    "citiesNames = pysqldf(\"SELECT City FROM projectedDataDF;\").to_numpy()\n",
    "\n",
    "cityCoordAttribute = np.empty(shape=(citiesNames.size, 2))\n",
    "for i in range(len(citiesNames)):\n",
    "    index = cityDatabaseNames.index(citiesNames[i])\n",
    "    cityCoordAttribute[i] = citiesCoordinatesDataArray[index]\n",
    "    \n",
    "attributeHist(cityCoordAttribute[:,0], bins=30, xlabel=\"East coordinate\")\n",
    "attributeHist(cityCoordAttribute[:,1], bins=30, xlabel=\"North coordinate\")\n",
    "print(cityCoordAttribute.shape)"
   ]
  },
  {
   "cell_type": "markdown",
   "metadata": {},
   "source": [
    "### Firma kurierska\n",
    "\n",
    "Kolejnym wczytywanym atrybutem jest firma kurierska. Jest to mało liczny atrybut dyskretny nominalny, stąd stosujemy kodowanie wskaźnikowe."
   ]
  },
  {
   "cell_type": "code",
   "execution_count": 9,
   "metadata": {},
   "outputs": [
    {
     "name": "stdout",
     "output_type": "stream",
     "text": [
      "[[0. 0. 1.]\n",
      " [1. 0. 0.]\n",
      " [0. 0. 1.]\n",
      " ...\n",
      " [0. 0. 1.]\n",
      " [0. 0. 1.]\n",
      " [0. 1. 0.]]\n",
      "(7287, 3)\n"
     ]
    }
   ],
   "source": [
    "companyAttribute = readDiscreteAttribute(\"delivery_company_id\")\n",
    "print(companyAttribute)\n",
    "print(companyAttribute.shape)"
   ]
  },
  {
   "cell_type": "markdown",
   "metadata": {},
   "source": [
    "### Dzień tygodnia zakupu\n",
    "\n",
    "Jest to również atrybut dyskretny nominalny i stosujemy kodowanie wskaźnikowe."
   ]
  },
  {
   "cell_type": "code",
   "execution_count": 10,
   "metadata": {},
   "outputs": [
    {
     "name": "stdout",
     "output_type": "stream",
     "text": [
      "[[0. 0. 0. ... 0. 0. 0.]\n",
      " [0. 0. 0. ... 0. 0. 0.]\n",
      " [0. 0. 0. ... 0. 0. 1.]\n",
      " ...\n",
      " [1. 0. 0. ... 0. 0. 0.]\n",
      " [0. 0. 0. ... 1. 0. 0.]\n",
      " [1. 0. 0. ... 0. 0. 0.]]\n",
      "(7287, 7)\n"
     ]
    }
   ],
   "source": [
    "dayAttribute = readDiscreteAttribute(\"purchase_day_index\")\n",
    "print(dayAttribute)\n",
    "print(dayAttribute.shape)"
   ]
  },
  {
   "cell_type": "markdown",
   "metadata": {},
   "source": [
    "### Pora dnia zakupu\n",
    "\n",
    "Z posiadanej daty i godziny zakupu wyznaczamy liczbę sekund, jaka minęła od początku doby, w której nastąpił zakup. Następnie skalujemy tę liczbę do przedziału [0; 1]."
   ]
  },
  {
   "cell_type": "code",
   "execution_count": 11,
   "metadata": {
    "scrolled": true
   },
   "outputs": [
    {
     "data": {
      "image/png": "[encoded data removed]",
      "text/plain": [
       "<Figure size 432x288 with 1 Axes>"
      ]
     },
     "metadata": {
      "needs_background": "light"
     },
     "output_type": "display_data"
    },
    {
     "name": "stdout",
     "output_type": "stream",
     "text": [
      "(7287, 1)\n"
     ]
    }
   ],
   "source": [
    "purchaseTimes = pysqldf(\"SELECT purchase_timestamp FROM extendedDataDF;\").to_numpy()\n",
    "\n",
    "datetimes = [datetime.strptime(t, '%Y-%m-%d %H:%M:%S.%f') for t in purchaseTimes[:,0]]\n",
    "purchaseTimeAttribute = np.asarray([t.hour*3600 + t.minute*60 + t.second for t in datetimes], dtype=np.float32)\n",
    "purchaseTimeAttribute /= 3600*24\n",
    "\n",
    "attributeHist(purchaseTimeAttribute, bins=24, xlabel=\"Purchase time\")\n",
    "purchaseTimeAttribute = np.reshape(purchaseTimeAttribute, (-1, 1))\n",
    "print(purchaseTimeAttribute.shape)"
   ]
  },
  {
   "cell_type": "markdown",
   "metadata": {},
   "source": [
    "### Czas dostawy\n",
    "\n",
    "Zmienną celu wczytujemy bezpośrednio jako czas trwania procesu dostawy wyrażonego w godzinach jako liczba zmiennoprzecinkowa."
   ]
  },
  {
   "cell_type": "code",
   "execution_count": 12,
   "metadata": {
    "scrolled": true
   },
   "outputs": [
    {
     "data": {
      "image/png": "[encoded data removed]",
      "text/plain": [
       "<Figure size 432x288 with 1 Axes>"
      ]
     },
     "metadata": {
      "needs_background": "light"
     },
     "output_type": "display_data"
    },
    {
     "name": "stdout",
     "output_type": "stream",
     "text": [
      "(7287, 1)\n"
     ]
    }
   ],
   "source": [
    "deliveryTimes = pysqldf(\"SELECT delivery_time_h FROM extendedDataDF;\").to_numpy()\n",
    "attributeHist(deliveryTimes, bins=50, xlabel=\"Delivery duration\")\n",
    "print(deliveryTimes.shape)"
   ]
  },
  {
   "cell_type": "markdown",
   "metadata": {},
   "source": [
    "## Atrybuty dodatkowe\n",
    "\n",
    "Wczytujemy również niektóre atrybuty, których nie wybraliśmy na etapie analizy danych, by sprawdzić jak ich wykorzystanie wpłynie na dokładność trenowanych modeli."
   ]
  },
  {
   "cell_type": "markdown",
   "metadata": {},
   "source": [
    "### Kategoria produktu\n",
    "\n",
    "Stosujemy kodowanie wskaźnikowe."
   ]
  },
  {
   "cell_type": "code",
   "execution_count": 13,
   "metadata": {},
   "outputs": [
    {
     "name": "stdout",
     "output_type": "stream",
     "text": [
      "[[0. 0. 0. ... 0. 0. 0.]\n",
      " [0. 0. 0. ... 0. 0. 0.]\n",
      " [0. 0. 1. ... 0. 0. 0.]\n",
      " ...\n",
      " [0. 0. 1. ... 0. 0. 0.]\n",
      " [0. 0. 0. ... 1. 0. 0.]\n",
      " [0. 0. 0. ... 0. 0. 0.]]\n",
      "(7287, 15)\n"
     ]
    }
   ],
   "source": [
    "categoryAttribute = readDiscreteAttribute(\"category_path\")\n",
    "print(categoryAttribute)\n",
    "print(categoryAttribute.shape)"
   ]
  },
  {
   "cell_type": "markdown",
   "metadata": {},
   "source": [
    "### Cena\n",
    "\n",
    "Sprawdzimy rónież wpływ wykorzystania ceny jako atrybutu na dokładność modelu. Jako że zdecydowanie więcej jest tańszych produktów w ramach normalizacji wyliczamy również logarytm z ceny i skalujemy go do przedziału [0; 1]."
   ]
  },
  {
   "cell_type": "code",
   "execution_count": 14,
   "metadata": {},
   "outputs": [
    {
     "data": {
      "image/png": "[encoded data removed]",
      "text/plain": [
       "<Figure size 432x288 with 1 Axes>"
      ]
     },
     "metadata": {
      "needs_background": "light"
     },
     "output_type": "display_data"
    },
    {
     "data": {
      "image/png": "[encoded data removed]",
      "text/plain": [
       "<Figure size 432x288 with 1 Axes>"
      ]
     },
     "metadata": {
      "needs_background": "light"
     },
     "output_type": "display_data"
    },
    {
     "name": "stdout",
     "output_type": "stream",
     "text": [
      "(7287, 1)\n",
      "(7287, 1)\n"
     ]
    }
   ],
   "source": [
    "priceAttribute = pysqldf(\"SELECT price FROM extendedDataDF;\").to_numpy()\n",
    "priceAttributeLog = np.log(priceAttribute)\n",
    "\n",
    "priceAttribute = (priceAttribute - np.min(priceAttribute)) / (np.max(priceAttribute) - np.min(priceAttribute))\n",
    "priceAttributeLog = (priceAttributeLog - np.min(priceAttributeLog)) / (np.max(priceAttributeLog) - np.min(priceAttributeLog))\n",
    "\n",
    "attributeHist(priceAttribute, bins=50, xlabel=\"Price\")\n",
    "attributeHist(priceAttributeLog, bins=50, xlabel=\"Price\")\n",
    "print(priceAttribute.shape)\n",
    "print(priceAttributeLog.shape)"
   ]
  },
  {
   "cell_type": "markdown",
   "metadata": {},
   "source": [
    "## Podział na zbiory treningowy i testowy\n",
    "\n",
    "Z wczytanych danych tworzymy jedną strukturę danych, w której wiersze stanowią pojedynczą próbkę zawierającą wartości atrybutów i funkcji celu. Wiersze te w funkcji createDatasets mieszamy losowo ze znanym ziarnem i dzielimy na zbiory treningowy i testowy w stosunku 4:1."
   ]
  },
  {
   "cell_type": "code",
   "execution_count": 15,
   "metadata": {},
   "outputs": [],
   "source": [
    "def createDatasets(data, seed, trainingPart=0.8):\n",
    "    np.random.seed(seed)\n",
    "    np.random.shuffle(data)\n",
    "    trainSize = int(trainingPart*len(data))\n",
    "    trainData, testData = data[:trainSize,:-1], data[trainSize:,:-1]\n",
    "    trainLabels, testLabels = data[:trainSize,-1:], data[trainSize:,-1:]\n",
    "    return trainData, trainLabels, testData, testLabels"
   ]
  },
  {
   "cell_type": "markdown",
   "metadata": {},
   "source": [
    "# Predykcja średniego czasu dostawy"
   ]
  },
  {
   "cell_type": "markdown",
   "metadata": {},
   "source": [
    "Po pierwsze wyznaczamy wartość RMSE w przypadku gdyby predykcja polegała na podaniu średniej długości czasu dostawy:"
   ]
  },
  {
   "cell_type": "code",
   "execution_count": 16,
   "metadata": {},
   "outputs": [
    {
     "name": "stdout",
     "output_type": "stream",
     "text": [
      "19.284135780341025\n"
     ]
    }
   ],
   "source": [
    "avgDuration = np.average(deliveryTimes)\n",
    "print(np.sqrt(np.mean((avgDuration-deliveryTimes)**2)))"
   ]
  },
  {
   "cell_type": "markdown",
   "metadata": {},
   "source": [
    "# Prosty model regresji liniowej"
   ]
  },
  {
   "cell_type": "code",
   "execution_count": 17,
   "metadata": {},
   "outputs": [],
   "source": [
    "from sklearn import linear_model\n",
    "import tensorflow as tf\n",
    "from tensorflow import keras\n",
    "from tensorflow.keras import layers\n",
    "from tensorflow.keras import backend as K\n",
    "from tensorflow.python.keras.utils.layer_utils import count_params\n",
    "import pickle\n",
    "\n",
    "def root_mean_squared_error(y_true, y_pred):\n",
    "        return K.sqrt(K.mean(K.square(y_pred - y_true)))\n",
    "    \n",
    "def predict_from_file(filename, data, isKeras):\n",
    "    if isKeras:\n",
    "        model = keras.models.load_model(filename, compile=False)\n",
    "    else:\n",
    "        model = pickle.load(open(filename, 'rb'))\n",
    "    return model.predict(data)\n",
    "\n",
    "def trainLinearRegression(trainData, trainLabels, filename):\n",
    "    regr = linear_model.LinearRegression()\n",
    "    regr.fit(trainData, trainLabels)\n",
    "    pickle.dump(regr, open(filename, 'wb'))\n",
    "    \n",
    "def testLinearRegression(testData, testLabels, filename):\n",
    "    return tf.get_static_value(root_mean_squared_error(predict_from_file('base_model.pkl', testData, False), testLabels))"
   ]
  },
  {
   "cell_type": "markdown",
   "metadata": {},
   "source": [
    "Sprawdzamy wyniki regresji liniowej wszytkich kombinacji wczytanych atrybutów, a następnie znajdujemy te kombinacje, które uzyskały wynik lepszy od wyniku przy wykorzystaniu wybranych przez nas podstawowych atrybutów, czyli współrzędnych miasta, identyfikatora firmy kurierskiej, dnia tygodnia i pory dnia zakupu."
   ]
  },
  {
   "cell_type": "code",
   "execution_count": 18,
   "metadata": {},
   "outputs": [
    {
     "name": "stdout",
     "output_type": "stream",
     "text": [
      "RMSE                (City, Company, Purchase day, Purchase time, Category, Price, Price log)\n",
      "(16.686804245822312, (True, True, True, True, False, True, True))\n",
      "(16.69064741891063, (True, True, True, False, False, True, True))\n",
      "(16.694787895356033, (True, True, True, True, False, False, False))\n",
      "=================================\n",
      "(16.699982382602563, (True, True, True, True, False, True, False))\n",
      "(16.702490922957995, (True, True, True, True, False, False, True))\n",
      "(16.702786678987664, (True, True, True, False, False, False, False))\n",
      "(16.70414406826961, (True, True, True, False, False, False, True))\n",
      "(16.723921377461618, (True, True, True, False, False, True, False))\n",
      "(16.737072903313507, (True, True, True, False, True, False, False))\n",
      "(16.754520490157507, (True, True, True, False, True, True, False))\n",
      "(16.756613809928044, (True, True, True, True, True, False, False))\n",
      "(16.757897625794858, (True, True, True, True, True, True, True))\n",
      "(16.784850215775215, (True, True, True, True, True, False, True))\n",
      "(16.79350823341373, (True, True, True, False, True, True, True))\n",
      "(16.79889165789306, (True, True, True, True, True, True, False))\n",
      "(16.89404884033151, (True, True, True, False, True, False, True))\n",
      "(16.980023263705295, (True, False, True, True, False, True, False))\n",
      "(17.013529037393614, (True, False, True, True, False, True, True))\n",
      "(17.01355909375107, (True, False, True, True, False, False, True))\n",
      "(17.01512274089256, (True, False, True, True, False, False, False))\n",
      "(17.01644934879504, (True, False, True, False, False, True, True))\n",
      "(17.016466282618563, (True, False, True, False, False, False, True))\n",
      "(17.017170748872047, (True, False, True, False, False, True, False))\n",
      "(17.018146083015708, (True, False, True, False, False, False, False))\n",
      "(17.03835793237658, (True, False, True, True, True, True, True))\n",
      "(17.042304438286184, (True, False, True, False, True, False, False))\n",
      "(17.042798367624226, (True, False, True, True, True, False, False))\n",
      "(17.05874298950763, (True, False, True, True, True, False, True))\n",
      "(17.059579926556903, (True, False, True, False, True, True, False))\n",
      "(17.061599991691615, (True, False, True, True, True, True, False))\n",
      "(17.06577264254201, (True, False, True, False, True, True, True))\n",
      "(17.0832988382909, (True, False, True, False, True, False, True))\n",
      "(17.17290793791964, (True, True, False, False, False, True, False))\n",
      "(17.173882769814142, (True, True, False, False, False, True, True))\n",
      "(17.174578121010605, (True, True, False, True, False, True, True))\n",
      "(17.1805059087249, (True, True, False, True, False, True, False))\n",
      "(17.181791029404664, (True, True, False, True, False, False, False))\n",
      "(17.186942430237433, (True, True, False, False, False, False, True))\n",
      "(17.189724440977166, (True, True, False, True, False, False, True))\n",
      "(17.229332042253198, (True, True, False, False, True, False, False))\n",
      "(17.23456934725479, (True, True, False, True, True, False, False))\n",
      "(17.249963423988202, (True, True, False, True, True, True, True))\n",
      "(17.251910141574797, (True, True, False, False, True, True, True))\n",
      "(17.255007655571323, (True, True, False, True, True, True, False))\n",
      "(17.25988060464255, (True, True, False, True, True, False, True))\n",
      "(17.27252753854518, (True, True, False, False, True, True, False))\n",
      "(17.295360206041064, (True, True, False, False, True, False, True))\n",
      "(17.327314263502927, (True, True, False, False, False, False, False))\n",
      "(17.47901507874588, (True, False, False, True, False, False, False))\n",
      "(17.479229701176724, (True, False, False, True, False, True, False))\n",
      "(17.481159796353314, (True, False, False, True, False, False, True))\n",
      "(17.48165361486926, (True, False, False, True, False, True, True))\n",
      "(17.485097966684442, (True, False, False, False, False, False, False))\n",
      "(17.485159564894378, (True, False, False, False, False, True, False))\n",
      "(17.48704245871009, (True, False, False, False, False, False, True))\n",
      "(17.48755789920883, (True, False, False, False, False, True, True))\n",
      "(17.525093212037614, (True, False, False, True, True, False, False))\n",
      "(17.534046412915572, (True, False, False, False, True, False, False))\n",
      "(17.541872249926428, (True, False, False, True, True, True, False))\n",
      "(17.550454874432532, (True, False, False, True, True, True, True))\n",
      "(17.55325489005064, (True, False, False, False, True, True, False))\n",
      "(17.553289446987655, (True, False, False, True, True, False, True))\n",
      "(17.568244071500512, (True, False, False, False, True, False, True))\n",
      "(17.569287378622917, (True, False, False, False, True, True, True))\n",
      "(18.611934654580715, (False, True, True, False, False, False, True))\n",
      "(18.615327135157035, (False, True, True, False, False, True, True))\n",
      "(18.624884240267377, (False, True, True, True, False, True, True))\n",
      "(18.62597724609812, (False, True, True, True, False, True, False))\n",
      "(18.626604297958277, (False, True, True, True, False, False, True))\n",
      "(18.630671139612698, (False, True, True, False, False, False, False))\n",
      "(18.637204503966014, (False, True, True, True, False, False, False))\n",
      "(18.643923189017322, (False, True, True, False, False, True, False))\n",
      "(18.652318530601672, (False, True, True, True, True, False, True))\n",
      "(18.65364425268035, (False, True, True, False, True, True, True))\n",
      "(18.65473738062574, (False, True, True, False, True, False, True))\n",
      "(18.65547527246418, (False, True, True, True, True, True, True))\n",
      "(18.66270285397445, (False, True, True, False, True, True, False))\n",
      "(18.66399499724808, (False, True, True, True, True, True, False))\n",
      "(18.685565514816265, (False, True, True, True, True, False, False))\n",
      "(18.702118569312084, (False, True, True, False, True, False, False))\n",
      "(18.883124341205054, (False, False, True, True, True, False, True))\n",
      "(18.887753465882216, (False, False, True, False, False, False, False))\n",
      "(18.88809736742887, (False, False, True, False, False, False, True))\n",
      "(18.888233657458095, (False, False, True, True, False, False, True))\n",
      "(18.888444267653423, (False, False, True, True, False, True, True))\n",
      "(18.891096493543415, (False, False, True, False, True, False, False))\n",
      "(18.8916990709077, (False, False, True, False, False, True, True))\n",
      "(18.89454252438477, (False, False, True, False, False, True, False))\n",
      "(18.899528639774346, (False, False, True, True, False, True, False))\n",
      "(18.899973018040694, (False, False, True, True, False, False, False))\n",
      "(18.90218433912875, (False, False, True, True, True, True, False))\n",
      "(18.906568612378223, (False, False, True, True, True, True, True))\n",
      "(18.908894580651648, (False, False, True, True, True, False, False))\n",
      "(18.946691046943034, (False, False, True, False, True, True, False))\n",
      "(18.9676660834957, (False, False, True, False, True, True, True))\n",
      "(18.98943854869976, (False, False, True, False, True, False, True))\n",
      "(19.031072739864843, (False, True, False, True, False, True, True))\n",
      "(19.04955778051228, (False, True, False, False, False, False, False))\n",
      "(19.05538282324581, (False, True, False, False, False, True, True))\n",
      "(19.061924033264894, (False, True, False, True, False, False, True))\n",
      "(19.069186176747134, (False, True, False, False, False, True, False))\n",
      "(19.07502391238856, (False, True, False, False, False, False, True))\n",
      "(19.077947286314025, (False, True, False, True, False, True, False))\n",
      "(19.086128118177896, (False, True, False, True, False, False, False))\n",
      "(19.102170378659103, (False, True, False, True, True, False, False))\n",
      "(19.10667298930263, (False, True, False, True, True, False, True))\n",
      "(19.10740789804346, (False, True, False, False, True, False, False))\n",
      "(19.11078029887167, (False, True, False, True, True, True, True))\n",
      "(19.113187031892753, (False, True, False, True, True, True, False))\n",
      "(19.114818211911217, (False, True, False, False, True, False, True))\n",
      "(19.12264428909781, (False, True, False, False, True, True, False))\n",
      "(19.12374052706567, (False, True, False, False, True, True, True))\n",
      "(19.341797753431425, (False, False, False, True, False, False, True))\n",
      "(19.341936952597194, (False, False, False, False, False, False, True))\n",
      "(19.342210992315625, (False, False, False, True, False, True, True))\n",
      "(19.342340433465704, (False, False, False, False, False, True, True))\n",
      "(19.342758184965277, (False, False, False, True, False, False, False))\n",
      "(19.3445499010223, (False, False, False, True, False, True, False))\n",
      "(19.34462434349187, (False, False, False, False, False, True, False))\n",
      "(19.363101497460637, (False, False, False, False, True, False, False))\n",
      "(19.368307691858558, (False, False, False, False, True, False, True))\n",
      "(19.369030775513043, (False, False, False, True, True, False, False))\n",
      "(19.374665867139804, (False, False, False, False, True, True, False))\n",
      "(19.379519565340356, (False, False, False, False, True, True, True))\n",
      "(19.408923134478375, (False, False, False, True, True, True, False))\n",
      "(19.421008922011165, (False, False, False, True, True, False, True))\n",
      "(19.439306067885838, (False, False, False, True, True, True, True))\n"
     ]
    }
   ],
   "source": [
    "from itertools import product\n",
    "\n",
    "values = [False, True]\n",
    "results = []\n",
    "for permutation in list(product(values, repeat = 7)):\n",
    "    data = np.array([]).reshape(deliveryTimes.size, 0)\n",
    "    if permutation[0]:\n",
    "        data = np.concatenate((data, cityCoordAttribute), axis=1)\n",
    "    if permutation[1]:\n",
    "        data = np.concatenate((data, companyAttribute), axis=1)\n",
    "    if permutation[2]:\n",
    "        data = np.concatenate((data, dayAttribute), axis=1)\n",
    "    if permutation[3]:\n",
    "        data = np.concatenate((data, purchaseTimeAttribute), axis=1)\n",
    "    if permutation[4]:\n",
    "        data = np.concatenate((data, categoryAttribute), axis=1)\n",
    "    if permutation[5]:\n",
    "        data = np.concatenate((data, priceAttribute), axis=1)\n",
    "    if permutation[6]:\n",
    "        data = np.concatenate((data, priceAttributeLog), axis=1)\n",
    "    if data.shape[1] == 0:\n",
    "        continue\n",
    "    data = np.concatenate((data, deliveryTimes), axis = 1)\n",
    "\n",
    "    trainData, trainLabels, testData, testLabels = createDatasets(data, seed=0)\n",
    "    trainData, trainLabels, validData, validLabels = createDatasets(np.concatenate((trainData, trainLabels), axis=1), seed=0)\n",
    "\n",
    "    trainLinearRegression(trainData, trainLabels, 'base_model.pkl')\n",
    "    results.append((testLinearRegression(validData, validLabels, 'base_model.pkl'), permutation))\n",
    "    \n",
    "print(\"RMSE                (City, Company, Purchase day, Purchase time, Category, Price, Price log)\")\n",
    "results.sort()\n",
    "for result in results:\n",
    "    print(result)\n",
    "    if result[1] == (True, True, True, True, False, False, False):\n",
    "        print(\"=================================\")"
   ]
  },
  {
   "cell_type": "markdown",
   "metadata": {},
   "source": [
    "Zestaw atrybutów wybrany na etapie analizy danych uzyskał jeden z najlepszych wyników. Bardzo nieznacznie lepsze wyniki uzyskał model wykorzystujący dodatkowo cenę produktu. W testach architektury modelu docelowego pozostajemy przy podstawowym zestawie atrybutów, natomiast po uzyskaniu zadowalających wyników weryfikujemy jeszcze efekt wykorzystania w nim ceny jako atrybutu w jednej z dalszych sekcji. Model liniowy stworzony na podstawowym zestawie atrybutów zapisujemy do pliku jako model podstawowy."
   ]
  },
  {
   "cell_type": "code",
   "execution_count": 19,
   "metadata": {},
   "outputs": [
    {
     "name": "stdout",
     "output_type": "stream",
     "text": [
      "16.93890837536175\n"
     ]
    }
   ],
   "source": [
    "data = np.array([]).reshape(deliveryTimes.size, 0)\n",
    "data = np.concatenate((data, cityCoordAttribute), axis=1)\n",
    "data = np.concatenate((data, companyAttribute), axis=1)\n",
    "data = np.concatenate((data, dayAttribute), axis=1)\n",
    "data = np.concatenate((data, purchaseTimeAttribute), axis=1)\n",
    "data = np.concatenate((data, deliveryTimes), axis = 1)\n",
    "\n",
    "trainData, trainLabels, testData, testLabels = createDatasets(data, seed=0)\n",
    "\n",
    "trainLinearRegression(trainData, trainLabels, 'base_model.pkl')\n",
    "print((testLinearRegression(testData, testLabels, 'base_model.pkl')))"
   ]
  },
  {
   "cell_type": "markdown",
   "metadata": {},
   "source": [
    "Dokładność modelu liniowego jest znacząco lepsza od dokładności predykcji w postaci podania średniego czasu dostawy.\n",
    "\n",
    "Do pliku zapisujemy również zbiór testowy w celu wykorzystania tych danych do testów mikroserwisu implementującego eksperyment A/B. Dane te zapisujemy w formacie zgodnym z formatem danych wejściowych mikroserwisu."
   ]
  },
  {
   "cell_type": "code",
   "execution_count": 20,
   "metadata": {
    "scrolled": false
   },
   "outputs": [],
   "source": [
    "serviceTestData = []\n",
    "companyNames = pysqldf(\"SELECT delivery_company_id FROM extendedDataDF;\").to_numpy()\n",
    "distinctCompanyNames = np.unique(companyNames)\n",
    "dayNames = pysqldf(\"SELECT purchase_day_index FROM extendedDataDF;\").to_numpy()\n",
    "distinctDayNames = np.unique(dayNames)\n",
    "\n",
    "counter = 0\n",
    "for row in testData:\n",
    "    serviceInputData = []\n",
    "    for i in range(len(citiesCoordinatesDataArray)):\n",
    "        if citiesCoordinatesDataArray[i][0] == row[0] and citiesCoordinatesDataArray[i][1] == row[1]:\n",
    "            serviceInputData.append(cityDatabaseNames[i])\n",
    "            break\n",
    "    serviceInputData.append(distinctCompanyNames[np.where(row[2:5] == 1)[0][0]])\n",
    "    serviceInputData.append(distinctDayNames[np.where(row[5:12] == 1)[0][0]])\n",
    "    seconds = row[12]*24*3600 + 23*3600\n",
    "    serviceInputData.append(datetime.strftime(datetime.fromtimestamp(seconds), '%Y-%m-%d %H:%M:%S.%f'))\n",
    "    serviceInputData.append(testLabels[counter][0])\n",
    "    counter += 1\n",
    "    serviceTestData.append(serviceInputData)\n",
    "\n",
    "with open(\"testData.csv\", \"w\", newline=\"\") as f:\n",
    "    writer = csv.writer(f)\n",
    "    writer.writerows(serviceTestData)\n",
    "    "
   ]
  },
  {
   "cell_type": "markdown",
   "metadata": {},
   "source": [
    "# Model docelowy\n",
    "\n",
    "Jako model docelowy wykorzystujemy głęboką sieć neuronową. W celu znalezienia jak najlepszej architektury sieci korzystamy z biblioteki Keras do przetestowania wielu architektur i porównania ich wyników na zbiorze walidacyjnym.\n",
    "\n",
    "We wszystkich testach wykorzystujemy optymalizator Adam i podział zbioru na trenujący i walidacyjny w proporcji 4:1.\n",
    "\n",
    "W testach do oceny modelu wykorzystujemy wartość jego dokładności na zbiorze walidacyjnym uśrednioną z ostatnich 3 epok uczenia."
   ]
  },
  {
   "cell_type": "code",
   "execution_count": 21,
   "metadata": {},
   "outputs": [],
   "source": [
    "def plot_loss(history):\n",
    "    plt.plot(history.history['loss'], label='loss')\n",
    "    plt.plot(history.history['val_loss'], label='val_loss')\n",
    "    plt.ylim([0, 50])\n",
    "    plt.xlabel('Epoch')\n",
    "    plt.ylabel('Error [RMSE]')\n",
    "    plt.legend()\n",
    "    plt.grid(True)\n",
    "    plt.show()\n",
    "    val_loss = np.mean(history.history['val_loss'][-3:])\n",
    "    print(\"Validation loss: \"+str(val_loss))\n",
    "    return val_loss\n",
    "\n",
    "\n",
    "    \n",
    "def test_model(model, epochs=10, verbose=1):\n",
    "    model.compile(loss=root_mean_squared_error,\n",
    "              optimizer=tf.keras.optimizers.Adam(0.001))\n",
    "    return model.fit(trainData, trainLabels, validation_split=0.2, epochs=epochs, verbose=verbose)"
   ]
  },
  {
   "cell_type": "markdown",
   "metadata": {},
   "source": [
    "## Jedna warstwa ukryta\n",
    "\n",
    "Zaczynamy od prostszych modeli z jedną warstwą ukrytą. W początkowych testach wykorzystujemy aktywację ReLU i trenujemy przez 10 epok."
   ]
  },
  {
   "cell_type": "code",
   "execution_count": 29,
   "metadata": {},
   "outputs": [
    {
     "name": "stdout",
     "output_type": "stream",
     "text": [
      "Layer size\tParams\tResult\n",
      "128\t\t1921\t16.226683298746746\n",
      "512\t\t7681\t15.860711097717285\n",
      "2048\t\t30721\t15.175713539123535\n",
      "8192\t\t122881\t14.652425765991211\n",
      "32768\t\t491521\t13.250128746032715\n",
      "131072\t\t1966081\t12.676013628641764\n",
      "524288\t\t7864321\t12.655033111572266\n"
     ]
    },
    {
     "data": {
      "image/png": "[encoded data removed]",
      "text/plain": [
       "<Figure size 432x288 with 1 Axes>"
      ]
     },
     "metadata": {
      "needs_background": "light"
     },
     "output_type": "display_data"
    }
   ],
   "source": [
    "sizes = [128, 512, 2048, 8192, 32768, 131072, 524288]\n",
    "params = []\n",
    "results = []\n",
    "\n",
    "print(\"Layer size\\tParams\\tResult\")\n",
    "for layerSize in sizes:\n",
    "    result = 30\n",
    "    epochs = 10\n",
    "    while result > 20:\n",
    "        model = keras.Sequential()\n",
    "        model.add(keras.Input(shape=(trainData.shape[1],)))\n",
    "        model.add(layers.Dense(layerSize, activation=\"relu\"))\n",
    "        model.add(layers.Dense(1, activation=\"relu\"))\n",
    "        history = test_model(model, epochs, verbose=0)\n",
    "        result = np.mean(history.history['val_loss'][-3:])\n",
    "    results.append(result)\n",
    "    trainable_count = count_params(model.trainable_weights)\n",
    "    params.append(trainable_count)\n",
    "    print(str(layerSize)+\"\\t\\t\"+str(params[-1])+\"\\t\"+str(results[-1]))\n",
    "\n",
    "plt.plot(params, results)\n",
    "plt.xlabel(\"Number of parameters\")\n",
    "plt.xscale(\"log\")\n",
    "plt.ylabel(\"Validation loss\")\n",
    "plt.show()"
   ]
  },
  {
   "cell_type": "markdown",
   "metadata": {},
   "source": [
    "Model z jedną warstwą ukrytą poprawia swoją dokładność wraz ze wzrostem liczby parametrów. Brak widocznej poprawy pomiędzy największym i drugim najwększym modelem może wskazywać na uzyskanie wyniku bliskiego granicy możliwości powyższej architektury, jednak by to potwierdzić należałoby rozszerzyć powyższy eksperyment."
   ]
  },
  {
   "cell_type": "markdown",
   "metadata": {},
   "source": [
    "## Dwie warstwy ukryte\n",
    "\n",
    "W kolejnym kroku tworzymy analizę architektur modeli z dwoma warstwami ukrytymi w postaci pełnego przeszukania kombinacji rozmiarów warstw z wybranego zakresu o rozmiarach będących potęgą 2."
   ]
  },
  {
   "cell_type": "code",
   "execution_count": 30,
   "metadata": {
    "scrolled": false
   },
   "outputs": [
    {
     "name": "stdout",
     "output_type": "stream",
     "text": [
      "Layer 1 size\tLayer 2 size\tParams\t\tResult\n",
      "128\t\t128\t\t18433\t\t15.471370379130045\n",
      "128\t\t256\t\t35073\t\t15.077158292134603\n",
      "128\t\t512\t\t68353\t\t14.789669672648111\n",
      "128\t\t1024\t\t134913\t\t14.119227409362793\n",
      "128\t\t2048\t\t268033\t\t12.503009478251139\n",
      "256\t\t128\t\t36609\t\t14.99842103322347\n",
      "256\t\t256\t\t69633\t\t13.960763613382975\n",
      "256\t\t512\t\t135681\t\t13.54613971710205\n",
      "256\t\t1024\t\t267777\t\t13.007824579874674\n",
      "256\t\t2048\t\t531969\t\t12.746737162272135\n",
      "512\t\t128\t\t72961\t\t13.5768404006958\n",
      "512\t\t256\t\t138753\t\t13.368748346964518\n",
      "512\t\t512\t\t270337\t\t12.978005091349283\n",
      "512\t\t1024\t\t533505\t\t12.773096720377604\n",
      "512\t\t2048\t\t1059841\t\t12.054647445678711\n",
      "1024\t\t128\t\t145665\t\t13.326498667399088\n",
      "1024\t\t256\t\t276993\t\t13.2479829788208\n",
      "1024\t\t512\t\t539649\t\t12.264057159423828\n",
      "1024\t\t1024\t\t1064961\t\t11.988823572794596\n",
      "1024\t\t2048\t\t2115585\t\t11.84748395284017\n",
      "2048\t\t128\t\t291073\t\t12.401892026265463\n",
      "2048\t\t256\t\t553473\t\t12.162149747212728\n",
      "2048\t\t512\t\t1078273\t\t11.984061241149902\n",
      "2048\t\t1024\t\t2127873\t\t12.092830022176107\n",
      "2048\t\t2048\t\t4227073\t\t12.02822240193685\n"
     ]
    }
   ],
   "source": [
    "sizes = [128, 256, 512, 1024, 2048]\n",
    "params = []\n",
    "results = []\n",
    "\n",
    "print(\"Layer 1 size\\tLayer 2 size\\tParams\\t\\tResult\")\n",
    "for layerSize1 in sizes:\n",
    "    layerParams = []\n",
    "    layerResults = []\n",
    "    for layerSize2 in sizes:\n",
    "        result = 30\n",
    "        epochs = 10\n",
    "        while result > 20:\n",
    "            model = keras.Sequential()\n",
    "            model.add(keras.Input(shape=(trainData.shape[1],)))\n",
    "            model.add(layers.Dense(layerSize1, activation=\"relu\"))\n",
    "            model.add(layers.Dense(layerSize2, activation=\"relu\"))\n",
    "            model.add(layers.Dense(1, activation=\"relu\"))\n",
    "            history = test_model(model, epochs, verbose=0)\n",
    "            result = np.mean(history.history['val_loss'][-3:])\n",
    "        layerResults.append(result)\n",
    "        trainable_count = count_params(model.trainable_weights)\n",
    "        layerParams.append(trainable_count)\n",
    "        print(str(layerSize1)+\"\\t\\t\"+str(layerSize2)+\"\\t\\t\"+str(layerParams[-1])+\"\\t\\t\"+str(layerResults[-1]))\n",
    "    params.append(layerParams)\n",
    "    results.append(layerResults)"
   ]
  },
  {
   "cell_type": "code",
   "execution_count": 31,
   "metadata": {},
   "outputs": [
    {
     "data": {
      "image/png": "[encoded data removed]",
      "text/plain": [
       "<Figure size 1008x864 with 1 Axes>"
      ]
     },
     "metadata": {
      "needs_background": "light"
     },
     "output_type": "display_data"
    }
   ],
   "source": [
    "fig, ax = plt.subplots()\n",
    "fig.set_size_inches(14, 12)\n",
    "ax.scatter(params, results)\n",
    "\n",
    "for i in range(len(sizes)):\n",
    "    for j in range(len(sizes)):\n",
    "        ax.annotate(\"(\"+str(sizes[i])+\", \"+str(sizes[j])+\")\", (params[i][j], results[i][j]))\n",
    "\n",
    "plt.xlabel(\"Number of trainable parameters\")\n",
    "plt.ylabel(\"Validation loss\")\n",
    "plt.show()"
   ]
  },
  {
   "cell_type": "markdown",
   "metadata": {},
   "source": [
    "Z dwiema warstwami ukrytymi w sieci i podobną liczbą parametrów co w największych modelach z poprzedniego eksperymentu udało się zejść do wartości błędu RMSE poniżej 12.\n",
    "\n",
    "Analiza pozwala na wysnucie wniosku, że przy podobnej liczbie parametrów architektura z dwiema warstwami osiąga zdecydowanie lepszy wynik od architektury z jedną warstwą. Wśród przetestowanych modeli wyróżniają się modele o rozmiarach warstw 1024, 1024 i 1024, 2048, jako modele ze stratą ponizej 12 i mniejszą liczbą parametrów.\n",
    "\n",
    "W kolejnym kroku rozszerzamy najlepsze modele o kolejne warstwy, by sprawdzić czy możemy jeszcze zwiększyć ich dokładność. Wprowadzamy regularyzację poprzez warstwy Dropout i trenujemy dłużej - przez 20 epok."
   ]
  },
  {
   "cell_type": "code",
   "execution_count": 32,
   "metadata": {},
   "outputs": [
    {
     "data": {
      "image/png": "[encoded data removed]",
      "text/plain": [
       "<Figure size 432x288 with 1 Axes>"
      ]
     },
     "metadata": {
      "needs_background": "light"
     },
     "output_type": "display_data"
    },
    {
     "name": "stdout",
     "output_type": "stream",
     "text": [
      "Validation loss: 11.830426851908365\n"
     ]
    },
    {
     "data": {
      "image/png": "[encoded data removed]",
      "text/plain": [
       "<Figure size 432x288 with 1 Axes>"
      ]
     },
     "metadata": {
      "needs_background": "light"
     },
     "output_type": "display_data"
    },
    {
     "name": "stdout",
     "output_type": "stream",
     "text": [
      "Validation loss: 11.788335800170898\n"
     ]
    },
    {
     "data": {
      "image/png": "[encoded data removed]",
      "text/plain": [
       "<Figure size 432x288 with 1 Axes>"
      ]
     },
     "metadata": {
      "needs_background": "light"
     },
     "output_type": "display_data"
    },
    {
     "name": "stdout",
     "output_type": "stream",
     "text": [
      "Validation loss: 11.961400667826334\n"
     ]
    },
    {
     "data": {
      "text/plain": [
       "11.961400667826334"
      ]
     },
     "execution_count": 32,
     "metadata": {},
     "output_type": "execute_result"
    }
   ],
   "source": [
    "model = keras.Sequential()\n",
    "model.add(keras.Input(shape=(trainData.shape[1],)))\n",
    "model.add(layers.Dense(1024, activation=\"relu\"))\n",
    "model.add(layers.Dropout(0.2))\n",
    "model.add(layers.Dense(2048, activation=\"relu\"))\n",
    "model.add(layers.Dropout(0.2))\n",
    "model.add(layers.Dense(512, activation=\"relu\"))\n",
    "model.add(layers.Dropout(0.2))\n",
    "model.add(layers.Dense(128, activation=\"relu\"))\n",
    "model.add(layers.Dropout(0.2))\n",
    "model.add(layers.Dense(1, activation=\"relu\"))\n",
    "plot_loss(test_model(model, epochs=20, verbose=0))\n",
    "      \n",
    "model = keras.Sequential()\n",
    "model.add(keras.Input(shape=(trainData.shape[1],)))\n",
    "model.add(layers.Dense(1024, activation=\"relu\"))\n",
    "model.add(layers.Dropout(0.2))\n",
    "model.add(layers.Dense(2048, activation=\"relu\"))\n",
    "model.add(layers.Dropout(0.2))\n",
    "model.add(layers.Dense(1024, activation=\"relu\"))\n",
    "model.add(layers.Dropout(0.2))\n",
    "model.add(layers.Dense(256, activation=\"relu\"))\n",
    "model.add(layers.Dropout(0.2))\n",
    "model.add(layers.Dense(1, activation=\"relu\"))\n",
    "plot_loss(test_model(model, epochs=20, verbose=0))\n",
    "      \n",
    "model = keras.Sequential()\n",
    "model.add(keras.Input(shape=(trainData.shape[1],)))\n",
    "model.add(layers.Dense(1024, activation=\"relu\"))\n",
    "model.add(layers.Dropout(0.2))\n",
    "model.add(layers.Dense(1024, activation=\"relu\"))\n",
    "model.add(layers.Dropout(0.2))\n",
    "model.add(layers.Dense(1024, activation=\"relu\"))\n",
    "model.add(layers.Dropout(0.2))\n",
    "model.add(layers.Dense(128, activation=\"relu\"))\n",
    "model.add(layers.Dropout(0.2))\n",
    "model.add(layers.Dense(1, activation=\"relu\"))\n",
    "plot_loss(test_model(model, epochs=20, verbose=0))"
   ]
  },
  {
   "cell_type": "markdown",
   "metadata": {},
   "source": [
    "Nieco lepszy od pozostałych jest drugi model. Nieznacznie poprawia on najlepszą uzyskaną dotychczas dokładność. Wykorzystujemy go do oceny kilku funkcji aktywacji innych od ReLU."
   ]
  },
  {
   "cell_type": "code",
   "execution_count": 39,
   "metadata": {},
   "outputs": [
    {
     "data": {
      "image/png": "[encoded data removed]",
      "text/plain": [
       "<Figure size 432x288 with 1 Axes>"
      ]
     },
     "metadata": {
      "needs_background": "light"
     },
     "output_type": "display_data"
    },
    {
     "name": "stdout",
     "output_type": "stream",
     "text": [
      "Validation loss: 18.97125816345215\n"
     ]
    },
    {
     "data": {
      "text/plain": [
       "18.97125816345215"
      ]
     },
     "execution_count": 39,
     "metadata": {},
     "output_type": "execute_result"
    }
   ],
   "source": [
    "model = keras.Sequential()\n",
    "model.add(keras.Input(shape=(trainData.shape[1],)))\n",
    "model.add(layers.Dense(1024, activation=\"sigmoid\"))\n",
    "model.add(layers.Dropout(0.2))\n",
    "model.add(layers.Dense(2048, activation=\"sigmoid\"))\n",
    "model.add(layers.Dropout(0.2))\n",
    "model.add(layers.Dense(1024, activation=\"sigmoid\"))\n",
    "model.add(layers.Dropout(0.2))\n",
    "model.add(layers.Dense(256, activation=\"sigmoid\"))\n",
    "model.add(layers.Dropout(0.2))\n",
    "model.add(layers.Dense(1, activation=\"relu\"))\n",
    "plot_loss(test_model(model, epochs=20, verbose=0))"
   ]
  },
  {
   "cell_type": "code",
   "execution_count": 40,
   "metadata": {},
   "outputs": [
    {
     "data": {
      "image/png": "[encoded data removed]",
      "text/plain": [
       "<Figure size 432x288 with 1 Axes>"
      ]
     },
     "metadata": {
      "needs_background": "light"
     },
     "output_type": "display_data"
    },
    {
     "name": "stdout",
     "output_type": "stream",
     "text": [
      "Validation loss: 18.96885617574056\n"
     ]
    },
    {
     "data": {
      "text/plain": [
       "18.96885617574056"
      ]
     },
     "execution_count": 40,
     "metadata": {},
     "output_type": "execute_result"
    }
   ],
   "source": [
    "model = keras.Sequential()\n",
    "model.add(keras.Input(shape=(trainData.shape[1],)))\n",
    "model.add(layers.Dense(1024, activation=\"tanh\"))\n",
    "model.add(layers.Dropout(0.2))\n",
    "model.add(layers.Dense(2048, activation=\"tanh\"))\n",
    "model.add(layers.Dropout(0.2))\n",
    "model.add(layers.Dense(1024, activation=\"tanh\"))\n",
    "model.add(layers.Dropout(0.2))\n",
    "model.add(layers.Dense(256, activation=\"tanh\"))\n",
    "model.add(layers.Dropout(0.2))\n",
    "model.add(layers.Dense(1, activation=\"relu\"))\n",
    "plot_loss(test_model(model, epochs=20, verbose=0))"
   ]
  },
  {
   "cell_type": "code",
   "execution_count": 41,
   "metadata": {},
   "outputs": [
    {
     "data": {
      "image/png": "[encoded data removed]",
      "text/plain": [
       "<Figure size 432x288 with 1 Axes>"
      ]
     },
     "metadata": {
      "needs_background": "light"
     },
     "output_type": "display_data"
    },
    {
     "name": "stdout",
     "output_type": "stream",
     "text": [
      "Validation loss: 12.258037885030111\n"
     ]
    },
    {
     "data": {
      "text/plain": [
       "12.258037885030111"
      ]
     },
     "execution_count": 41,
     "metadata": {},
     "output_type": "execute_result"
    }
   ],
   "source": [
    "model = keras.Sequential()\n",
    "model.add(keras.Input(shape=(trainData.shape[1],)))\n",
    "model.add(layers.Dense(1024))\n",
    "model.add(layers.LeakyReLU(alpha=0.1))\n",
    "model.add(layers.Dropout(0.2))\n",
    "model.add(layers.Dense(2048))\n",
    "model.add(layers.LeakyReLU(alpha=0.1))\n",
    "model.add(layers.Dropout(0.2))\n",
    "model.add(layers.Dense(1024))\n",
    "model.add(layers.LeakyReLU(alpha=0.1))\n",
    "model.add(layers.Dropout(0.2))\n",
    "model.add(layers.Dense(256))\n",
    "model.add(layers.LeakyReLU(alpha=0.1))\n",
    "model.add(layers.Dropout(0.2))\n",
    "model.add(layers.Dense(1, activation=\"relu\"))\n",
    "plot_loss(test_model(model, epochs=20, verbose=0))"
   ]
  },
  {
   "cell_type": "markdown",
   "metadata": {},
   "source": [
    "O ile model z funkcjami sigmoid i tanh uzyskał bardzo zły wynik, model z funkcją leaky ReLU uzyskał wynik zbliżony do najlepszego. Nadal był on jednak gorszy od uzyskanego z funkcją ReLU, dalej korzystamy zatem z tej funkcji."
   ]
  },
  {
   "cell_type": "markdown",
   "metadata": {},
   "source": [
    "## Weryfikacja korzyści z uwzględnienia ceny produktu\n",
    "\n",
    "W kolejnym kroku sprawdzamy wpływ dodania ceny produktu do modelu. Mimo że nie wybraliśmy tego atrybutu na etapie analizy danych, regresja liniowa wskazała na możliwość uzyskania niewielkiej poprawy dokładności modelu po uwzględnieniu tego atrybutu."
   ]
  },
  {
   "cell_type": "code",
   "execution_count": 42,
   "metadata": {},
   "outputs": [
    {
     "data": {
      "image/png": "[encoded data removed]",
      "text/plain": [
       "<Figure size 432x288 with 1 Axes>"
      ]
     },
     "metadata": {
      "needs_background": "light"
     },
     "output_type": "display_data"
    },
    {
     "name": "stdout",
     "output_type": "stream",
     "text": [
      "Validation loss: 12.05837631225586\n"
     ]
    },
    {
     "data": {
      "text/plain": [
       "12.05837631225586"
      ]
     },
     "execution_count": 42,
     "metadata": {},
     "output_type": "execute_result"
    }
   ],
   "source": [
    "data = np.array([]).reshape(deliveryTimes.size, 0)\n",
    "data = np.concatenate((data, cityCoordAttribute), axis=1)\n",
    "data = np.concatenate((data, companyAttribute), axis=1)\n",
    "data = np.concatenate((data, dayAttribute), axis=1)\n",
    "data = np.concatenate((data, purchaseTimeAttribute), axis=1)\n",
    "data = np.concatenate((data, priceAttributeLog), axis=1)\n",
    "data = np.concatenate((data, deliveryTimes), axis = 1)\n",
    "trainData, trainLabels, testData, testLabels = createDatasets(data, seed=0)\n",
    "\n",
    "model = keras.Sequential()\n",
    "model.add(keras.Input(shape=(trainData.shape[1],)))\n",
    "model.add(layers.Dense(1024, activation=\"relu\"))\n",
    "model.add(layers.Dropout(0.2))\n",
    "model.add(layers.Dense(2048, activation=\"relu\"))\n",
    "model.add(layers.Dropout(0.2))\n",
    "model.add(layers.Dense(1024, activation=\"relu\"))\n",
    "model.add(layers.Dropout(0.2))\n",
    "model.add(layers.Dense(256, activation=\"relu\"))\n",
    "model.add(layers.Dropout(0.2))\n",
    "model.add(layers.Dense(1, activation=\"relu\"))\n",
    "plot_loss(test_model(model, epochs=20, verbose=0))"
   ]
  },
  {
   "cell_type": "markdown",
   "metadata": {},
   "source": [
    "Jak widać wykorzystanie ceny w modelu nie poprawia uzyskanego wyniku. Potwierdza to wnioski wysnute na etapie analizy danych. Wracamy zatem do pierwotnie wybranych atrybutów."
   ]
  },
  {
   "cell_type": "code",
   "execution_count": 43,
   "metadata": {},
   "outputs": [],
   "source": [
    "data = np.array([]).reshape(deliveryTimes.size, 0)\n",
    "data = np.concatenate((data, cityCoordAttribute), axis=1)\n",
    "data = np.concatenate((data, companyAttribute), axis=1)\n",
    "data = np.concatenate((data, dayAttribute), axis=1)\n",
    "data = np.concatenate((data, purchaseTimeAttribute), axis=1)\n",
    "data = np.concatenate((data, deliveryTimes), axis = 1)\n",
    "trainData, trainLabels, testData, testLabels = createDatasets(data, seed=0)"
   ]
  },
  {
   "cell_type": "markdown",
   "metadata": {},
   "source": [
    "## Wybór modelu docelowego\n",
    "\n",
    "W ostatnim kroku sprawdzamy dokładność modeli powstałych przez dalsze pogłębienie lub poszerzenie najlepszego modelu. Porównujemy je z dotychczas najlepszym modelem, i wśród nich wybieramy najlepszy jako model docelowy."
   ]
  },
  {
   "cell_type": "code",
   "execution_count": 45,
   "metadata": {
    "scrolled": false
   },
   "outputs": [
    {
     "name": "stdout",
     "output_type": "stream",
     "text": [
      "Trainable params: 4474369\n"
     ]
    },
    {
     "data": {
      "image/png": "[encoded data removed]",
      "text/plain": [
       "<Figure size 432x288 with 1 Axes>"
      ]
     },
     "metadata": {
      "needs_background": "light"
     },
     "output_type": "display_data"
    },
    {
     "name": "stdout",
     "output_type": "stream",
     "text": [
      "Validation loss: 11.797821998596191\n",
      "Trainable params: 4490625\n"
     ]
    },
    {
     "data": {
      "image/png": "[encoded data removed]",
      "text/plain": [
       "<Figure size 432x288 with 1 Axes>"
      ]
     },
     "metadata": {
      "needs_background": "light"
     },
     "output_type": "display_data"
    },
    {
     "name": "stdout",
     "output_type": "stream",
     "text": [
      "Validation loss: 11.685047467549643\n",
      "Trainable params: 7424769\n"
     ]
    },
    {
     "data": {
      "image/png": "[encoded data removed]",
      "text/plain": [
       "<Figure size 432x288 with 1 Axes>"
      ]
     },
     "metadata": {
      "needs_background": "light"
     },
     "output_type": "display_data"
    },
    {
     "name": "stdout",
     "output_type": "stream",
     "text": [
      "Validation loss: 11.851940790812174\n",
      "Trainable params: 10650881\n"
     ]
    },
    {
     "data": {
      "image/png": "[encoded data removed]",
      "text/plain": [
       "<Figure size 432x288 with 1 Axes>"
      ]
     },
     "metadata": {
      "needs_background": "light"
     },
     "output_type": "display_data"
    },
    {
     "name": "stdout",
     "output_type": "stream",
     "text": [
      "Validation loss: 11.945228894551596\n"
     ]
    },
    {
     "data": {
      "text/plain": [
       "11.945228894551596"
      ]
     },
     "execution_count": 45,
     "metadata": {},
     "output_type": "execute_result"
    }
   ],
   "source": [
    "model0 = keras.Sequential()\n",
    "model0.add(keras.Input(shape=(trainData.shape[1],)))\n",
    "model0.add(layers.Dense(1024, activation=\"relu\"))\n",
    "model0.add(layers.Dropout(0.2))\n",
    "model0.add(layers.Dense(2048, activation=\"relu\"))\n",
    "model0.add(layers.Dropout(0.2))\n",
    "model0.add(layers.Dense(1024, activation=\"relu\"))\n",
    "model0.add(layers.Dropout(0.2))\n",
    "model0.add(layers.Dense(256, activation=\"relu\"))\n",
    "model0.add(layers.Dropout(0.2))\n",
    "model0.add(layers.Dense(1, activation=\"relu\"))\n",
    "print(\"Trainable params: \"+str(count_params(model0.trainable_weights)))\n",
    "plot_loss(test_model(model0, epochs=20, verbose=0))\n",
    "\n",
    "model1 = keras.Sequential()\n",
    "model1.add(keras.Input(shape=(trainData.shape[1],)))\n",
    "model1.add(layers.Dense(1024, activation=\"relu\"))\n",
    "model1.add(layers.Dropout(0.2))\n",
    "model1.add(layers.Dense(2048, activation=\"relu\"))\n",
    "model1.add(layers.Dropout(0.2))\n",
    "model1.add(layers.Dense(1024, activation=\"relu\"))\n",
    "model1.add(layers.Dropout(0.2))\n",
    "model1.add(layers.Dense(256, activation=\"relu\"))\n",
    "model1.add(layers.Dropout(0.2))\n",
    "model1.add(layers.Dense(64, activation=\"relu\"))\n",
    "model1.add(layers.Dropout(0.2))\n",
    "model1.add(layers.Dense(1, activation=\"relu\"))\n",
    "print(\"Trainable params: \"+str(count_params(model1.trainable_weights)))\n",
    "plot_loss(test_model(model1, epochs=20, verbose=0))\n",
    "\n",
    "model2 = keras.Sequential()\n",
    "model2.add(keras.Input(shape=(trainData.shape[1],)))\n",
    "model2.add(layers.Dense(1024, activation=\"relu\"))\n",
    "model2.add(layers.Dropout(0.2))\n",
    "model2.add(layers.Dense(2048, activation=\"relu\"))\n",
    "model2.add(layers.Dropout(0.2))\n",
    "model2.add(layers.Dense(2048, activation=\"relu\"))\n",
    "model2.add(layers.Dropout(0.2))\n",
    "model2.add(layers.Dense(512, activation=\"relu\"))\n",
    "model2.add(layers.Dropout(0.2))\n",
    "model2.add(layers.Dense(128, activation=\"relu\"))\n",
    "model2.add(layers.Dropout(0.2))\n",
    "model2.add(layers.Dense(1, activation=\"relu\"))\n",
    "print(\"Trainable params: \"+str(count_params(model2.trainable_weights)))\n",
    "plot_loss(test_model(model2, epochs=20, verbose=0))\n",
    "\n",
    "model3 = keras.Sequential()\n",
    "model3.add(keras.Input(shape=(trainData.shape[1],)))\n",
    "model3.add(layers.Dense(2048, activation=\"relu\"))\n",
    "model3.add(layers.Dropout(0.2))\n",
    "model3.add(layers.Dense(2048, activation=\"relu\"))\n",
    "model3.add(layers.Dropout(0.2))\n",
    "model3.add(layers.Dense(2048, activation=\"relu\"))\n",
    "model3.add(layers.Dropout(0.2))\n",
    "model3.add(layers.Dense(1024, activation=\"relu\"))\n",
    "model3.add(layers.Dropout(0.2))\n",
    "model3.add(layers.Dense(128, activation=\"relu\"))\n",
    "model3.add(layers.Dropout(0.2))\n",
    "model3.add(layers.Dense(1, activation=\"relu\"))\n",
    "print(\"Trainable params: \"+str(count_params(model3.trainable_weights)))\n",
    "plot_loss(test_model(model3, epochs=20, verbose=0))"
   ]
  },
  {
   "cell_type": "markdown",
   "metadata": {},
   "source": [
    "Z powyższych modeli najlepszy jest model 1, który uzyskał najmniejszą stratę mimo znacznie mniejszego rozmiaru od modelu 2 i 3. Wybieramy zatem model 1 i zapisujemy go do pliku."
   ]
  },
  {
   "cell_type": "code",
   "execution_count": 46,
   "metadata": {},
   "outputs": [
    {
     "name": "stdout",
     "output_type": "stream",
     "text": [
      "WARNING:tensorflow:From /home/piotr/anaconda3/lib/python3.8/site-packages/tensorflow/python/ops/resource_variable_ops.py:1813: calling BaseResourceVariable.__init__ (from tensorflow.python.ops.resource_variable_ops) with constraint is deprecated and will be removed in a future version.\n",
      "Instructions for updating:\n",
      "If using Keras pass *_constraint arguments to layers.\n",
      "INFO:tensorflow:Assets written to: full_model/assets\n"
     ]
    }
   ],
   "source": [
    "model1.save('full_model')"
   ]
  },
  {
   "cell_type": "markdown",
   "metadata": {},
   "source": [
    "# Test stworzonych modeli\n",
    "\n",
    "Po zbudowaniu modeli bazowego i docelowego sprawdzamy ich dokładność na zbiorze testowym."
   ]
  },
  {
   "cell_type": "markdown",
   "metadata": {},
   "source": [
    "## Model liniowy"
   ]
  },
  {
   "cell_type": "code",
   "execution_count": 47,
   "metadata": {},
   "outputs": [
    {
     "name": "stdout",
     "output_type": "stream",
     "text": [
      "16.93890837536175\n"
     ]
    }
   ],
   "source": [
    "print((testLinearRegression(testData, testLabels, 'base_model.pkl')))"
   ]
  },
  {
   "cell_type": "markdown",
   "metadata": {},
   "source": [
    "## Model docelowy"
   ]
  },
  {
   "cell_type": "code",
   "execution_count": 48,
   "metadata": {},
   "outputs": [
    {
     "name": "stdout",
     "output_type": "stream",
     "text": [
      "11.646662063131638\n"
     ]
    }
   ],
   "source": [
    "print(tf.get_static_value(root_mean_squared_error(predict_from_file('full_model', testData, True), testLabels)))"
   ]
  },
  {
   "cell_type": "markdown",
   "metadata": {},
   "source": [
    "Ostateczny wynik modelu docelowego to RMSE poniżej 12. Nie udało się zredukować błędu do okolicy założonych na etapie analizy danych 4.4 godzin - dane najprawdopodobniej nie pozwalają na przewidywanie czasu dostawy z taką dokładnością. Zastosowanie modelu docelowego i tak pozwala na osiągnięcie dokładności predykcji dużo lepszej od błędu względem podawania średniego czasu dostawy oraz prostego modelu liniowego."
   ]
  }
 ],
 "metadata": {
  "kernelspec": {
   "display_name": "Python 3",
   "language": "python",
   "name": "python3"
  },
  "language_info": {
   "codemirror_mode": {
    "name": "ipython",
    "version": 3
   },
   "file_extension": ".py",
   "mimetype": "text/x-python",
   "name": "python",
   "nbconvert_exporter": "python",
   "pygments_lexer": "ipython3",
   "version": "3.8.5"
  }
 },
 "nbformat": 4,
 "nbformat_minor": 4
}
