{
 "cells": [
  {
   "cell_type": "markdown",
   "metadata": {},
   "source": [
    "# Model\n",
    "\n",
    "W procesie modelowania tworzymy dwa modele, bazowy i docelowy."
   ]
  },
  {
   "cell_type": "markdown",
   "metadata": {},
   "source": [
    "## Wczytanie danych"
   ]
  },
  {
   "cell_type": "code",
   "execution_count": 1,
   "metadata": {},
   "outputs": [
    {
     "name": "stdout",
     "output_type": "stream",
     "text": [
      "Requirement already satisfied: pandasql in /home/piotr/anaconda3/lib/python3.8/site-packages (0.7.3)\n",
      "Requirement already satisfied: sqlalchemy in /home/piotr/anaconda3/lib/python3.8/site-packages (from pandasql) (1.3.20)\n",
      "Requirement already satisfied: pandas in /home/piotr/anaconda3/lib/python3.8/site-packages (from pandasql) (1.1.3)\n",
      "Requirement already satisfied: numpy in /home/piotr/anaconda3/lib/python3.8/site-packages (from pandasql) (1.19.2)\n",
      "Requirement already satisfied: pytz>=2017.2 in /home/piotr/anaconda3/lib/python3.8/site-packages (from pandas->pandasql) (2020.1)\n",
      "Requirement already satisfied: python-dateutil>=2.7.3 in /home/piotr/anaconda3/lib/python3.8/site-packages (from pandas->pandasql) (2.8.1)\n",
      "Requirement already satisfied: six>=1.5 in /home/piotr/anaconda3/lib/python3.8/site-packages (from python-dateutil>=2.7.3->pandas->pandasql) (1.15.0)\n",
      "Note: you may need to restart the kernel to use updated packages.\n"
     ]
    }
   ],
   "source": [
    "#installs pandasql within jupyter kernel\n",
    "%pip install pandasql"
   ]
  },
  {
   "cell_type": "code",
   "execution_count": 2,
   "metadata": {},
   "outputs": [],
   "source": [
    "import matplotlib.pyplot as plt\n",
    "import numpy as np\n",
    "import json\n",
    "from datetime import datetime\n",
    "import time\n",
    "import pandas as pd\n",
    "from pandasql import sqldf\n",
    "import csv"
   ]
  },
  {
   "cell_type": "code",
   "execution_count": 3,
   "metadata": {},
   "outputs": [],
   "source": [
    "dataPath = \"IUM21L_Zad_03_02_v2\"\n",
    "citiesPath = \"cities.csv\""
   ]
  },
  {
   "cell_type": "code",
   "execution_count": 4,
   "metadata": {},
   "outputs": [],
   "source": [
    "deliveriesFile = open(dataPath + \"/deliveries.jsonl\", \"r\")\n",
    "productsFile = open(dataPath + \"/products.jsonl\", \"r\")\n",
    "sessionsFile = open(dataPath + \"/sessions.jsonl\", \"r\")\n",
    "usersFile = open(dataPath + \"/users.jsonl\", \"r\")\n",
    "\n",
    "deliveries = [json.loads(jline) for jline in deliveriesFile.read().splitlines()]\n",
    "products = [json.loads(jline) for jline in productsFile.read().splitlines()]\n",
    "sessions = [json.loads(jline) for jline in sessionsFile.read().splitlines()]\n",
    "users = [json.loads(jline) for jline in usersFile.read().splitlines()]\n",
    "\n",
    "deliveriesDF = pd.DataFrame.from_dict(deliveries)\n",
    "productsDF = pd.DataFrame.from_dict(products)\n",
    "sessionsDF = pd.DataFrame.from_dict(sessions)\n",
    "usersDF = pd.DataFrame.from_dict(users)\n",
    "\n",
    "pysqldf = lambda q: sqldf(q, globals())\n",
    "dataDF = pysqldf(\"SELECT * FROM sessionsDF s JOIN deliveriesDF d ON s.purchase_id = d.purchase_id JOIN productsDF p ON s.product_id = p.product_id JOIN usersDF u ON s.user_id = u.user_id;\")\n",
    "projectedDataDF = pysqldf(\"SELECT purchase_timestamp, delivery_timestamp, delivery_company, offered_discount, product_name, price, category_path, name, city, street FROM dataDF;\")"
   ]
  },
  {
   "cell_type": "code",
   "execution_count": 5,
   "metadata": {
    "scrolled": false
   },
   "outputs": [
    {
     "data": {
      "text/html": [
       "<div>\n",
       "<style scoped>\n",
       "    .dataframe tbody tr th:only-of-type {\n",
       "        vertical-align: middle;\n",
       "    }\n",
       "\n",
       "    .dataframe tbody tr th {\n",
       "        vertical-align: top;\n",
       "    }\n",
       "\n",
       "    .dataframe thead th {\n",
       "        text-align: right;\n",
       "    }\n",
       "</style>\n",
       "<table border=\"1\" class=\"dataframe\">\n",
       "  <thead>\n",
       "    <tr style=\"text-align: right;\">\n",
       "      <th></th>\n",
       "      <th>purchase_timestamp</th>\n",
       "      <th>delivery_timestamp</th>\n",
       "      <th>delivery_company</th>\n",
       "      <th>offered_discount</th>\n",
       "      <th>product_name</th>\n",
       "      <th>price</th>\n",
       "      <th>category_path</th>\n",
       "      <th>name</th>\n",
       "      <th>city</th>\n",
       "      <th>street</th>\n",
       "    </tr>\n",
       "  </thead>\n",
       "  <tbody>\n",
       "    <tr>\n",
       "      <th>0</th>\n",
       "      <td>2021-04-01T15:52:47</td>\n",
       "      <td>2021-04-02T14:06:34.432964</td>\n",
       "      <td>620</td>\n",
       "      <td>0</td>\n",
       "      <td>Sony DVP-SR760</td>\n",
       "      <td>193.00</td>\n",
       "      <td>Sprzęt RTV;Video;Odtwarzacze DVD</td>\n",
       "      <td>Aurelia Malon</td>\n",
       "      <td>Police</td>\n",
       "      <td>pl. Brzoskwiniowa 11/53</td>\n",
       "    </tr>\n",
       "    <tr>\n",
       "      <th>1</th>\n",
       "      <td>2021-04-01T02:26:23</td>\n",
       "      <td>2021-04-02T10:45:27.707128</td>\n",
       "      <td>360</td>\n",
       "      <td>15</td>\n",
       "      <td>Philips SDV5225</td>\n",
       "      <td>129.00</td>\n",
       "      <td>Sprzęt RTV;Video;Telewizory i akcesoria;Anteny...</td>\n",
       "      <td>Aurelia Malon</td>\n",
       "      <td>Police</td>\n",
       "      <td>pl. Brzoskwiniowa 11/53</td>\n",
       "    </tr>\n",
       "    <tr>\n",
       "      <th>2</th>\n",
       "      <td>2021-01-03T05:11:17</td>\n",
       "      <td>2021-01-04T15:43:07.635371</td>\n",
       "      <td>620</td>\n",
       "      <td>0</td>\n",
       "      <td>Kinect Joy Ride (Xbox 360)</td>\n",
       "      <td>69.00</td>\n",
       "      <td>Gry i konsole;Gry na konsole;Gry Xbox 360</td>\n",
       "      <td>Aurelia Malon</td>\n",
       "      <td>Police</td>\n",
       "      <td>pl. Brzoskwiniowa 11/53</td>\n",
       "    </tr>\n",
       "    <tr>\n",
       "      <th>3</th>\n",
       "      <td>2021-02-17T12:59:54</td>\n",
       "      <td>2021-02-18T11:52:42.608746</td>\n",
       "      <td>620</td>\n",
       "      <td>5</td>\n",
       "      <td>Telefon Siemens Gigaset DA310</td>\n",
       "      <td>58.97</td>\n",
       "      <td>Telefony i akcesoria;Telefony stacjonarne</td>\n",
       "      <td>Aurelia Malon</td>\n",
       "      <td>Police</td>\n",
       "      <td>pl. Brzoskwiniowa 11/53</td>\n",
       "    </tr>\n",
       "    <tr>\n",
       "      <th>4</th>\n",
       "      <td>2021-02-13T09:17:52</td>\n",
       "      <td>2021-02-15T08:59:28.973167</td>\n",
       "      <td>620</td>\n",
       "      <td>5</td>\n",
       "      <td>Doom 3 (PC)</td>\n",
       "      <td>19.99</td>\n",
       "      <td>Gry i konsole;Gry komputerowe</td>\n",
       "      <td>Aurelia Malon</td>\n",
       "      <td>Police</td>\n",
       "      <td>pl. Brzoskwiniowa 11/53</td>\n",
       "    </tr>\n",
       "  </tbody>\n",
       "</table>\n",
       "</div>"
      ],
      "text/plain": [
       "    purchase_timestamp          delivery_timestamp  delivery_company  \\\n",
       "0  2021-04-01T15:52:47  2021-04-02T14:06:34.432964               620   \n",
       "1  2021-04-01T02:26:23  2021-04-02T10:45:27.707128               360   \n",
       "2  2021-01-03T05:11:17  2021-01-04T15:43:07.635371               620   \n",
       "3  2021-02-17T12:59:54  2021-02-18T11:52:42.608746               620   \n",
       "4  2021-02-13T09:17:52  2021-02-15T08:59:28.973167               620   \n",
       "\n",
       "   offered_discount                   product_name   price  \\\n",
       "0                 0                 Sony DVP-SR760  193.00   \n",
       "1                15                Philips SDV5225  129.00   \n",
       "2                 0     Kinect Joy Ride (Xbox 360)   69.00   \n",
       "3                 5  Telefon Siemens Gigaset DA310   58.97   \n",
       "4                 5                    Doom 3 (PC)   19.99   \n",
       "\n",
       "                                       category_path           name    city  \\\n",
       "0                   Sprzęt RTV;Video;Odtwarzacze DVD  Aurelia Malon  Police   \n",
       "1  Sprzęt RTV;Video;Telewizory i akcesoria;Anteny...  Aurelia Malon  Police   \n",
       "2          Gry i konsole;Gry na konsole;Gry Xbox 360  Aurelia Malon  Police   \n",
       "3          Telefony i akcesoria;Telefony stacjonarne  Aurelia Malon  Police   \n",
       "4                      Gry i konsole;Gry komputerowe  Aurelia Malon  Police   \n",
       "\n",
       "                    street  \n",
       "0  pl. Brzoskwiniowa 11/53  \n",
       "1  pl. Brzoskwiniowa 11/53  \n",
       "2  pl. Brzoskwiniowa 11/53  \n",
       "3  pl. Brzoskwiniowa 11/53  \n",
       "4  pl. Brzoskwiniowa 11/53  "
      ]
     },
     "execution_count": 5,
     "metadata": {},
     "output_type": "execute_result"
    }
   ],
   "source": [
    "pysqldf(\"SELECT * FROM projectedDataDF LIMIT 5;\")"
   ]
  },
  {
   "cell_type": "markdown",
   "metadata": {},
   "source": [
    "## Przygotowanie danych"
   ]
  },
  {
   "cell_type": "markdown",
   "metadata": {},
   "source": [
    "### Funkcje i struktury pomocnicze"
   ]
  },
  {
   "cell_type": "code",
   "execution_count": 8,
   "metadata": {},
   "outputs": [
    {
     "data": {
      "text/html": [
       "<div>\n",
       "<style scoped>\n",
       "    .dataframe tbody tr th:only-of-type {\n",
       "        vertical-align: middle;\n",
       "    }\n",
       "\n",
       "    .dataframe tbody tr th {\n",
       "        vertical-align: top;\n",
       "    }\n",
       "\n",
       "    .dataframe thead th {\n",
       "        text-align: right;\n",
       "    }\n",
       "</style>\n",
       "<table border=\"1\" class=\"dataframe\">\n",
       "  <thead>\n",
       "    <tr style=\"text-align: right;\">\n",
       "      <th></th>\n",
       "      <th>purchase_timestamp</th>\n",
       "      <th>delivery_timestamp</th>\n",
       "      <th>delivery_company</th>\n",
       "      <th>offered_discount</th>\n",
       "      <th>product_name</th>\n",
       "      <th>price</th>\n",
       "      <th>category_path</th>\n",
       "      <th>name</th>\n",
       "      <th>city</th>\n",
       "      <th>street</th>\n",
       "      <th>purchase_timestamp_sec</th>\n",
       "      <th>delivery_timestamp_sec</th>\n",
       "      <th>delivery_time_h</th>\n",
       "      <th>purchase_day_name</th>\n",
       "    </tr>\n",
       "  </thead>\n",
       "  <tbody>\n",
       "    <tr>\n",
       "      <th>0</th>\n",
       "      <td>2021-04-01 15:52:47</td>\n",
       "      <td>2021-04-02 14:06:34.432964</td>\n",
       "      <td>620</td>\n",
       "      <td>0</td>\n",
       "      <td>Sony DVP-SR760</td>\n",
       "      <td>193.00</td>\n",
       "      <td>Sprzęt RTV;Video;Odtwarzacze DVD</td>\n",
       "      <td>Aurelia Malon</td>\n",
       "      <td>Police</td>\n",
       "      <td>pl. Brzoskwiniowa 11/53</td>\n",
       "      <td>1617285167</td>\n",
       "      <td>1617365194</td>\n",
       "      <td>22.229722</td>\n",
       "      <td>Thursday</td>\n",
       "    </tr>\n",
       "    <tr>\n",
       "      <th>1</th>\n",
       "      <td>2021-04-01 02:26:23</td>\n",
       "      <td>2021-04-02 10:45:27.707128</td>\n",
       "      <td>360</td>\n",
       "      <td>15</td>\n",
       "      <td>Philips SDV5225</td>\n",
       "      <td>129.00</td>\n",
       "      <td>Sprzęt RTV;Video;Telewizory i akcesoria;Anteny...</td>\n",
       "      <td>Aurelia Malon</td>\n",
       "      <td>Police</td>\n",
       "      <td>pl. Brzoskwiniowa 11/53</td>\n",
       "      <td>1617236783</td>\n",
       "      <td>1617353127</td>\n",
       "      <td>32.317778</td>\n",
       "      <td>Thursday</td>\n",
       "    </tr>\n",
       "    <tr>\n",
       "      <th>2</th>\n",
       "      <td>2021-01-03 05:11:17</td>\n",
       "      <td>2021-01-04 15:43:07.635371</td>\n",
       "      <td>620</td>\n",
       "      <td>0</td>\n",
       "      <td>Kinect Joy Ride (Xbox 360)</td>\n",
       "      <td>69.00</td>\n",
       "      <td>Gry i konsole;Gry na konsole;Gry Xbox 360</td>\n",
       "      <td>Aurelia Malon</td>\n",
       "      <td>Police</td>\n",
       "      <td>pl. Brzoskwiniowa 11/53</td>\n",
       "      <td>1609647077</td>\n",
       "      <td>1609771387</td>\n",
       "      <td>34.530556</td>\n",
       "      <td>Sunday</td>\n",
       "    </tr>\n",
       "    <tr>\n",
       "      <th>3</th>\n",
       "      <td>2021-02-17 12:59:54</td>\n",
       "      <td>2021-02-18 11:52:42.608746</td>\n",
       "      <td>620</td>\n",
       "      <td>5</td>\n",
       "      <td>Telefon Siemens Gigaset DA310</td>\n",
       "      <td>58.97</td>\n",
       "      <td>Telefony i akcesoria;Telefony stacjonarne</td>\n",
       "      <td>Aurelia Malon</td>\n",
       "      <td>Police</td>\n",
       "      <td>pl. Brzoskwiniowa 11/53</td>\n",
       "      <td>1613563194</td>\n",
       "      <td>1613645562</td>\n",
       "      <td>22.880000</td>\n",
       "      <td>Wednesday</td>\n",
       "    </tr>\n",
       "    <tr>\n",
       "      <th>4</th>\n",
       "      <td>2021-02-13 09:17:52</td>\n",
       "      <td>2021-02-15 08:59:28.973167</td>\n",
       "      <td>620</td>\n",
       "      <td>5</td>\n",
       "      <td>Doom 3 (PC)</td>\n",
       "      <td>19.99</td>\n",
       "      <td>Gry i konsole;Gry komputerowe</td>\n",
       "      <td>Aurelia Malon</td>\n",
       "      <td>Police</td>\n",
       "      <td>pl. Brzoskwiniowa 11/53</td>\n",
       "      <td>1613204272</td>\n",
       "      <td>1613375968</td>\n",
       "      <td>47.693333</td>\n",
       "      <td>Saturday</td>\n",
       "    </tr>\n",
       "    <tr>\n",
       "      <th>...</th>\n",
       "      <td>...</td>\n",
       "      <td>...</td>\n",
       "      <td>...</td>\n",
       "      <td>...</td>\n",
       "      <td>...</td>\n",
       "      <td>...</td>\n",
       "      <td>...</td>\n",
       "      <td>...</td>\n",
       "      <td>...</td>\n",
       "      <td>...</td>\n",
       "      <td>...</td>\n",
       "      <td>...</td>\n",
       "      <td>...</td>\n",
       "      <td>...</td>\n",
       "    </tr>\n",
       "    <tr>\n",
       "      <th>7282</th>\n",
       "      <td>2021-04-15 13:00:45</td>\n",
       "      <td>2021-04-16 08:00:40.223545</td>\n",
       "      <td>516</td>\n",
       "      <td>5</td>\n",
       "      <td>Manta DVD064</td>\n",
       "      <td>109.00</td>\n",
       "      <td>Sprzęt RTV;Video;Odtwarzacze DVD</td>\n",
       "      <td>Sara Nóżka</td>\n",
       "      <td>Warszawa</td>\n",
       "      <td>aleja Słoneczna 78/05</td>\n",
       "      <td>1618484445</td>\n",
       "      <td>1618552840</td>\n",
       "      <td>18.998611</td>\n",
       "      <td>Thursday</td>\n",
       "    </tr>\n",
       "    <tr>\n",
       "      <th>7283</th>\n",
       "      <td>2021-01-28 09:32:38</td>\n",
       "      <td>2021-01-29 14:26:03.596544</td>\n",
       "      <td>360</td>\n",
       "      <td>20</td>\n",
       "      <td>Kyocera FS-3540MFP</td>\n",
       "      <td>5126.00</td>\n",
       "      <td>Komputery;Drukarki i skanery;Biurowe urządzeni...</td>\n",
       "      <td>Sara Nóżka</td>\n",
       "      <td>Warszawa</td>\n",
       "      <td>aleja Słoneczna 78/05</td>\n",
       "      <td>1611822758</td>\n",
       "      <td>1611926763</td>\n",
       "      <td>28.890278</td>\n",
       "      <td>Thursday</td>\n",
       "    </tr>\n",
       "    <tr>\n",
       "      <th>7284</th>\n",
       "      <td>2021-03-22 20:30:58</td>\n",
       "      <td>2021-03-24 08:26:34.660190</td>\n",
       "      <td>620</td>\n",
       "      <td>10</td>\n",
       "      <td>Szalone Króliki Na żywo i w kolorze (Xbox 360)</td>\n",
       "      <td>49.99</td>\n",
       "      <td>Gry i konsole;Gry na konsole;Gry Xbox 360</td>\n",
       "      <td>Sara Nóżka</td>\n",
       "      <td>Warszawa</td>\n",
       "      <td>aleja Słoneczna 78/05</td>\n",
       "      <td>1616441458</td>\n",
       "      <td>1616570794</td>\n",
       "      <td>35.926667</td>\n",
       "      <td>Monday</td>\n",
       "    </tr>\n",
       "    <tr>\n",
       "      <th>7285</th>\n",
       "      <td>2021-02-19 03:55:11</td>\n",
       "      <td>2021-02-20 18:26:44.646625</td>\n",
       "      <td>620</td>\n",
       "      <td>15</td>\n",
       "      <td>HTC HS-S200</td>\n",
       "      <td>14.99</td>\n",
       "      <td>Telefony i akcesoria;Akcesoria telefoniczne;Ze...</td>\n",
       "      <td>Sara Nóżka</td>\n",
       "      <td>Warszawa</td>\n",
       "      <td>aleja Słoneczna 78/05</td>\n",
       "      <td>1613703311</td>\n",
       "      <td>1613842004</td>\n",
       "      <td>38.525833</td>\n",
       "      <td>Friday</td>\n",
       "    </tr>\n",
       "    <tr>\n",
       "      <th>7286</th>\n",
       "      <td>2021-04-19 22:09:12</td>\n",
       "      <td>2021-04-20 09:08:48.449133</td>\n",
       "      <td>516</td>\n",
       "      <td>0</td>\n",
       "      <td>Jabra Speak 410</td>\n",
       "      <td>327.47</td>\n",
       "      <td>Telefony i akcesoria;Akcesoria telefoniczne;Ze...</td>\n",
       "      <td>Sara Nóżka</td>\n",
       "      <td>Warszawa</td>\n",
       "      <td>aleja Słoneczna 78/05</td>\n",
       "      <td>1618862952</td>\n",
       "      <td>1618902528</td>\n",
       "      <td>10.993333</td>\n",
       "      <td>Monday</td>\n",
       "    </tr>\n",
       "  </tbody>\n",
       "</table>\n",
       "<p>7287 rows × 14 columns</p>\n",
       "</div>"
      ],
      "text/plain": [
       "       purchase_timestamp          delivery_timestamp  delivery_company  \\\n",
       "0     2021-04-01 15:52:47  2021-04-02 14:06:34.432964               620   \n",
       "1     2021-04-01 02:26:23  2021-04-02 10:45:27.707128               360   \n",
       "2     2021-01-03 05:11:17  2021-01-04 15:43:07.635371               620   \n",
       "3     2021-02-17 12:59:54  2021-02-18 11:52:42.608746               620   \n",
       "4     2021-02-13 09:17:52  2021-02-15 08:59:28.973167               620   \n",
       "...                   ...                         ...               ...   \n",
       "7282  2021-04-15 13:00:45  2021-04-16 08:00:40.223545               516   \n",
       "7283  2021-01-28 09:32:38  2021-01-29 14:26:03.596544               360   \n",
       "7284  2021-03-22 20:30:58  2021-03-24 08:26:34.660190               620   \n",
       "7285  2021-02-19 03:55:11  2021-02-20 18:26:44.646625               620   \n",
       "7286  2021-04-19 22:09:12  2021-04-20 09:08:48.449133               516   \n",
       "\n",
       "      offered_discount                                    product_name  \\\n",
       "0                    0                                  Sony DVP-SR760   \n",
       "1                   15                                 Philips SDV5225   \n",
       "2                    0                      Kinect Joy Ride (Xbox 360)   \n",
       "3                    5                   Telefon Siemens Gigaset DA310   \n",
       "4                    5                                     Doom 3 (PC)   \n",
       "...                ...                                             ...   \n",
       "7282                 5                                    Manta DVD064   \n",
       "7283                20                              Kyocera FS-3540MFP   \n",
       "7284                10  Szalone Króliki Na żywo i w kolorze (Xbox 360)   \n",
       "7285                15                                     HTC HS-S200   \n",
       "7286                 0                                 Jabra Speak 410   \n",
       "\n",
       "        price                                      category_path  \\\n",
       "0      193.00                   Sprzęt RTV;Video;Odtwarzacze DVD   \n",
       "1      129.00  Sprzęt RTV;Video;Telewizory i akcesoria;Anteny...   \n",
       "2       69.00          Gry i konsole;Gry na konsole;Gry Xbox 360   \n",
       "3       58.97          Telefony i akcesoria;Telefony stacjonarne   \n",
       "4       19.99                      Gry i konsole;Gry komputerowe   \n",
       "...       ...                                                ...   \n",
       "7282   109.00                   Sprzęt RTV;Video;Odtwarzacze DVD   \n",
       "7283  5126.00  Komputery;Drukarki i skanery;Biurowe urządzeni...   \n",
       "7284    49.99          Gry i konsole;Gry na konsole;Gry Xbox 360   \n",
       "7285    14.99  Telefony i akcesoria;Akcesoria telefoniczne;Ze...   \n",
       "7286   327.47  Telefony i akcesoria;Akcesoria telefoniczne;Ze...   \n",
       "\n",
       "               name      city                   street  \\\n",
       "0     Aurelia Malon    Police  pl. Brzoskwiniowa 11/53   \n",
       "1     Aurelia Malon    Police  pl. Brzoskwiniowa 11/53   \n",
       "2     Aurelia Malon    Police  pl. Brzoskwiniowa 11/53   \n",
       "3     Aurelia Malon    Police  pl. Brzoskwiniowa 11/53   \n",
       "4     Aurelia Malon    Police  pl. Brzoskwiniowa 11/53   \n",
       "...             ...       ...                      ...   \n",
       "7282     Sara Nóżka  Warszawa    aleja Słoneczna 78/05   \n",
       "7283     Sara Nóżka  Warszawa    aleja Słoneczna 78/05   \n",
       "7284     Sara Nóżka  Warszawa    aleja Słoneczna 78/05   \n",
       "7285     Sara Nóżka  Warszawa    aleja Słoneczna 78/05   \n",
       "7286     Sara Nóżka  Warszawa    aleja Słoneczna 78/05   \n",
       "\n",
       "      purchase_timestamp_sec  delivery_timestamp_sec  delivery_time_h  \\\n",
       "0                 1617285167              1617365194        22.229722   \n",
       "1                 1617236783              1617353127        32.317778   \n",
       "2                 1609647077              1609771387        34.530556   \n",
       "3                 1613563194              1613645562        22.880000   \n",
       "4                 1613204272              1613375968        47.693333   \n",
       "...                      ...                     ...              ...   \n",
       "7282              1618484445              1618552840        18.998611   \n",
       "7283              1611822758              1611926763        28.890278   \n",
       "7284              1616441458              1616570794        35.926667   \n",
       "7285              1613703311              1613842004        38.525833   \n",
       "7286              1618862952              1618902528        10.993333   \n",
       "\n",
       "     purchase_day_name  \n",
       "0             Thursday  \n",
       "1             Thursday  \n",
       "2               Sunday  \n",
       "3            Wednesday  \n",
       "4             Saturday  \n",
       "...                ...  \n",
       "7282          Thursday  \n",
       "7283          Thursday  \n",
       "7284            Monday  \n",
       "7285            Friday  \n",
       "7286            Monday  \n",
       "\n",
       "[7287 rows x 14 columns]"
      ]
     },
     "execution_count": 8,
     "metadata": {},
     "output_type": "execute_result"
    }
   ],
   "source": [
    "# Convert date to unix timestamp (seconds only)\n",
    "def dateToTimestamp(date):\n",
    "    date = date.split('.')[0]\n",
    "    date = datetime.strptime(date, \"%Y-%m-%dT%H:%M:%S\").timetuple()\n",
    "    return time.mktime(date)\n",
    "\n",
    "def timestampToDate(timestamp):\n",
    "    return datetime.fromtimestamp(timestamp).strftime(\"%Y-%m-%dT%H:%M:%S\")\n",
    "\n",
    "\n",
    "\n",
    "N_SECONDS = 3600.0\n",
    "\n",
    "extendedDataDF = pysqldf(\"SELECT * FROM projectedDataDF WHERE purchase_timestamp < delivery_timestamp\")\n",
    "\n",
    "#create columns\n",
    "extendedDataDF[\"purchase_timestamp_sec\"] = 0\n",
    "extendedDataDF[\"delivery_timestamp_sec\"] = 0\n",
    "extendedDataDF[\"delivery_time_h\"] = 0.0\n",
    "extendedDataDF[\"purchase_day_name\"] = \"\"\n",
    "\n",
    "for index, _ in extendedDataDF.iterrows():\n",
    "    extendedDataDF.at[index, \"purchase_timestamp_sec\"] = dateToTimestamp(extendedDataDF[\"purchase_timestamp\"].iloc[index])\n",
    "    extendedDataDF.at[index, \"delivery_timestamp_sec\"] = dateToTimestamp(extendedDataDF[\"delivery_timestamp\"].iloc[index])\n",
    "    extendedDataDF.at[index, \"delivery_time_h\"] = float(extendedDataDF[\"delivery_timestamp_sec\"].iloc[index] - extendedDataDF[\"purchase_timestamp_sec\"].iloc[index]) / N_SECONDS\n",
    "    extendedDataDF.at[index, \"purchase_timestamp\"] = pd.to_datetime(extendedDataDF[\"purchase_timestamp\"].iloc[index])\n",
    "    extendedDataDF.at[index, \"delivery_timestamp\"] = pd.to_datetime(extendedDataDF[\"delivery_timestamp\"].iloc[index])\n",
    "    extendedDataDF.at[index, \"purchase_day_name\"] = extendedDataDF[\"purchase_timestamp\"].iloc[index].day_name()\n",
    "\n",
    "extendedDataDF"
   ]
  },
  {
   "cell_type": "markdown",
   "metadata": {},
   "source": [
    "### Miasta"
   ]
  },
  {
   "cell_type": "code",
   "execution_count": 9,
   "metadata": {},
   "outputs": [
    {
     "data": {
      "image/png": "[encoded data removed]",
      "text/plain": [
       "<Figure size 432x288 with 1 Axes>"
      ]
     },
     "metadata": {
      "needs_background": "light"
     },
     "output_type": "display_data"
    },
    {
     "data": {
      "image/png": "[encoded data removed]",
      "text/plain": [
       "<Figure size 432x288 with 1 Axes>"
      ]
     },
     "metadata": {
      "needs_background": "light"
     },
     "output_type": "display_data"
    }
   ],
   "source": [
    "# Convert cities to coordinates, and then normalize the coordinates based on min and max values for Poland\n",
    "\n",
    "# Read cities coordinates from csv file\n",
    "# Strip cities names of whitespaces and convert coordinates to floats [degrees] by dividing minutes by 60\n",
    "# City data contains few cities outside Poland, so we skip them using the following bounds\n",
    "minEastCoord = 14\n",
    "maxEastCoord = 24.2\n",
    "minNorthCoord = 49\n",
    "maxNorthCoord = 55\n",
    "\n",
    "cityDatabaseNames = []\n",
    "cityDatabaseCoords = []\n",
    "with open(citiesPath, newline='') as csvfile:\n",
    "    citiesReader = csv.reader(csvfile)\n",
    "    for row in citiesReader:\n",
    "        coordRow = []\n",
    "        for cell in row:\n",
    "            cell = cell.strip()\n",
    "            if len(cell) > 1:\n",
    "                if cell[-1] == 'E' or cell[-1] == 'N':\n",
    "                    numericCoord = float(cell[0:2]) + float(cell[3:5])/60\n",
    "                    coordRow.append(numericCoord)\n",
    "                else:\n",
    "                    cityDatabaseNames.append(cell)\n",
    "        if coordRow[0] >= minEastCoord and \\\n",
    "           coordRow[0] <= maxEastCoord and \\\n",
    "           coordRow[1] >= minNorthCoord and \\\n",
    "           coordRow[1] <= maxNorthCoord:\n",
    "            cityDatabaseCoords.append(coordRow)\n",
    "        else:\n",
    "            del cityDatabaseNames[-1]\n",
    "            \n",
    "        \n",
    "#Convert to numpy\n",
    "citiesCoordinatesDataArray = np.array(cityDatabaseCoords)\n",
    "\n",
    "# Normalize coordinates in the given range\n",
    "minEast = min(citiesCoordinatesDataArray[:, 0])\n",
    "maxEast = max(citiesCoordinatesDataArray[:, 0])\n",
    "minNorth = min(citiesCoordinatesDataArray[:, 1])\n",
    "maxNorth = max(citiesCoordinatesDataArray[:, 1])\n",
    "\n",
    "citiesCoordinatesDataArray[:, 0] = (citiesCoordinatesDataArray[:, 0]-minEast)/(maxEast-minEast)\n",
    "citiesCoordinatesDataArray[:, 1] = (citiesCoordinatesDataArray[:, 1]-minNorth)/(maxNorth-minNorth)\n",
    "    \n",
    "plt.hist(citiesCoordinatesDataArray[:,0], bins=30, density=False)\n",
    "plt.xlabel(\"East coordinate\")\n",
    "plt.ylabel(\"Number of cities\")\n",
    "plt.show()\n",
    "\n",
    "plt.hist(citiesCoordinatesDataArray[:,1], bins=30, density=False)\n",
    "plt.xlabel(\"North coordinate\")\n",
    "plt.ylabel(\"Number of cities\")\n",
    "plt.show()"
   ]
  },
  {
   "cell_type": "code",
   "execution_count": 10,
   "metadata": {
    "scrolled": true
   },
   "outputs": [
    {
     "data": {
      "image/png": "[encoded data removed]",
      "text/plain": [
       "<Figure size 432x288 with 1 Axes>"
      ]
     },
     "metadata": {
      "needs_background": "light"
     },
     "output_type": "display_data"
    },
    {
     "data": {
      "image/png": "[encoded data removed]",
      "text/plain": [
       "<Figure size 432x288 with 1 Axes>"
      ]
     },
     "metadata": {
      "needs_background": "light"
     },
     "output_type": "display_data"
    },
    {
     "name": "stdout",
     "output_type": "stream",
     "text": [
      "(7287, 2)\n"
     ]
    }
   ],
   "source": [
    "# Get city attribute\n",
    "citiesNames = pysqldf(\"SELECT City FROM projectedDataDF;\").to_numpy()\n",
    "\n",
    "cityCoordAttribute = np.empty(shape=(citiesNames.size, 2))\n",
    "for i in range(len(citiesNames)):\n",
    "    index = cityDatabaseNames.index(citiesNames[i])\n",
    "    cityCoordAttribute[i] = citiesCoordinatesDataArray[index]\n",
    "    \n",
    "plt.hist(cityCoordAttribute[:,0], bins=30, density=False)\n",
    "plt.xlabel(\"East coordinate\")\n",
    "plt.ylabel(\"Number of cities\")\n",
    "plt.show()\n",
    "\n",
    "plt.hist(cityCoordAttribute[:,1], bins=30, density=False)\n",
    "plt.xlabel(\"North coordinate\")\n",
    "plt.ylabel(\"Number of cities\")\n",
    "plt.show()\n",
    "\n",
    "print(cityCoordAttribute.shape)"
   ]
  },
  {
   "cell_type": "markdown",
   "metadata": {},
   "source": [
    "### Firma kurierska"
   ]
  },
  {
   "cell_type": "code",
   "execution_count": 11,
   "metadata": {},
   "outputs": [
    {
     "data": {
      "image/png": "[encoded data removed]",
      "text/plain": [
       "<Figure size 432x288 with 1 Axes>"
      ]
     },
     "metadata": {
      "needs_background": "light"
     },
     "output_type": "display_data"
    },
    {
     "name": "stdout",
     "output_type": "stream",
     "text": [
      "(7287, 1)\n"
     ]
    }
   ],
   "source": [
    "companiesNames = pysqldf(\"SELECT delivery_company FROM projectedDataDF;\").to_numpy()\n",
    "distinctCompaniesNames = np.unique(companiesNames)\n",
    "companyAttribute = np.where(companiesNames == distinctCompaniesNames)[1] / (len(distinctCompaniesNames)-1)\n",
    "\n",
    "plt.hist(companyAttribute, bins=9, density=False)\n",
    "plt.xlabel(\"Company index\")\n",
    "plt.ylabel(\"Number of deliveries\")\n",
    "plt.show()\n",
    "\n",
    "companyAttribute = np.reshape(companyAttribute, (-1, 1))\n",
    "print(companyAttribute.shape)"
   ]
  },
  {
   "cell_type": "markdown",
   "metadata": {},
   "source": [
    "### Dzień tygodnia i pora dnia zakupu"
   ]
  },
  {
   "cell_type": "code",
   "execution_count": 12,
   "metadata": {},
   "outputs": [
    {
     "data": {
      "image/png": "[encoded data removed]",
      "text/plain": [
       "<Figure size 432x288 with 1 Axes>"
      ]
     },
     "metadata": {
      "needs_background": "light"
     },
     "output_type": "display_data"
    },
    {
     "name": "stdout",
     "output_type": "stream",
     "text": [
      "(7287, 1)\n"
     ]
    }
   ],
   "source": [
    "dayNames = pysqldf(\"SELECT purchase_day_name FROM extendedDataDF;\").to_numpy()\n",
    "distinctDayNames = np.unique(dayNames)\n",
    "dayAttribute = np.where(dayNames == distinctDayNames)[1] / (len(distinctDayNames)-1)\n",
    "\n",
    "plt.hist(dayAttribute, bins=7, density=False)\n",
    "plt.xlabel(\"Day index\")\n",
    "plt.ylabel(\"Number of deliveries\")\n",
    "plt.show()\n",
    "\n",
    "dayAttribute = np.reshape(dayAttribute, (-1, 1))\n",
    "print(dayAttribute.shape)"
   ]
  },
  {
   "cell_type": "code",
   "execution_count": 13,
   "metadata": {
    "scrolled": true
   },
   "outputs": [
    {
     "data": {
      "image/png": "[encoded data removed]",
      "text/plain": [
       "<Figure size 432x288 with 1 Axes>"
      ]
     },
     "metadata": {
      "needs_background": "light"
     },
     "output_type": "display_data"
    },
    {
     "name": "stdout",
     "output_type": "stream",
     "text": [
      "(7287, 1)\n"
     ]
    }
   ],
   "source": [
    "purchaseTimes = pysqldf(\"SELECT purchase_timestamp FROM extendedDataDF;\").to_numpy()\n",
    "\n",
    "datetimes = [datetime.strptime(t, '%Y-%m-%d %H:%M:%S.%f') for t in purchaseTimes[:,0]]\n",
    "purchaseTimeAttribute = np.asarray([t.hour*3600 + t.minute*60 + t.second for t in datetimes], dtype=np.float32)\n",
    "purchaseTimeAttribute /= 3600*24\n",
    "\n",
    "plt.hist(purchaseTimeAttribute, bins=24, density=False)\n",
    "plt.xlabel(\"Purchase day time\")\n",
    "plt.ylabel(\"Number of purchases\")\n",
    "plt.show()\n",
    "\n",
    "purchaseTimeAttribute = np.reshape(purchaseTimeAttribute, (-1, 1))\n",
    "print(purchaseTimeAttribute.shape)"
   ]
  },
  {
   "cell_type": "markdown",
   "metadata": {},
   "source": [
    "### Czas dostawy"
   ]
  },
  {
   "cell_type": "code",
   "execution_count": 14,
   "metadata": {
    "scrolled": true
   },
   "outputs": [
    {
     "data": {
      "image/png": "[encoded data removed]",
      "text/plain": [
       "<Figure size 432x288 with 1 Axes>"
      ]
     },
     "metadata": {
      "needs_background": "light"
     },
     "output_type": "display_data"
    },
    {
     "name": "stdout",
     "output_type": "stream",
     "text": [
      "(7287, 1)\n"
     ]
    }
   ],
   "source": [
    "deliveryTimes = pysqldf(\"SELECT delivery_time_h FROM extendedDataDF;\").to_numpy()\n",
    "\n",
    "plt.hist(deliveryTimes, bins=50, density=False)\n",
    "plt.xlabel(\"Delivery duration\")\n",
    "plt.ylabel(\"Number of purchases\")\n",
    "plt.show()\n",
    "\n",
    "print(deliveryTimes.shape)"
   ]
  },
  {
   "cell_type": "markdown",
   "metadata": {},
   "source": [
    "## Podział na zbiory treningowy i testowy"
   ]
  },
  {
   "cell_type": "code",
   "execution_count": 32,
   "metadata": {},
   "outputs": [
    {
     "name": "stdout",
     "output_type": "stream",
     "text": [
      "(5829, 5)\n",
      "(5829, 1)\n",
      "(1458, 5)\n",
      "(1458, 1)\n"
     ]
    }
   ],
   "source": [
    "trainingPart = 0.8\n",
    "\n",
    "fullData = np.concatenate((cityCoordAttribute, \\\n",
    "                           companyAttribute, \\\n",
    "                           dayAttribute, \\\n",
    "                           purchaseTimeAttribute, \\\n",
    "                           deliveryTimes), axis=1)\n",
    "\n",
    "np.random.seed(0)\n",
    "np.random.shuffle(fullData)\n",
    "trainSize = int(trainingPart*len(fullData))\n",
    "trainData, testData = fullData[:trainSize,:-1], fullData[trainSize:,:-1]\n",
    "trainLabels, testLabels = fullData[:trainSize,-1:], fullData[trainSize:,-1:]\n",
    "print(trainData.shape)\n",
    "print(trainLabels.shape)\n",
    "print(testData.shape)\n",
    "print(testLabels.shape)"
   ]
  },
  {
   "cell_type": "markdown",
   "metadata": {},
   "source": [
    "# Predykcja średniego czasu dostawy"
   ]
  },
  {
   "cell_type": "markdown",
   "metadata": {},
   "source": [
    "Po pierwsze RMSE dla predykcji stałej średniej długości czasu dostawy:"
   ]
  },
  {
   "cell_type": "code",
   "execution_count": 30,
   "metadata": {},
   "outputs": [
    {
     "name": "stdout",
     "output_type": "stream",
     "text": [
      "19.183475263595827\n"
     ]
    }
   ],
   "source": [
    "avgDuration = np.average(testLabels)\n",
    "print(np.sqrt(np.mean((avgDuration-testLabels)**2)))"
   ]
  },
  {
   "cell_type": "markdown",
   "metadata": {},
   "source": [
    "# Prosty model regresji liniowej"
   ]
  },
  {
   "cell_type": "code",
   "execution_count": 35,
   "metadata": {},
   "outputs": [],
   "source": [
    "from sklearn import linear_model"
   ]
  },
  {
   "cell_type": "code",
   "execution_count": 36,
   "metadata": {},
   "outputs": [
    {
     "name": "stdout",
     "output_type": "stream",
     "text": [
      "17.398576820167793\n"
     ]
    }
   ],
   "source": [
    "regr = linear_model.LinearRegression()\n",
    "regr.fit(trainData, trainLabels)\n",
    "\n",
    "predictions = regr.predict(testData)\n",
    "print(np.sqrt(np.mean((predictions-testLabels)**2)))"
   ]
  },
  {
   "cell_type": "markdown",
   "metadata": {},
   "source": [
    "# Model docelowy"
   ]
  },
  {
   "cell_type": "code",
   "execution_count": 55,
   "metadata": {},
   "outputs": [],
   "source": [
    "import tensorflow as tf\n",
    "from tensorflow import keras\n",
    "from tensorflow.keras import layers\n",
    "from tensorflow.keras import backend as K"
   ]
  },
  {
   "cell_type": "code",
   "execution_count": 62,
   "metadata": {},
   "outputs": [],
   "source": [
    "def root_mean_squared_error(y_true, y_pred):\n",
    "        return K.sqrt(K.mean(K.square(y_pred - y_true)))\n",
    "    \n",
    "def plot_loss(history):\n",
    "    plt.plot(history.history['loss'], label='loss')\n",
    "    plt.plot(history.history['val_loss'], label='val_loss')\n",
    "    plt.ylim([0, 50])\n",
    "    plt.xlabel('Epoch')\n",
    "    plt.ylabel('Error [RMSE]')\n",
    "    plt.legend()\n",
    "    plt.grid(True)\n",
    "\n",
    "\n",
    "    \n",
    "def test_model(model):\n",
    "    model.compile(loss=root_mean_squared_error,\n",
    "              optimizer=tf.keras.optimizers.Adam(0.001))\n",
    "    model.summary()\n",
    "\n",
    "    return model.fit(trainData, trainLabels, validation_split=0.2, epochs=30)"
   ]
  },
  {
   "cell_type": "code",
   "execution_count": 63,
   "metadata": {},
   "outputs": [
    {
     "name": "stdout",
     "output_type": "stream",
     "text": [
      "Model: \"sequential_9\"\n",
      "_________________________________________________________________\n",
      "Layer (type)                 Output Shape              Param #   \n",
      "=================================================================\n",
      "dense_54 (Dense)             (None, 64)                384       \n",
      "_________________________________________________________________\n",
      "dropout_28 (Dropout)         (None, 64)                0         \n",
      "_________________________________________________________________\n",
      "dense_55 (Dense)             (None, 256)               16640     \n",
      "_________________________________________________________________\n",
      "dropout_29 (Dropout)         (None, 256)               0         \n",
      "_________________________________________________________________\n",
      "dense_56 (Dense)             (None, 1024)              263168    \n",
      "_________________________________________________________________\n",
      "dropout_30 (Dropout)         (None, 1024)              0         \n",
      "_________________________________________________________________\n",
      "dense_57 (Dense)             (None, 4096)              4198400   \n",
      "_________________________________________________________________\n",
      "dropout_31 (Dropout)         (None, 4096)              0         \n",
      "_________________________________________________________________\n",
      "dense_58 (Dense)             (None, 1024)              4195328   \n",
      "_________________________________________________________________\n",
      "dropout_32 (Dropout)         (None, 1024)              0         \n",
      "_________________________________________________________________\n",
      "dense_59 (Dense)             (None, 256)               262400    \n",
      "_________________________________________________________________\n",
      "dropout_33 (Dropout)         (None, 256)               0         \n",
      "_________________________________________________________________\n",
      "dense_60 (Dense)             (None, 64)                16448     \n",
      "_________________________________________________________________\n",
      "dropout_34 (Dropout)         (None, 64)                0         \n",
      "_________________________________________________________________\n",
      "dense_61 (Dense)             (None, 1)                 65        \n",
      "=================================================================\n",
      "Total params: 8,952,833\n",
      "Trainable params: 8,952,833\n",
      "Non-trainable params: 0\n",
      "_________________________________________________________________\n",
      "Epoch 1/30\n",
      "146/146 [==============================] - 20s 138ms/step - loss: 20.4065 - val_loss: 17.0554\n",
      "Epoch 2/30\n",
      "146/146 [==============================] - 20s 137ms/step - loss: 17.5980 - val_loss: 15.2939\n",
      "Epoch 3/30\n",
      "146/146 [==============================] - 20s 134ms/step - loss: 16.5925 - val_loss: 14.0683\n",
      "Epoch 4/30\n",
      "146/146 [==============================] - 20s 137ms/step - loss: 15.7763 - val_loss: 13.0802\n",
      "Epoch 5/30\n",
      "146/146 [==============================] - 20s 136ms/step - loss: 15.2662 - val_loss: 14.1288\n",
      "Epoch 6/30\n",
      "146/146 [==============================] - 20s 135ms/step - loss: 14.7088 - val_loss: 12.5424\n",
      "Epoch 7/30\n",
      "146/146 [==============================] - 20s 135ms/step - loss: 14.5595 - val_loss: 12.7459\n",
      "Epoch 8/30\n",
      "146/146 [==============================] - 19s 132ms/step - loss: 14.6481 - val_loss: 14.0843\n",
      "Epoch 9/30\n",
      "146/146 [==============================] - 19s 128ms/step - loss: 14.2199 - val_loss: 12.3895\n",
      "Epoch 10/30\n",
      "146/146 [==============================] - 19s 133ms/step - loss: 14.0715 - val_loss: 13.2683\n",
      "Epoch 11/30\n",
      "146/146 [==============================] - 19s 133ms/step - loss: 14.1249 - val_loss: 12.4556\n",
      "Epoch 12/30\n",
      "146/146 [==============================] - 19s 128ms/step - loss: 13.8898 - val_loss: 12.6450\n",
      "Epoch 13/30\n",
      "146/146 [==============================] - 19s 131ms/step - loss: 13.6537 - val_loss: 12.3022\n",
      "Epoch 14/30\n",
      "146/146 [==============================] - 19s 128ms/step - loss: 13.6394 - val_loss: 12.9055\n",
      "Epoch 15/30\n",
      "146/146 [==============================] - 19s 131ms/step - loss: 13.6771 - val_loss: 12.6162\n",
      "Epoch 16/30\n",
      "146/146 [==============================] - 20s 134ms/step - loss: 13.6149 - val_loss: 11.9953\n",
      "Epoch 17/30\n",
      "146/146 [==============================] - 19s 132ms/step - loss: 13.6861 - val_loss: 12.1683\n",
      "Epoch 18/30\n",
      "146/146 [==============================] - 19s 133ms/step - loss: 13.4642 - val_loss: 12.1392\n",
      "Epoch 19/30\n",
      "146/146 [==============================] - 20s 134ms/step - loss: 13.3230 - val_loss: 13.0874\n",
      "Epoch 20/30\n",
      "146/146 [==============================] - 19s 131ms/step - loss: 13.4389 - val_loss: 15.0330\n",
      "Epoch 21/30\n",
      "146/146 [==============================] - 19s 133ms/step - loss: 13.7536 - val_loss: 12.5170\n",
      "Epoch 22/30\n",
      "146/146 [==============================] - 20s 135ms/step - loss: 13.3656 - val_loss: 12.0794\n",
      "Epoch 23/30\n",
      "146/146 [==============================] - 19s 131ms/step - loss: 13.3075 - val_loss: 12.2175\n",
      "Epoch 24/30\n",
      "146/146 [==============================] - 19s 128ms/step - loss: 13.4483 - val_loss: 11.7303\n",
      "Epoch 25/30\n",
      "146/146 [==============================] - 20s 135ms/step - loss: 13.2117 - val_loss: 12.4338\n",
      "Epoch 26/30\n",
      "146/146 [==============================] - 20s 134ms/step - loss: 13.4309 - val_loss: 11.8954\n",
      "Epoch 27/30\n",
      "146/146 [==============================] - 19s 130ms/step - loss: 13.2404 - val_loss: 11.8697\n",
      "Epoch 28/30\n",
      "146/146 [==============================] - 19s 133ms/step - loss: 13.4874 - val_loss: 12.4689\n",
      "Epoch 29/30\n",
      "146/146 [==============================] - 20s 137ms/step - loss: 13.3069 - val_loss: 11.7681\n",
      "Epoch 30/30\n",
      "146/146 [==============================] - 19s 133ms/step - loss: 13.1362 - val_loss: 11.9312\n"
     ]
    },
    {
     "data": {
      "image/png": "[encoded data removed]",
      "text/plain": [
       "<Figure size 432x288 with 1 Axes>"
      ]
     },
     "metadata": {
      "needs_background": "light"
     },
     "output_type": "display_data"
    }
   ],
   "source": [
    "model = keras.Sequential()\n",
    "model.add(keras.Input(shape=(5,)))\n",
    "model.add(layers.Dense(64, activation=\"relu\"))\n",
    "model.add(layers.Dropout(0.2))\n",
    "model.add(layers.Dense(256, activation=\"relu\"))\n",
    "model.add(layers.Dropout(0.2))\n",
    "model.add(layers.Dense(1024, activation=\"relu\"))\n",
    "model.add(layers.Dropout(0.2))\n",
    "model.add(layers.Dense(4096, activation=\"relu\"))\n",
    "model.add(layers.Dropout(0.2))\n",
    "model.add(layers.Dense(1024, activation=\"relu\"))\n",
    "model.add(layers.Dropout(0.2))\n",
    "model.add(layers.Dense(256, activation=\"relu\"))\n",
    "model.add(layers.Dropout(0.2))\n",
    "model.add(layers.Dense(64, activation=\"relu\"))\n",
    "model.add(layers.Dropout(0.2))\n",
    "model.add(layers.Dense(1))\n",
    "\n",
    "plot_loss(test_model(model))"
   ]
  },
  {
   "cell_type": "code",
   "execution_count": 64,
   "metadata": {},
   "outputs": [
    {
     "name": "stdout",
     "output_type": "stream",
     "text": [
      "11.973534178371324\n"
     ]
    }
   ],
   "source": [
    "predictions = model.predict(testData)\n",
    "print(np.sqrt(np.mean((predictions-testLabels)**2)))"
   ]
  }
 ],
 "metadata": {
  "kernelspec": {
   "display_name": "Python 3",
   "language": "python",
   "name": "python3"
  },
  "language_info": {
   "codemirror_mode": {
    "name": "ipython",
    "version": 3
   },
   "file_extension": ".py",
   "mimetype": "text/x-python",
   "name": "python",
   "nbconvert_exporter": "python",
   "pygments_lexer": "ipython3",
   "version": "3.8.5"
  }
 },
 "nbformat": 4,
 "nbformat_minor": 4
}
