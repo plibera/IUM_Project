{
 "cells": [
  {
   "cell_type": "markdown",
   "metadata": {},
   "source": [
    "# Predykcja czasu dostawy zamówienia\n"
   ]
  },
  {
   "cell_type": "markdown",
   "metadata": {},
   "source": [
    "## Treść zadania\n",
    "Wygląda na to, że nasze firmy kurierskie czasami nie radzą sobie z dostawami. Gdybyśmy\n",
    "wiedzieli, ile taka dostawa dla danego zamówienia potrwa – moglibyśmy przekazywać tą\n",
    "informację klientom."
   ]
  },
  {
   "cell_type": "markdown",
   "metadata": {},
   "source": [
    "## Poziom biznesowy\n",
    "\n",
    "### Zadanie biznesowe\n",
    "Celem tego projektu jest dodanie przewidywania czasu dostawy dla każdego z zamówień dokonanych przez klientów. Dostarczenie takiej informacji klientom powinno pozytywnie wpłynąć na ich zadowolenie z korzystania z naszego sklepu internetowego. To z kolei sprawi, że częściej będą korzystać z naszych usług.\n",
    "\n",
    "### Biznesowe kryterium sukcesu\n",
    "System w dobrym stopniu estymuje czas dostawy dla każdego zamówienia - przekazuje klientowi dokładniejszą informację dla jego zamówienia od średniego czasu dostawy zamówień."
   ]
  },
  {
   "cell_type": "markdown",
   "metadata": {},
   "source": [
    "## Poziom analityczny\n",
    "\n",
    "### Zadanie modelowania\n",
    "Czas dostawy to wartość ciągła, stąd też problem sprowadza się do zadania regresji.\n",
    "\n",
    "### Analityczne kryterium sukcesu\n",
    "Wartość RMSE dla przewidywanego czasu dostawy nie przekracza 5 godzin."
   ]
  },
  {
   "cell_type": "markdown",
   "metadata": {},
   "source": [
    "### Założenia\n",
    "* Model obsługiwać będzie tylko te kategorie produktów, które pojawiają się w danych uczących\n",
    "* Wszystkie zamówienia muszą być zrealizowane na terenie Polski"
   ]
  },
  {
   "cell_type": "markdown",
   "metadata": {},
   "source": [
    "## Wczytanie danych z plików"
   ]
  },
  {
   "cell_type": "code",
   "execution_count": 3,
   "metadata": {},
   "outputs": [
    {
     "name": "stdout",
     "output_type": "stream",
     "text": [
      "Requirement already satisfied: pandasql in /home/piotr/anaconda3/lib/python3.8/site-packages (0.7.3)\n",
      "Requirement already satisfied: sqlalchemy in /home/piotr/anaconda3/lib/python3.8/site-packages (from pandasql) (1.3.20)\n",
      "Requirement already satisfied: pandas in /home/piotr/anaconda3/lib/python3.8/site-packages (from pandasql) (1.1.3)\n",
      "Requirement already satisfied: numpy in /home/piotr/anaconda3/lib/python3.8/site-packages (from pandasql) (1.19.2)\n",
      "Requirement already satisfied: python-dateutil>=2.7.3 in /home/piotr/anaconda3/lib/python3.8/site-packages (from pandas->pandasql) (2.8.1)\n",
      "Requirement already satisfied: pytz>=2017.2 in /home/piotr/anaconda3/lib/python3.8/site-packages (from pandas->pandasql) (2020.1)\n",
      "Requirement already satisfied: six>=1.5 in /home/piotr/anaconda3/lib/python3.8/site-packages (from python-dateutil>=2.7.3->pandas->pandasql) (1.15.0)\n",
      "Note: you may need to restart the kernel to use updated packages.\n"
     ]
    }
   ],
   "source": [
    "#installs pandasql within jupyter kernel\n",
    "%pip install pandasql"
   ]
  },
  {
   "cell_type": "code",
   "execution_count": 4,
   "metadata": {},
   "outputs": [],
   "source": [
    "import matplotlib.pyplot as plt\n",
    "import numpy as np\n",
    "import json\n",
    "from datetime import datetime\n",
    "import time\n",
    "import pandas as pd\n",
    "from pandasql import sqldf"
   ]
  },
  {
   "cell_type": "code",
   "execution_count": 5,
   "metadata": {},
   "outputs": [
    {
     "name": "stdout",
     "output_type": "stream",
     "text": [
      "Deliveries keys:\tpurchase_id\tpurchase_timestamp\tdelivery_timestamp\tdelivery_company\t\n",
      "Products keys:\t\tproduct_id\tproduct_name\tcategory_path\tprice\t\n",
      "Sessions keys:\t\tsession_id\ttimestamp\tuser_id\tproduct_id\tevent_type\toffered_discount\tpurchase_id\t\n",
      "Users keys:\t\tuser_id\tname\tcity\tstreet\t\n"
     ]
    }
   ],
   "source": [
    "deliveriesFile = open(\"IUM21L_Zad_03_02/deliveries.jsonl\", \"r\")\n",
    "productsFile = open(\"IUM21L_Zad_03_02/products.jsonl\", \"r\")\n",
    "sessionsFile = open(\"IUM21L_Zad_03_02/sessions.jsonl\", \"r\")\n",
    "usersFile = open(\"IUM21L_Zad_03_02/users.jsonl\", \"r\")\n",
    "\n",
    "deliveries = [json.loads(jline) for jline in deliveriesFile.read().splitlines()]\n",
    "products = [json.loads(jline) for jline in productsFile.read().splitlines()]\n",
    "sessions = [json.loads(jline) for jline in sessionsFile.read().splitlines()]\n",
    "users = [json.loads(jline) for jline in usersFile.read().splitlines()]\n",
    "\n",
    "print('Deliveries keys:\\t', end='')\n",
    "for key in deliveries[0].keys():\n",
    "    print(key+\"\\t\", end='')\n",
    "print(\"\")\n",
    "print('Products keys:\\t\\t', end='')\n",
    "for key in products[0].keys():\n",
    "    print(key+\"\\t\", end='')\n",
    "print(\"\")\n",
    "print('Sessions keys:\\t\\t', end='')\n",
    "for key in sessions[0].keys():\n",
    "    print(key+\"\\t\", end='')\n",
    "print(\"\")\n",
    "print('Users keys:\\t\\t', end='')\n",
    "for key in users[0].keys():\n",
    "    print(key+\"\\t\", end='')\n",
    "print(\"\")"
   ]
  },
  {
   "cell_type": "code",
   "execution_count": 6,
   "metadata": {},
   "outputs": [],
   "source": [
    "deliveriesDF = pd.DataFrame.from_dict(deliveries)\n",
    "productsDF = pd.DataFrame.from_dict(products)\n",
    "sessionsDF = pd.DataFrame.from_dict(sessions)\n",
    "usersDF = pd.DataFrame.from_dict(users)"
   ]
  },
  {
   "cell_type": "code",
   "execution_count": 7,
   "metadata": {},
   "outputs": [],
   "source": [
    "pysqldf = lambda q: sqldf(q, globals())\n",
    "dataDF = pysqldf(\"SELECT * FROM sessionsDF s JOIN deliveriesDF d ON s.purchase_id = d.purchase_id JOIN productsDF p ON s.product_id = p.product_id JOIN usersDF u ON s.user_id = u.user_id;\")\n",
    "projectedDataDF = pysqldf(\"SELECT purchase_timestamp, delivery_timestamp, delivery_company, offered_discount, product_name, price, category_path, name, city, street FROM dataDF;\")"
   ]
  },
  {
   "cell_type": "markdown",
   "metadata": {},
   "source": [
    "## Atrybuty w stworzonej z danych pojedynczej tabeli"
   ]
  },
  {
   "cell_type": "code",
   "execution_count": 8,
   "metadata": {},
   "outputs": [
    {
     "data": {
      "text/html": [
       "<div>\n",
       "<style scoped>\n",
       "    .dataframe tbody tr th:only-of-type {\n",
       "        vertical-align: middle;\n",
       "    }\n",
       "\n",
       "    .dataframe tbody tr th {\n",
       "        vertical-align: top;\n",
       "    }\n",
       "\n",
       "    .dataframe thead th {\n",
       "        text-align: right;\n",
       "    }\n",
       "</style>\n",
       "<table border=\"1\" class=\"dataframe\">\n",
       "  <thead>\n",
       "    <tr style=\"text-align: right;\">\n",
       "      <th></th>\n",
       "      <th>purchase_timestamp</th>\n",
       "      <th>delivery_timestamp</th>\n",
       "      <th>delivery_company</th>\n",
       "      <th>offered_discount</th>\n",
       "      <th>product_name</th>\n",
       "      <th>price</th>\n",
       "      <th>category_path</th>\n",
       "      <th>name</th>\n",
       "      <th>city</th>\n",
       "      <th>street</th>\n",
       "    </tr>\n",
       "  </thead>\n",
       "  <tbody>\n",
       "  </tbody>\n",
       "</table>\n",
       "</div>"
      ],
      "text/plain": [
       "Empty DataFrame\n",
       "Columns: [purchase_timestamp, delivery_timestamp, delivery_company, offered_discount, product_name, price, category_path, name, city, street]\n",
       "Index: []"
      ]
     },
     "execution_count": 8,
     "metadata": {},
     "output_type": "execute_result"
    }
   ],
   "source": [
    "pysqldf(\"SELECT * FROM projectedDataDF LIMIT 0;\")"
   ]
  },
  {
   "cell_type": "markdown",
   "metadata": {},
   "source": [
    "# Analiza danych"
   ]
  },
  {
   "cell_type": "markdown",
   "metadata": {},
   "source": [
    "### Funkcje wykorzystywane do konwersji daty"
   ]
  },
  {
   "cell_type": "code",
   "execution_count": 9,
   "metadata": {},
   "outputs": [],
   "source": [
    "# Convert date to unix timestamp (seconds only)\n",
    "def dateToTimestamp(date):\n",
    "    date = date.split('.')[0]\n",
    "    date = datetime.strptime(date, \"%Y-%m-%dT%H:%M:%S\").timetuple()\n",
    "    return time.mktime(date)\n",
    "\n",
    "def timestampToDate(timestamp):\n",
    "    return datetime.fromtimestamp(timestamp).strftime(\"%Y-%m-%dT%H:%M:%S\")"
   ]
  },
  {
   "cell_type": "markdown",
   "metadata": {},
   "source": [
    "### Ceny produktów\n",
    "\n",
    "Atrybut ten zawiera elementy odstające - występują ceny ujemne oraz bardzo duże. W kodzie poniżej używamy wartości 100000 jako największej realnej ceny, jednak w przefiltrowanych danych nie ma cen większych od 10000."
   ]
  },
  {
   "cell_type": "code",
   "execution_count": 10,
   "metadata": {},
   "outputs": [
    {
     "name": "stdout",
     "output_type": "stream",
     "text": [
      "Lowest price: 1.0\n",
      "Highest price: 7639.0\n",
      "Inliers: 287\n",
      "\n",
      "Outliers: 32\n",
      "Price\tProduct\n",
      "-142.99\tRace Driver Grid (PC)\n",
      "-121.9\tThe Darkness 2 (PC)\n",
      "-112.28\tSencor SDA-500\n",
      "-109.0\tFight Night Champion (PS3)\n",
      "-79.9\tAssassin&#39;s Creed 3 (PS3)\n",
      "-69.99\tSencor SDA-600\n",
      "-49.99\tAssassin&#39;s Creed 3 (Xbox 360)\n",
      "-39.0\tSniper Ghost Warrior 2 (Xbox 360)\n",
      "-37.9\tBioshock 2 (PC)\n",
      "-32.99\tCall of Duty Black Ops 2 (PC)\n",
      "-19.99\tSymulator Agrar 2012 (PC)\n",
      "-19.99\tSpace Hack (PC)\n",
      "-14.9\tSniper Ghost Warrior (PC)\n",
      "-11.9\tStreet Racing Syndicate (PC)\n",
      "-9.99\tKing&#39;s Bounty Nowe Światy (PC)\n",
      "-1.0\tKról Futbolu Piłkarski Quiz (PC)\n",
      "4990000.0\tMen of War Oddział Szturmowy (PC)\n",
      "9900000.0\tMad Riders (PC)\n",
      "14990000.0\tAnarchy Reigns (Xbox 360)\n",
      "18900000.0\tBioshock Infinite (PC)\n",
      "24990000.0\tLego Harry Potter Lata 1-4 (PC)\n",
      "31900000.0\tSniper Elite V2 (PC)\n",
      "31990000.0\tAvencast Rise of the Mage (PC)\n",
      "33990000.0\tWładca Pierścieni Wojna Na Północy (PC)\n",
      "34900000.0\tThe Sims 3 Wymarzone Podróże (PC)\n",
      "36990000.0\tRidge Racer Unbounded (PC)\n",
      "47790000.0\tDead Rising 2 Off the Record (PC)\n",
      "49900000.0\tSymulator Śmieciarki (PC)\n",
      "64800000.0\tManta MM266\n",
      "89990000.0\tSencor SDA-630\n",
      "94530000.0\tOne For All SV 9323\n",
      "132900000.0\tDeep Black Reloaded (PC)\n"
     ]
    }
   ],
   "source": [
    "products.sort(key=lambda product : product[\"price\"])\n",
    "\n",
    "maxPossiblePrice = 100000\n",
    "priceOutlierProducts = [product for product in products if product[\"price\"] < 0 or product[\"price\"] > maxPossiblePrice]\n",
    "priceInliers = [product[\"price\"] for product in products if product[\"price\"] >= 0 and product[\"price\"] <= maxPossiblePrice]\n",
    "\n",
    "print(\"Lowest price: \"+str(priceInliers[0]))\n",
    "print(\"Highest price: \"+str(priceInliers[-1]))\n",
    "print(\"Inliers: \"+str(len(priceInliers)))\n",
    "print(\"\")\n",
    "print(\"Outliers: \"+str(len(priceOutlierProducts)))\n",
    "print(\"Price\\tProduct\")\n",
    "for product in priceOutlierProducts:\n",
    "    print(str(product[\"price\"])+\"\\t\"+str(product[\"product_name\"]))"
   ]
  },
  {
   "cell_type": "markdown",
   "metadata": {},
   "source": [
    "## Przesyłki dostarczone przed zamówieniem\n",
    "W wielu przypadkach w danych zdarza się, że moment zakupu wypada później od momentu dostarczenia zakupionego produktu, co nie powinno mieć miejsca. Poniżej wyznaczamy liczbę tych przypadków, a dokładne czasy dostaw, jako różnice czasów dostawy i zakupu, analizujemy poniżej. Opisana sytuacja widoczna jest tam jako ujemny czas dostawy."
   ]
  },
  {
   "cell_type": "code",
   "execution_count": 11,
   "metadata": {},
   "outputs": [
    {
     "data": {
      "text/html": [
       "<div>\n",
       "<style scoped>\n",
       "    .dataframe tbody tr th:only-of-type {\n",
       "        vertical-align: middle;\n",
       "    }\n",
       "\n",
       "    .dataframe tbody tr th {\n",
       "        vertical-align: top;\n",
       "    }\n",
       "\n",
       "    .dataframe thead th {\n",
       "        text-align: right;\n",
       "    }\n",
       "</style>\n",
       "<table border=\"1\" class=\"dataframe\">\n",
       "  <thead>\n",
       "    <tr style=\"text-align: right;\">\n",
       "      <th></th>\n",
       "      <th>Dostarczone przed zakupem</th>\n",
       "    </tr>\n",
       "  </thead>\n",
       "  <tbody>\n",
       "    <tr>\n",
       "      <th>0</th>\n",
       "      <td>1963</td>\n",
       "    </tr>\n",
       "  </tbody>\n",
       "</table>\n",
       "</div>"
      ],
      "text/plain": [
       "   Dostarczone przed zakupem\n",
       "0                       1963"
      ]
     },
     "execution_count": 11,
     "metadata": {},
     "output_type": "execute_result"
    }
   ],
   "source": [
    "#pysqldf(\"SELECT COUNT(*) FROM dataDF WHERE event_type = \\\"VIEW_PRODUCT\\\";\")\n",
    "#pysqldf(\"SELECT name, city, street, COUNT(*) count FROM projectedDataDF WHERE purchase_timestamp > delivery_timestamp GROUP BY name;\")\n",
    "pysqldf(\"SELECT count(*) as 'Dostarczone przed zakupem' FROM projectedDataDF WHERE purchase_timestamp > delivery_timestamp;\")"
   ]
  },
  {
   "cell_type": "markdown",
   "metadata": {},
   "source": [
    "## Czas dostawy wszystkich dostarczonych przesyłek"
   ]
  },
  {
   "cell_type": "code",
   "execution_count": 12,
   "metadata": {
    "scrolled": true
   },
   "outputs": [
    {
     "name": "stdout",
     "output_type": "stream",
     "text": [
      "382 purchases not delivered\n",
      "7258 purchases delivered\n"
     ]
    },
    {
     "data": {
      "image/png": "[encoded data removed]",
      "text/plain": [
       "<Figure size 432x288 with 1 Axes>"
      ]
     },
     "metadata": {
      "needs_background": "light"
     },
     "output_type": "display_data"
    }
   ],
   "source": [
    "notDeliveredList = [delivery for delivery in deliveries if delivery['delivery_timestamp'] is None]\n",
    "deliveredList = [delivery for delivery in deliveries if delivery['delivery_timestamp'] is not None]\n",
    "print(str(len(notDeliveredList))+\" purchases not delivered\")\n",
    "print(str(len(deliveredList))+\" purchases delivered\")\n",
    "\n",
    "deliveryTimes = [dateToTimestamp(delivery['delivery_timestamp']) for delivery in deliveredList]\n",
    "purchaseTimes = [dateToTimestamp(delivery['purchase_timestamp']) for delivery in deliveredList]\n",
    "\n",
    "deliveryDurations = [(deliveryTime - purchaseTime)/3600 for deliveryTime, purchaseTime in zip(deliveryTimes, purchaseTimes)]\n",
    "\n",
    "plt.hist(deliveryDurations, density=False, bins=100)\n",
    "plt.ylabel('Number of deliveries')\n",
    "plt.xlabel('Delivery duration [h]')\n",
    "plt.show()"
   ]
  },
  {
   "cell_type": "markdown",
   "metadata": {},
   "source": [
    "## Czas dostawy wszystkich dostarczonych przesyłek z podziałem na firmy kurierskie\n"
   ]
  },
  {
   "cell_type": "code",
   "execution_count": 13,
   "metadata": {},
   "outputs": [
    {
     "name": "stdout",
     "output_type": "stream",
     "text": [
      "Company 620\n",
      "2321 deliveries\n"
     ]
    },
    {
     "data": {
      "image/png": "[encoded data removed]",
      "text/plain": [
       "<Figure size 432x288 with 1 Axes>"
      ]
     },
     "metadata": {
      "needs_background": "light"
     },
     "output_type": "display_data"
    },
    {
     "name": "stdout",
     "output_type": "stream",
     "text": [
      "Company None\n",
      "337 deliveries\n"
     ]
    },
    {
     "data": {
      "image/png": "[encoded data removed]",
      "text/plain": [
       "<Figure size 432x288 with 1 Axes>"
      ]
     },
     "metadata": {
      "needs_background": "light"
     },
     "output_type": "display_data"
    },
    {
     "name": "stdout",
     "output_type": "stream",
     "text": [
      "Company 516\n",
      "2305 deliveries\n"
     ]
    },
    {
     "data": {
      "image/png": "[encoded data removed]",
      "text/plain": [
       "<Figure size 432x288 with 1 Axes>"
      ]
     },
     "metadata": {
      "needs_background": "light"
     },
     "output_type": "display_data"
    },
    {
     "name": "stdout",
     "output_type": "stream",
     "text": [
      "Company 360\n",
      "2295 deliveries\n"
     ]
    },
    {
     "data": {
      "image/png": "[encoded data removed]",
      "text/plain": [
       "<Figure size 432x288 with 1 Axes>"
      ]
     },
     "metadata": {
      "needs_background": "light"
     },
     "output_type": "display_data"
    }
   ],
   "source": [
    "companies = []\n",
    "for delivery in deliveries:\n",
    "    if delivery['delivery_company'] not in companies:# and delivery['delivery_company'] is not None:\n",
    "        companies.append(delivery['delivery_company'])\n",
    "\n",
    "for company in companies:\n",
    "    print('Company '+str(company))\n",
    "    durations = []\n",
    "    counter = 0\n",
    "    for delivery in deliveredList:\n",
    "        if delivery['delivery_company'] == company:\n",
    "            counter += 1\n",
    "            durations.append((dateToTimestamp(delivery['delivery_timestamp']) - dateToTimestamp(delivery['purchase_timestamp']))/3600)\n",
    "    print(str(counter)+' deliveries')\n",
    "    plt.hist(durations, density=False, bins=100)\n",
    "    plt.ylabel('Number of deliveries')\n",
    "    plt.xlabel('Delivery duration [h]')\n",
    "    plt.show()"
   ]
  },
  {
   "cell_type": "markdown",
   "metadata": {},
   "source": [
    "### Analiza czasu dostawy\n",
    "\n",
    "Dalej skupiamy się wyłącznie na analizie przesyłek z oznaczoną datą dostarczenia wypadającą później od oznaczonej daty zakupu."
   ]
  },
  {
   "cell_type": "code",
   "execution_count": 14,
   "metadata": {
    "tags": []
   },
   "outputs": [
    {
     "data": {
      "text/html": [
       "<div>\n",
       "<style scoped>\n",
       "    .dataframe tbody tr th:only-of-type {\n",
       "        vertical-align: middle;\n",
       "    }\n",
       "\n",
       "    .dataframe tbody tr th {\n",
       "        vertical-align: top;\n",
       "    }\n",
       "\n",
       "    .dataframe thead th {\n",
       "        text-align: right;\n",
       "    }\n",
       "</style>\n",
       "<table border=\"1\" class=\"dataframe\">\n",
       "  <thead>\n",
       "    <tr style=\"text-align: right;\">\n",
       "      <th></th>\n",
       "      <th>purchase_timestamp</th>\n",
       "      <th>delivery_timestamp</th>\n",
       "      <th>delivery_company</th>\n",
       "      <th>offered_discount</th>\n",
       "      <th>product_name</th>\n",
       "      <th>price</th>\n",
       "      <th>category_path</th>\n",
       "      <th>name</th>\n",
       "      <th>city</th>\n",
       "      <th>street</th>\n",
       "      <th>purchase_timestamp_sec</th>\n",
       "      <th>delivery_timestamp_sec</th>\n",
       "      <th>delivery_time_h</th>\n",
       "      <th>purchase_day_name</th>\n",
       "      <th>delivery_day_name</th>\n",
       "    </tr>\n",
       "  </thead>\n",
       "  <tbody>\n",
       "    <tr>\n",
       "      <th>0</th>\n",
       "      <td>2021-03-07 03:52:21</td>\n",
       "      <td>2021-03-08 23:29:47.065546</td>\n",
       "      <td>620.0</td>\n",
       "      <td>15</td>\n",
       "      <td>Kyocera FS-3540MFP</td>\n",
       "      <td>5126.00</td>\n",
       "      <td>Komputery;Drukarki i skanery;Biurowe urządzeni...</td>\n",
       "      <td>Julianna Wójcikiewicz</td>\n",
       "      <td>Szczecin</td>\n",
       "      <td>pl. Szczęśliwa 91/41</td>\n",
       "      <td>1615085541</td>\n",
       "      <td>1615242587</td>\n",
       "      <td>43.623889</td>\n",
       "      <td>Sunday</td>\n",
       "      <td>Monday</td>\n",
       "    </tr>\n",
       "    <tr>\n",
       "      <th>1</th>\n",
       "      <td>2021-03-08 12:51:20</td>\n",
       "      <td>2021-03-10 08:56:30.356048</td>\n",
       "      <td>620.0</td>\n",
       "      <td>0</td>\n",
       "      <td>Manta DVD064</td>\n",
       "      <td>109.00</td>\n",
       "      <td>Sprzęt RTV;Video;Odtwarzacze DVD</td>\n",
       "      <td>Julianna Wójcikiewicz</td>\n",
       "      <td>Szczecin</td>\n",
       "      <td>pl. Szczęśliwa 91/41</td>\n",
       "      <td>1615204280</td>\n",
       "      <td>1615362990</td>\n",
       "      <td>44.086111</td>\n",
       "      <td>Monday</td>\n",
       "      <td>Wednesday</td>\n",
       "    </tr>\n",
       "    <tr>\n",
       "      <th>2</th>\n",
       "      <td>2021-03-07 11:10:10</td>\n",
       "      <td>2021-03-07 15:10:29.594621</td>\n",
       "      <td>360.0</td>\n",
       "      <td>0</td>\n",
       "      <td>Plantronics Voyager Legend</td>\n",
       "      <td>249.00</td>\n",
       "      <td>Telefony i akcesoria;Akcesoria telefoniczne;Ze...</td>\n",
       "      <td>Julianna Wójcikiewicz</td>\n",
       "      <td>Szczecin</td>\n",
       "      <td>pl. Szczęśliwa 91/41</td>\n",
       "      <td>1615111810</td>\n",
       "      <td>1615126229</td>\n",
       "      <td>4.005278</td>\n",
       "      <td>Sunday</td>\n",
       "      <td>Sunday</td>\n",
       "    </tr>\n",
       "    <tr>\n",
       "      <th>3</th>\n",
       "      <td>2021-03-14 11:12:10</td>\n",
       "      <td>2021-03-18 08:56:17.888575</td>\n",
       "      <td>360.0</td>\n",
       "      <td>15</td>\n",
       "      <td>Samsung Galaxy S III GT-i9300</td>\n",
       "      <td>2199.90</td>\n",
       "      <td>Telefony i akcesoria;Telefony komórkowe</td>\n",
       "      <td>Julianna Wójcikiewicz</td>\n",
       "      <td>Szczecin</td>\n",
       "      <td>pl. Szczęśliwa 91/41</td>\n",
       "      <td>1615716730</td>\n",
       "      <td>1616054177</td>\n",
       "      <td>93.735278</td>\n",
       "      <td>Sunday</td>\n",
       "      <td>Thursday</td>\n",
       "    </tr>\n",
       "    <tr>\n",
       "      <th>4</th>\n",
       "      <td>2021-02-15 02:50:22</td>\n",
       "      <td>2021-02-15 14:10:14.870034</td>\n",
       "      <td>516.0</td>\n",
       "      <td>5</td>\n",
       "      <td>Hama 44292</td>\n",
       "      <td>44.99</td>\n",
       "      <td>Sprzęt RTV;Video;Telewizory i akcesoria;Anteny...</td>\n",
       "      <td>Julianna Wójcikiewicz</td>\n",
       "      <td>Szczecin</td>\n",
       "      <td>pl. Szczęśliwa 91/41</td>\n",
       "      <td>1613353822</td>\n",
       "      <td>1613394614</td>\n",
       "      <td>11.331111</td>\n",
       "      <td>Monday</td>\n",
       "      <td>Monday</td>\n",
       "    </tr>\n",
       "    <tr>\n",
       "      <th>...</th>\n",
       "      <td>...</td>\n",
       "      <td>...</td>\n",
       "      <td>...</td>\n",
       "      <td>...</td>\n",
       "      <td>...</td>\n",
       "      <td>...</td>\n",
       "      <td>...</td>\n",
       "      <td>...</td>\n",
       "      <td>...</td>\n",
       "      <td>...</td>\n",
       "      <td>...</td>\n",
       "      <td>...</td>\n",
       "      <td>...</td>\n",
       "      <td>...</td>\n",
       "      <td>...</td>\n",
       "    </tr>\n",
       "    <tr>\n",
       "      <th>4590</th>\n",
       "      <td>2021-02-21 17:44:13</td>\n",
       "      <td>2021-02-23 07:42:42.799867</td>\n",
       "      <td>620.0</td>\n",
       "      <td>20</td>\n",
       "      <td>Philips SDV5100</td>\n",
       "      <td>119.00</td>\n",
       "      <td>Sprzęt RTV;Video;Telewizory i akcesoria;Anteny...</td>\n",
       "      <td>Leonard Noras</td>\n",
       "      <td>Konin</td>\n",
       "      <td>ulica Szeroka 91/08</td>\n",
       "      <td>1613925853</td>\n",
       "      <td>1614062562</td>\n",
       "      <td>37.974722</td>\n",
       "      <td>Sunday</td>\n",
       "      <td>Tuesday</td>\n",
       "    </tr>\n",
       "    <tr>\n",
       "      <th>4591</th>\n",
       "      <td>2021-03-11 21:11:18</td>\n",
       "      <td>2021-03-12 12:15:15.908504</td>\n",
       "      <td>516.0</td>\n",
       "      <td>0</td>\n",
       "      <td>Sony DVP-SR760</td>\n",
       "      <td>193.00</td>\n",
       "      <td>Sprzęt RTV;Video;Odtwarzacze DVD</td>\n",
       "      <td>Leonard Noras</td>\n",
       "      <td>Konin</td>\n",
       "      <td>ulica Szeroka 91/08</td>\n",
       "      <td>1615493478</td>\n",
       "      <td>1615547715</td>\n",
       "      <td>15.065833</td>\n",
       "      <td>Thursday</td>\n",
       "      <td>Friday</td>\n",
       "    </tr>\n",
       "    <tr>\n",
       "      <th>4592</th>\n",
       "      <td>2021-01-14 21:47:35</td>\n",
       "      <td>2021-01-14 22:27:30.495168</td>\n",
       "      <td>620.0</td>\n",
       "      <td>5</td>\n",
       "      <td>Telefon Siemens Gigaset DA310</td>\n",
       "      <td>58.97</td>\n",
       "      <td>Telefony i akcesoria;Telefony stacjonarne</td>\n",
       "      <td>Leonard Noras</td>\n",
       "      <td>Konin</td>\n",
       "      <td>ulica Szeroka 91/08</td>\n",
       "      <td>1610657255</td>\n",
       "      <td>1610659650</td>\n",
       "      <td>0.665278</td>\n",
       "      <td>Thursday</td>\n",
       "      <td>Thursday</td>\n",
       "    </tr>\n",
       "    <tr>\n",
       "      <th>4593</th>\n",
       "      <td>2021-01-16 12:36:17</td>\n",
       "      <td>2021-01-17 01:48:18.440661</td>\n",
       "      <td>620.0</td>\n",
       "      <td>10</td>\n",
       "      <td>Telefon Siemens Gigaset DA310</td>\n",
       "      <td>58.97</td>\n",
       "      <td>Telefony i akcesoria;Telefony stacjonarne</td>\n",
       "      <td>Leonard Noras</td>\n",
       "      <td>Konin</td>\n",
       "      <td>ulica Szeroka 91/08</td>\n",
       "      <td>1610796977</td>\n",
       "      <td>1610844498</td>\n",
       "      <td>13.200278</td>\n",
       "      <td>Saturday</td>\n",
       "      <td>Sunday</td>\n",
       "    </tr>\n",
       "    <tr>\n",
       "      <th>4594</th>\n",
       "      <td>2021-02-21 03:33:21</td>\n",
       "      <td>2021-02-22 06:06:29.464933</td>\n",
       "      <td>620.0</td>\n",
       "      <td>0</td>\n",
       "      <td>Doom 3 (PC)</td>\n",
       "      <td>19.99</td>\n",
       "      <td>Gry i konsole;Gry komputerowe</td>\n",
       "      <td>Leonard Noras</td>\n",
       "      <td>Konin</td>\n",
       "      <td>ulica Szeroka 91/08</td>\n",
       "      <td>1613874801</td>\n",
       "      <td>1613970389</td>\n",
       "      <td>26.552222</td>\n",
       "      <td>Sunday</td>\n",
       "      <td>Monday</td>\n",
       "    </tr>\n",
       "  </tbody>\n",
       "</table>\n",
       "<p>4595 rows × 15 columns</p>\n",
       "</div>"
      ],
      "text/plain": [
       "       purchase_timestamp          delivery_timestamp  delivery_company  \\\n",
       "0     2021-03-07 03:52:21  2021-03-08 23:29:47.065546             620.0   \n",
       "1     2021-03-08 12:51:20  2021-03-10 08:56:30.356048             620.0   \n",
       "2     2021-03-07 11:10:10  2021-03-07 15:10:29.594621             360.0   \n",
       "3     2021-03-14 11:12:10  2021-03-18 08:56:17.888575             360.0   \n",
       "4     2021-02-15 02:50:22  2021-02-15 14:10:14.870034             516.0   \n",
       "...                   ...                         ...               ...   \n",
       "4590  2021-02-21 17:44:13  2021-02-23 07:42:42.799867             620.0   \n",
       "4591  2021-03-11 21:11:18  2021-03-12 12:15:15.908504             516.0   \n",
       "4592  2021-01-14 21:47:35  2021-01-14 22:27:30.495168             620.0   \n",
       "4593  2021-01-16 12:36:17  2021-01-17 01:48:18.440661             620.0   \n",
       "4594  2021-02-21 03:33:21  2021-02-22 06:06:29.464933             620.0   \n",
       "\n",
       "      offered_discount                   product_name    price  \\\n",
       "0                   15             Kyocera FS-3540MFP  5126.00   \n",
       "1                    0                   Manta DVD064   109.00   \n",
       "2                    0     Plantronics Voyager Legend   249.00   \n",
       "3                   15  Samsung Galaxy S III GT-i9300  2199.90   \n",
       "4                    5                     Hama 44292    44.99   \n",
       "...                ...                            ...      ...   \n",
       "4590                20                Philips SDV5100   119.00   \n",
       "4591                 0                 Sony DVP-SR760   193.00   \n",
       "4592                 5  Telefon Siemens Gigaset DA310    58.97   \n",
       "4593                10  Telefon Siemens Gigaset DA310    58.97   \n",
       "4594                 0                    Doom 3 (PC)    19.99   \n",
       "\n",
       "                                          category_path  \\\n",
       "0     Komputery;Drukarki i skanery;Biurowe urządzeni...   \n",
       "1                      Sprzęt RTV;Video;Odtwarzacze DVD   \n",
       "2     Telefony i akcesoria;Akcesoria telefoniczne;Ze...   \n",
       "3               Telefony i akcesoria;Telefony komórkowe   \n",
       "4     Sprzęt RTV;Video;Telewizory i akcesoria;Anteny...   \n",
       "...                                                 ...   \n",
       "4590  Sprzęt RTV;Video;Telewizory i akcesoria;Anteny...   \n",
       "4591                   Sprzęt RTV;Video;Odtwarzacze DVD   \n",
       "4592          Telefony i akcesoria;Telefony stacjonarne   \n",
       "4593          Telefony i akcesoria;Telefony stacjonarne   \n",
       "4594                      Gry i konsole;Gry komputerowe   \n",
       "\n",
       "                       name      city                street  \\\n",
       "0     Julianna Wójcikiewicz  Szczecin  pl. Szczęśliwa 91/41   \n",
       "1     Julianna Wójcikiewicz  Szczecin  pl. Szczęśliwa 91/41   \n",
       "2     Julianna Wójcikiewicz  Szczecin  pl. Szczęśliwa 91/41   \n",
       "3     Julianna Wójcikiewicz  Szczecin  pl. Szczęśliwa 91/41   \n",
       "4     Julianna Wójcikiewicz  Szczecin  pl. Szczęśliwa 91/41   \n",
       "...                     ...       ...                   ...   \n",
       "4590          Leonard Noras     Konin   ulica Szeroka 91/08   \n",
       "4591          Leonard Noras     Konin   ulica Szeroka 91/08   \n",
       "4592          Leonard Noras     Konin   ulica Szeroka 91/08   \n",
       "4593          Leonard Noras     Konin   ulica Szeroka 91/08   \n",
       "4594          Leonard Noras     Konin   ulica Szeroka 91/08   \n",
       "\n",
       "      purchase_timestamp_sec  delivery_timestamp_sec  delivery_time_h  \\\n",
       "0                 1615085541              1615242587        43.623889   \n",
       "1                 1615204280              1615362990        44.086111   \n",
       "2                 1615111810              1615126229         4.005278   \n",
       "3                 1615716730              1616054177        93.735278   \n",
       "4                 1613353822              1613394614        11.331111   \n",
       "...                      ...                     ...              ...   \n",
       "4590              1613925853              1614062562        37.974722   \n",
       "4591              1615493478              1615547715        15.065833   \n",
       "4592              1610657255              1610659650         0.665278   \n",
       "4593              1610796977              1610844498        13.200278   \n",
       "4594              1613874801              1613970389        26.552222   \n",
       "\n",
       "     purchase_day_name delivery_day_name  \n",
       "0               Sunday            Monday  \n",
       "1               Monday         Wednesday  \n",
       "2               Sunday            Sunday  \n",
       "3               Sunday          Thursday  \n",
       "4               Monday            Monday  \n",
       "...                ...               ...  \n",
       "4590            Sunday           Tuesday  \n",
       "4591          Thursday            Friday  \n",
       "4592          Thursday          Thursday  \n",
       "4593          Saturday            Sunday  \n",
       "4594            Sunday            Monday  \n",
       "\n",
       "[4595 rows x 15 columns]"
      ]
     },
     "execution_count": 14,
     "metadata": {},
     "output_type": "execute_result"
    }
   ],
   "source": [
    "N_SECONDS = 3600.0\n",
    "\n",
    "correctDataDF = pysqldf(\"SELECT * FROM projectedDataDF WHERE purchase_timestamp < delivery_timestamp\")\n",
    "\n",
    "#create columns\n",
    "correctDataDF[\"purchase_timestamp_sec\"] = 0\n",
    "correctDataDF[\"delivery_timestamp_sec\"] = 0\n",
    "correctDataDF[\"delivery_time_h\"] = 0.0\n",
    "correctDataDF[\"purchase_day_name\"] = \"\"\n",
    "correctDataDF[\"delivery_day_name\"] = \"\"\n",
    "\n",
    "for index, _ in correctDataDF.iterrows():\n",
    "    correctDataDF.at[index, \"purchase_timestamp_sec\"] = dateToTimestamp(correctDataDF[\"purchase_timestamp\"].iloc[index])\n",
    "    correctDataDF.at[index, \"delivery_timestamp_sec\"] = dateToTimestamp(correctDataDF[\"delivery_timestamp\"].iloc[index])\n",
    "    correctDataDF.at[index, \"delivery_time_h\"] = float(correctDataDF[\"delivery_timestamp_sec\"].iloc[index] - correctDataDF[\"purchase_timestamp_sec\"].iloc[index]) / N_SECONDS\n",
    "    correctDataDF.at[index, \"purchase_timestamp\"] = pd.to_datetime(correctDataDF[\"purchase_timestamp\"].iloc[index])\n",
    "    correctDataDF.at[index, \"delivery_timestamp\"] = pd.to_datetime(correctDataDF[\"delivery_timestamp\"].iloc[index])\n",
    "    correctDataDF.at[index, \"purchase_day_name\"] = correctDataDF[\"purchase_timestamp\"].iloc[index].day_name()\n",
    "    correctDataDF.at[index, \"delivery_day_name\"] = correctDataDF[\"delivery_timestamp\"].iloc[index].day_name()\n",
    "\n",
    "correctDataDF"
   ]
  },
  {
   "cell_type": "markdown",
   "metadata": {},
   "source": [
    "### Czas dostawy z podziałem na miasta"
   ]
  },
  {
   "cell_type": "code",
   "execution_count": 15,
   "metadata": {},
   "outputs": [
    {
     "data": {
      "text/html": [
       "<div>\n",
       "<style scoped>\n",
       "    .dataframe tbody tr th:only-of-type {\n",
       "        vertical-align: middle;\n",
       "    }\n",
       "\n",
       "    .dataframe tbody tr th {\n",
       "        vertical-align: top;\n",
       "    }\n",
       "\n",
       "    .dataframe thead th {\n",
       "        text-align: right;\n",
       "    }\n",
       "</style>\n",
       "<table border=\"1\" class=\"dataframe\">\n",
       "  <thead>\n",
       "    <tr style=\"text-align: right;\">\n",
       "      <th></th>\n",
       "      <th>Miasto</th>\n",
       "      <th>Średni czas dostawy</th>\n",
       "    </tr>\n",
       "  </thead>\n",
       "  <tbody>\n",
       "    <tr>\n",
       "      <th>0</th>\n",
       "      <td>Warszawa</td>\n",
       "      <td>47.592224</td>\n",
       "    </tr>\n",
       "    <tr>\n",
       "      <th>1</th>\n",
       "      <td>Police</td>\n",
       "      <td>47.874228</td>\n",
       "    </tr>\n",
       "    <tr>\n",
       "      <th>2</th>\n",
       "      <td>Konin</td>\n",
       "      <td>48.601555</td>\n",
       "    </tr>\n",
       "    <tr>\n",
       "      <th>3</th>\n",
       "      <td>Szczecin</td>\n",
       "      <td>48.620962</td>\n",
       "    </tr>\n",
       "    <tr>\n",
       "      <th>4</th>\n",
       "      <td>Radom</td>\n",
       "      <td>48.956674</td>\n",
       "    </tr>\n",
       "    <tr>\n",
       "      <th>5</th>\n",
       "      <td>Mielec</td>\n",
       "      <td>49.028544</td>\n",
       "    </tr>\n",
       "    <tr>\n",
       "      <th>6</th>\n",
       "      <td>Gdynia</td>\n",
       "      <td>50.004451</td>\n",
       "    </tr>\n",
       "    <tr>\n",
       "      <th>7</th>\n",
       "      <td>Kutno</td>\n",
       "      <td>50.410385</td>\n",
       "    </tr>\n",
       "  </tbody>\n",
       "</table>\n",
       "</div>"
      ],
      "text/plain": [
       "     Miasto  Średni czas dostawy\n",
       "0  Warszawa            47.592224\n",
       "1    Police            47.874228\n",
       "2     Konin            48.601555\n",
       "3  Szczecin            48.620962\n",
       "4     Radom            48.956674\n",
       "5    Mielec            49.028544\n",
       "6    Gdynia            50.004451\n",
       "7     Kutno            50.410385"
      ]
     },
     "execution_count": 15,
     "metadata": {},
     "output_type": "execute_result"
    }
   ],
   "source": [
    "pysqldf(\"SELECT city as Miasto, AVG(delivery_time_h) AS 'Średni czas dostawy' FROM correctDataDF GROUP BY city ORDER BY AVG(delivery_time_h);\")"
   ]
  },
  {
   "cell_type": "code",
   "execution_count": 16,
   "metadata": {},
   "outputs": [
    {
     "data": {
      "text/html": [
       "<div>\n",
       "<style scoped>\n",
       "    .dataframe tbody tr th:only-of-type {\n",
       "        vertical-align: middle;\n",
       "    }\n",
       "\n",
       "    .dataframe tbody tr th {\n",
       "        vertical-align: top;\n",
       "    }\n",
       "\n",
       "    .dataframe thead th {\n",
       "        text-align: right;\n",
       "    }\n",
       "</style>\n",
       "<table border=\"1\" class=\"dataframe\">\n",
       "  <thead>\n",
       "    <tr style=\"text-align: right;\">\n",
       "      <th></th>\n",
       "      <th>count_city</th>\n",
       "      <th>mean_delivery_time_h</th>\n",
       "      <th>std_delivery_time_h</th>\n",
       "    </tr>\n",
       "    <tr>\n",
       "      <th>city</th>\n",
       "      <th></th>\n",
       "      <th></th>\n",
       "      <th></th>\n",
       "    </tr>\n",
       "  </thead>\n",
       "  <tbody>\n",
       "    <tr>\n",
       "      <th>Warszawa</th>\n",
       "      <td>736</td>\n",
       "      <td>47.592224</td>\n",
       "      <td>33.033617</td>\n",
       "    </tr>\n",
       "    <tr>\n",
       "      <th>Police</th>\n",
       "      <td>433</td>\n",
       "      <td>47.874228</td>\n",
       "      <td>33.554049</td>\n",
       "    </tr>\n",
       "    <tr>\n",
       "      <th>Konin</th>\n",
       "      <td>538</td>\n",
       "      <td>48.601555</td>\n",
       "      <td>31.851092</td>\n",
       "    </tr>\n",
       "    <tr>\n",
       "      <th>Szczecin</th>\n",
       "      <td>431</td>\n",
       "      <td>48.620962</td>\n",
       "      <td>32.379566</td>\n",
       "    </tr>\n",
       "    <tr>\n",
       "      <th>Radom</th>\n",
       "      <td>693</td>\n",
       "      <td>48.956674</td>\n",
       "      <td>36.203805</td>\n",
       "    </tr>\n",
       "    <tr>\n",
       "      <th>Mielec</th>\n",
       "      <td>753</td>\n",
       "      <td>49.028544</td>\n",
       "      <td>33.714425</td>\n",
       "    </tr>\n",
       "    <tr>\n",
       "      <th>Gdynia</th>\n",
       "      <td>522</td>\n",
       "      <td>50.004451</td>\n",
       "      <td>35.445027</td>\n",
       "    </tr>\n",
       "    <tr>\n",
       "      <th>Kutno</th>\n",
       "      <td>489</td>\n",
       "      <td>50.410385</td>\n",
       "      <td>34.196164</td>\n",
       "    </tr>\n",
       "  </tbody>\n",
       "</table>\n",
       "</div>"
      ],
      "text/plain": [
       "          count_city  mean_delivery_time_h  std_delivery_time_h\n",
       "city                                                           \n",
       "Warszawa         736             47.592224            33.033617\n",
       "Police           433             47.874228            33.554049\n",
       "Konin            538             48.601555            31.851092\n",
       "Szczecin         431             48.620962            32.379566\n",
       "Radom            693             48.956674            36.203805\n",
       "Mielec           753             49.028544            33.714425\n",
       "Gdynia           522             50.004451            35.445027\n",
       "Kutno            489             50.410385            34.196164"
      ]
     },
     "execution_count": 16,
     "metadata": {},
     "output_type": "execute_result"
    }
   ],
   "source": [
    "correctDataDF.groupby(\"city\").agg(\n",
    "    count_city=(\"city\", \"count\"),\n",
    "    mean_delivery_time_h=(\"delivery_time_h\", \"mean\"),\n",
    "    std_delivery_time_h=(\"delivery_time_h\", \"std\")\n",
    ").sort_values(by=\"mean_delivery_time_h\")"
   ]
  },
  {
   "cell_type": "markdown",
   "metadata": {},
   "source": [
    "Jak widać, czas dostawy nie zależy zbytnio od miasta, w którym znajduje się klient. Być może oznacza to, że firma ma oddziały we wszystkich tych miastach."
   ]
  },
  {
   "cell_type": "markdown",
   "metadata": {},
   "source": [
    "### Czas dostawy z podziałem na dni tygodnia"
   ]
  },
  {
   "cell_type": "code",
   "execution_count": 17,
   "metadata": {},
   "outputs": [
    {
     "data": {
      "text/html": [
       "<div>\n",
       "<style scoped>\n",
       "    .dataframe tbody tr th:only-of-type {\n",
       "        vertical-align: middle;\n",
       "    }\n",
       "\n",
       "    .dataframe tbody tr th {\n",
       "        vertical-align: top;\n",
       "    }\n",
       "\n",
       "    .dataframe thead th {\n",
       "        text-align: right;\n",
       "    }\n",
       "</style>\n",
       "<table border=\"1\" class=\"dataframe\">\n",
       "  <thead>\n",
       "    <tr style=\"text-align: right;\">\n",
       "      <th></th>\n",
       "      <th>purchase_day_name</th>\n",
       "      <th>COUNT(*)</th>\n",
       "      <th>AVG(delivery_time_h)</th>\n",
       "    </tr>\n",
       "  </thead>\n",
       "  <tbody>\n",
       "    <tr>\n",
       "      <th>0</th>\n",
       "      <td>Monday</td>\n",
       "      <td>652</td>\n",
       "      <td>47.799079</td>\n",
       "    </tr>\n",
       "    <tr>\n",
       "      <th>1</th>\n",
       "      <td>Saturday</td>\n",
       "      <td>684</td>\n",
       "      <td>48.120035</td>\n",
       "    </tr>\n",
       "    <tr>\n",
       "      <th>2</th>\n",
       "      <td>Wednesday</td>\n",
       "      <td>596</td>\n",
       "      <td>48.471003</td>\n",
       "    </tr>\n",
       "    <tr>\n",
       "      <th>3</th>\n",
       "      <td>Thursday</td>\n",
       "      <td>643</td>\n",
       "      <td>48.943231</td>\n",
       "    </tr>\n",
       "    <tr>\n",
       "      <th>4</th>\n",
       "      <td>Tuesday</td>\n",
       "      <td>614</td>\n",
       "      <td>49.371340</td>\n",
       "    </tr>\n",
       "    <tr>\n",
       "      <th>5</th>\n",
       "      <td>Friday</td>\n",
       "      <td>661</td>\n",
       "      <td>49.492935</td>\n",
       "    </tr>\n",
       "    <tr>\n",
       "      <th>6</th>\n",
       "      <td>Sunday</td>\n",
       "      <td>745</td>\n",
       "      <td>49.653701</td>\n",
       "    </tr>\n",
       "  </tbody>\n",
       "</table>\n",
       "</div>"
      ],
      "text/plain": [
       "  purchase_day_name  COUNT(*)  AVG(delivery_time_h)\n",
       "0            Monday       652             47.799079\n",
       "1          Saturday       684             48.120035\n",
       "2         Wednesday       596             48.471003\n",
       "3          Thursday       643             48.943231\n",
       "4           Tuesday       614             49.371340\n",
       "5            Friday       661             49.492935\n",
       "6            Sunday       745             49.653701"
      ]
     },
     "execution_count": 17,
     "metadata": {},
     "output_type": "execute_result"
    }
   ],
   "source": [
    "pysqldf(\"SELECT purchase_day_name, COUNT(*), AVG(delivery_time_h) FROM correctDataDF GROUP BY purchase_day_name ORDER BY AVG(delivery_time_h);\")"
   ]
  },
  {
   "cell_type": "code",
   "execution_count": 18,
   "metadata": {},
   "outputs": [
    {
     "data": {
      "text/html": [
       "<div>\n",
       "<style scoped>\n",
       "    .dataframe tbody tr th:only-of-type {\n",
       "        vertical-align: middle;\n",
       "    }\n",
       "\n",
       "    .dataframe tbody tr th {\n",
       "        vertical-align: top;\n",
       "    }\n",
       "\n",
       "    .dataframe thead th {\n",
       "        text-align: right;\n",
       "    }\n",
       "</style>\n",
       "<table border=\"1\" class=\"dataframe\">\n",
       "  <thead>\n",
       "    <tr style=\"text-align: right;\">\n",
       "      <th></th>\n",
       "      <th>count_purchase_day_name</th>\n",
       "      <th>mean_delivery_time_h</th>\n",
       "      <th>std_delivery_time_h</th>\n",
       "    </tr>\n",
       "    <tr>\n",
       "      <th>purchase_day_name</th>\n",
       "      <th></th>\n",
       "      <th></th>\n",
       "      <th></th>\n",
       "    </tr>\n",
       "  </thead>\n",
       "  <tbody>\n",
       "    <tr>\n",
       "      <th>Monday</th>\n",
       "      <td>652</td>\n",
       "      <td>47.799079</td>\n",
       "      <td>34.202574</td>\n",
       "    </tr>\n",
       "    <tr>\n",
       "      <th>Saturday</th>\n",
       "      <td>684</td>\n",
       "      <td>48.120035</td>\n",
       "      <td>33.448366</td>\n",
       "    </tr>\n",
       "    <tr>\n",
       "      <th>Wednesday</th>\n",
       "      <td>596</td>\n",
       "      <td>48.471003</td>\n",
       "      <td>33.905495</td>\n",
       "    </tr>\n",
       "    <tr>\n",
       "      <th>Thursday</th>\n",
       "      <td>643</td>\n",
       "      <td>48.943231</td>\n",
       "      <td>32.906153</td>\n",
       "    </tr>\n",
       "    <tr>\n",
       "      <th>Tuesday</th>\n",
       "      <td>614</td>\n",
       "      <td>49.371340</td>\n",
       "      <td>35.062654</td>\n",
       "    </tr>\n",
       "    <tr>\n",
       "      <th>Friday</th>\n",
       "      <td>661</td>\n",
       "      <td>49.492935</td>\n",
       "      <td>33.847304</td>\n",
       "    </tr>\n",
       "    <tr>\n",
       "      <th>Sunday</th>\n",
       "      <td>745</td>\n",
       "      <td>49.653701</td>\n",
       "      <td>33.957088</td>\n",
       "    </tr>\n",
       "  </tbody>\n",
       "</table>\n",
       "</div>"
      ],
      "text/plain": [
       "                   count_purchase_day_name  mean_delivery_time_h  \\\n",
       "purchase_day_name                                                  \n",
       "Monday                                 652             47.799079   \n",
       "Saturday                               684             48.120035   \n",
       "Wednesday                              596             48.471003   \n",
       "Thursday                               643             48.943231   \n",
       "Tuesday                                614             49.371340   \n",
       "Friday                                 661             49.492935   \n",
       "Sunday                                 745             49.653701   \n",
       "\n",
       "                   std_delivery_time_h  \n",
       "purchase_day_name                       \n",
       "Monday                       34.202574  \n",
       "Saturday                     33.448366  \n",
       "Wednesday                    33.905495  \n",
       "Thursday                     32.906153  \n",
       "Tuesday                      35.062654  \n",
       "Friday                       33.847304  \n",
       "Sunday                       33.957088  "
      ]
     },
     "execution_count": 18,
     "metadata": {},
     "output_type": "execute_result"
    }
   ],
   "source": [
    "correctDataDF.groupby(\"purchase_day_name\").agg(\n",
    "    count_purchase_day_name=(\"purchase_day_name\", \"count\"),\n",
    "    mean_delivery_time_h=(\"delivery_time_h\", \"mean\"),\n",
    "    std_delivery_time_h=(\"delivery_time_h\", \"std\")\n",
    ").sort_values(by=\"mean_delivery_time_h\")"
   ]
  },
  {
   "cell_type": "markdown",
   "metadata": {},
   "source": [
    "Czas dostawy nie zależy też od dnia tygodnia, w którym dokonano zakupu."
   ]
  },
  {
   "cell_type": "code",
   "execution_count": 19,
   "metadata": {},
   "outputs": [
    {
     "data": {
      "text/html": [
       "<div>\n",
       "<style scoped>\n",
       "    .dataframe tbody tr th:only-of-type {\n",
       "        vertical-align: middle;\n",
       "    }\n",
       "\n",
       "    .dataframe tbody tr th {\n",
       "        vertical-align: top;\n",
       "    }\n",
       "\n",
       "    .dataframe thead th {\n",
       "        text-align: right;\n",
       "    }\n",
       "</style>\n",
       "<table border=\"1\" class=\"dataframe\">\n",
       "  <thead>\n",
       "    <tr style=\"text-align: right;\">\n",
       "      <th></th>\n",
       "      <th>delivery_day_name</th>\n",
       "      <th>COUNT(*)</th>\n",
       "    </tr>\n",
       "  </thead>\n",
       "  <tbody>\n",
       "    <tr>\n",
       "      <th>0</th>\n",
       "      <td>Thursday</td>\n",
       "      <td>622</td>\n",
       "    </tr>\n",
       "    <tr>\n",
       "      <th>1</th>\n",
       "      <td>Saturday</td>\n",
       "      <td>627</td>\n",
       "    </tr>\n",
       "    <tr>\n",
       "      <th>2</th>\n",
       "      <td>Friday</td>\n",
       "      <td>648</td>\n",
       "    </tr>\n",
       "    <tr>\n",
       "      <th>3</th>\n",
       "      <td>Wednesday</td>\n",
       "      <td>662</td>\n",
       "    </tr>\n",
       "    <tr>\n",
       "      <th>4</th>\n",
       "      <td>Sunday</td>\n",
       "      <td>667</td>\n",
       "    </tr>\n",
       "    <tr>\n",
       "      <th>5</th>\n",
       "      <td>Monday</td>\n",
       "      <td>676</td>\n",
       "    </tr>\n",
       "    <tr>\n",
       "      <th>6</th>\n",
       "      <td>Tuesday</td>\n",
       "      <td>693</td>\n",
       "    </tr>\n",
       "  </tbody>\n",
       "</table>\n",
       "</div>"
      ],
      "text/plain": [
       "  delivery_day_name  COUNT(*)\n",
       "0          Thursday       622\n",
       "1          Saturday       627\n",
       "2            Friday       648\n",
       "3         Wednesday       662\n",
       "4            Sunday       667\n",
       "5            Monday       676\n",
       "6           Tuesday       693"
      ]
     },
     "execution_count": 19,
     "metadata": {},
     "output_type": "execute_result"
    }
   ],
   "source": [
    "pysqldf(\"SELECT delivery_day_name, COUNT(*) FROM correctDataDF GROUP BY delivery_day_name ORDER BY COUNT(*);\")"
   ]
  },
  {
   "cell_type": "code",
   "execution_count": 20,
   "metadata": {},
   "outputs": [
    {
     "data": {
      "text/html": [
       "<div>\n",
       "<style scoped>\n",
       "    .dataframe tbody tr th:only-of-type {\n",
       "        vertical-align: middle;\n",
       "    }\n",
       "\n",
       "    .dataframe tbody tr th {\n",
       "        vertical-align: top;\n",
       "    }\n",
       "\n",
       "    .dataframe thead th {\n",
       "        text-align: right;\n",
       "    }\n",
       "</style>\n",
       "<table border=\"1\" class=\"dataframe\">\n",
       "  <thead>\n",
       "    <tr style=\"text-align: right;\">\n",
       "      <th></th>\n",
       "      <th>count_delivery_day_name</th>\n",
       "    </tr>\n",
       "    <tr>\n",
       "      <th>delivery_day_name</th>\n",
       "      <th></th>\n",
       "    </tr>\n",
       "  </thead>\n",
       "  <tbody>\n",
       "    <tr>\n",
       "      <th>Thursday</th>\n",
       "      <td>622</td>\n",
       "    </tr>\n",
       "    <tr>\n",
       "      <th>Saturday</th>\n",
       "      <td>627</td>\n",
       "    </tr>\n",
       "    <tr>\n",
       "      <th>Friday</th>\n",
       "      <td>648</td>\n",
       "    </tr>\n",
       "    <tr>\n",
       "      <th>Wednesday</th>\n",
       "      <td>662</td>\n",
       "    </tr>\n",
       "    <tr>\n",
       "      <th>Sunday</th>\n",
       "      <td>667</td>\n",
       "    </tr>\n",
       "    <tr>\n",
       "      <th>Monday</th>\n",
       "      <td>676</td>\n",
       "    </tr>\n",
       "    <tr>\n",
       "      <th>Tuesday</th>\n",
       "      <td>693</td>\n",
       "    </tr>\n",
       "  </tbody>\n",
       "</table>\n",
       "</div>"
      ],
      "text/plain": [
       "                   count_delivery_day_name\n",
       "delivery_day_name                         \n",
       "Thursday                               622\n",
       "Saturday                               627\n",
       "Friday                                 648\n",
       "Wednesday                              662\n",
       "Sunday                                 667\n",
       "Monday                                 676\n",
       "Tuesday                                693"
      ]
     },
     "execution_count": 20,
     "metadata": {},
     "output_type": "execute_result"
    }
   ],
   "source": [
    "correctDataDF.groupby(\"delivery_day_name\").agg(\n",
    "    count_delivery_day_name=(\"delivery_day_name\", \"count\")\n",
    ").sort_values(by=\"count_delivery_day_name\")"
   ]
  },
  {
   "cell_type": "markdown",
   "metadata": {},
   "source": [
    "Nasi kurierzy działają równie sprawnie w weekendy jak i w pozostałe dni tygodnia."
   ]
  },
  {
   "cell_type": "markdown",
   "metadata": {},
   "source": [
    "### Czas dostawy z podziałem na kategorię produktu"
   ]
  },
  {
   "cell_type": "code",
   "execution_count": 21,
   "metadata": {},
   "outputs": [
    {
     "data": {
      "text/html": [
       "<div>\n",
       "<style scoped>\n",
       "    .dataframe tbody tr th:only-of-type {\n",
       "        vertical-align: middle;\n",
       "    }\n",
       "\n",
       "    .dataframe tbody tr th {\n",
       "        vertical-align: top;\n",
       "    }\n",
       "\n",
       "    .dataframe thead th {\n",
       "        text-align: right;\n",
       "    }\n",
       "</style>\n",
       "<table border=\"1\" class=\"dataframe\">\n",
       "  <thead>\n",
       "    <tr style=\"text-align: right;\">\n",
       "      <th></th>\n",
       "      <th>Kategoria</th>\n",
       "      <th>Liczba produktów</th>\n",
       "      <th>Średni czas dostawy</th>\n",
       "    </tr>\n",
       "  </thead>\n",
       "  <tbody>\n",
       "    <tr>\n",
       "      <th>0</th>\n",
       "      <td>Sprzęt RTV;Video;Odtwarzacze DVD</td>\n",
       "      <td>295</td>\n",
       "      <td>43.177488</td>\n",
       "    </tr>\n",
       "    <tr>\n",
       "      <th>1</th>\n",
       "      <td>Sprzęt RTV;Przenośne audio i video;Odtwarzacze...</td>\n",
       "      <td>313</td>\n",
       "      <td>45.001198</td>\n",
       "    </tr>\n",
       "    <tr>\n",
       "      <th>2</th>\n",
       "      <td>Komputery;Drukarki i skanery;Biurowe urządzeni...</td>\n",
       "      <td>332</td>\n",
       "      <td>45.213013</td>\n",
       "    </tr>\n",
       "    <tr>\n",
       "      <th>3</th>\n",
       "      <td>Telefony i akcesoria;Akcesoria telefoniczne;Ze...</td>\n",
       "      <td>326</td>\n",
       "      <td>47.860112</td>\n",
       "    </tr>\n",
       "    <tr>\n",
       "      <th>4</th>\n",
       "      <td>Komputery;Tablety i akcesoria;Tablety</td>\n",
       "      <td>290</td>\n",
       "      <td>48.054924</td>\n",
       "    </tr>\n",
       "    <tr>\n",
       "      <th>5</th>\n",
       "      <td>Gry i konsole;Gry na konsole;Gry Xbox 360</td>\n",
       "      <td>286</td>\n",
       "      <td>48.939038</td>\n",
       "    </tr>\n",
       "    <tr>\n",
       "      <th>6</th>\n",
       "      <td>Sprzęt RTV;Audio;Słuchawki</td>\n",
       "      <td>332</td>\n",
       "      <td>49.004354</td>\n",
       "    </tr>\n",
       "    <tr>\n",
       "      <th>7</th>\n",
       "      <td>Telefony i akcesoria;Akcesoria telefoniczne;Ze...</td>\n",
       "      <td>307</td>\n",
       "      <td>49.442234</td>\n",
       "    </tr>\n",
       "    <tr>\n",
       "      <th>8</th>\n",
       "      <td>Telefony i akcesoria;Telefony komórkowe</td>\n",
       "      <td>314</td>\n",
       "      <td>49.564618</td>\n",
       "    </tr>\n",
       "    <tr>\n",
       "      <th>9</th>\n",
       "      <td>Sprzęt RTV;Video;Telewizory i akcesoria;Okular...</td>\n",
       "      <td>312</td>\n",
       "      <td>50.284382</td>\n",
       "    </tr>\n",
       "    <tr>\n",
       "      <th>10</th>\n",
       "      <td>Telefony i akcesoria;Telefony stacjonarne</td>\n",
       "      <td>316</td>\n",
       "      <td>50.402675</td>\n",
       "    </tr>\n",
       "    <tr>\n",
       "      <th>11</th>\n",
       "      <td>Gry i konsole;Gry komputerowe</td>\n",
       "      <td>306</td>\n",
       "      <td>50.929411</td>\n",
       "    </tr>\n",
       "    <tr>\n",
       "      <th>12</th>\n",
       "      <td>Komputery;Monitory;Monitory LCD</td>\n",
       "      <td>301</td>\n",
       "      <td>51.177594</td>\n",
       "    </tr>\n",
       "    <tr>\n",
       "      <th>13</th>\n",
       "      <td>Sprzęt RTV;Video;Telewizory i akcesoria;Anteny...</td>\n",
       "      <td>303</td>\n",
       "      <td>51.415133</td>\n",
       "    </tr>\n",
       "    <tr>\n",
       "      <th>14</th>\n",
       "      <td>Gry i konsole;Gry na konsole;Gry PlayStation3</td>\n",
       "      <td>262</td>\n",
       "      <td>53.037028</td>\n",
       "    </tr>\n",
       "  </tbody>\n",
       "</table>\n",
       "</div>"
      ],
      "text/plain": [
       "                                            Kategoria  Liczba produktów  \\\n",
       "0                    Sprzęt RTV;Video;Odtwarzacze DVD               295   \n",
       "1   Sprzęt RTV;Przenośne audio i video;Odtwarzacze...               313   \n",
       "2   Komputery;Drukarki i skanery;Biurowe urządzeni...               332   \n",
       "3   Telefony i akcesoria;Akcesoria telefoniczne;Ze...               326   \n",
       "4               Komputery;Tablety i akcesoria;Tablety               290   \n",
       "5           Gry i konsole;Gry na konsole;Gry Xbox 360               286   \n",
       "6                          Sprzęt RTV;Audio;Słuchawki               332   \n",
       "7   Telefony i akcesoria;Akcesoria telefoniczne;Ze...               307   \n",
       "8             Telefony i akcesoria;Telefony komórkowe               314   \n",
       "9   Sprzęt RTV;Video;Telewizory i akcesoria;Okular...               312   \n",
       "10          Telefony i akcesoria;Telefony stacjonarne               316   \n",
       "11                      Gry i konsole;Gry komputerowe               306   \n",
       "12                    Komputery;Monitory;Monitory LCD               301   \n",
       "13  Sprzęt RTV;Video;Telewizory i akcesoria;Anteny...               303   \n",
       "14      Gry i konsole;Gry na konsole;Gry PlayStation3               262   \n",
       "\n",
       "    Średni czas dostawy  \n",
       "0             43.177488  \n",
       "1             45.001198  \n",
       "2             45.213013  \n",
       "3             47.860112  \n",
       "4             48.054924  \n",
       "5             48.939038  \n",
       "6             49.004354  \n",
       "7             49.442234  \n",
       "8             49.564618  \n",
       "9             50.284382  \n",
       "10            50.402675  \n",
       "11            50.929411  \n",
       "12            51.177594  \n",
       "13            51.415133  \n",
       "14            53.037028  "
      ]
     },
     "execution_count": 21,
     "metadata": {},
     "output_type": "execute_result"
    }
   ],
   "source": [
    "pysqldf(\"SELECT category_path as Kategoria, COUNT(*) as 'Liczba produktów', AVG(delivery_time_h) as 'Średni czas dostawy' FROM correctDataDF GROUP BY category_path ORDER BY AVG(delivery_time_h);\")"
   ]
  },
  {
   "cell_type": "code",
   "execution_count": 22,
   "metadata": {},
   "outputs": [
    {
     "data": {
      "text/html": [
       "<div>\n",
       "<style scoped>\n",
       "    .dataframe tbody tr th:only-of-type {\n",
       "        vertical-align: middle;\n",
       "    }\n",
       "\n",
       "    .dataframe tbody tr th {\n",
       "        vertical-align: top;\n",
       "    }\n",
       "\n",
       "    .dataframe thead th {\n",
       "        text-align: right;\n",
       "    }\n",
       "</style>\n",
       "<table border=\"1\" class=\"dataframe\">\n",
       "  <thead>\n",
       "    <tr style=\"text-align: right;\">\n",
       "      <th></th>\n",
       "      <th>count_category_path</th>\n",
       "      <th>mean_delivery_time_h</th>\n",
       "      <th>std_delivery_time_h</th>\n",
       "    </tr>\n",
       "    <tr>\n",
       "      <th>category_path</th>\n",
       "      <th></th>\n",
       "      <th></th>\n",
       "      <th></th>\n",
       "    </tr>\n",
       "  </thead>\n",
       "  <tbody>\n",
       "    <tr>\n",
       "      <th>Sprzęt RTV;Video;Odtwarzacze DVD</th>\n",
       "      <td>295</td>\n",
       "      <td>43.177488</td>\n",
       "      <td>28.847340</td>\n",
       "    </tr>\n",
       "    <tr>\n",
       "      <th>Sprzęt RTV;Przenośne audio i video;Odtwarzacze mp3 i mp4</th>\n",
       "      <td>313</td>\n",
       "      <td>45.001198</td>\n",
       "      <td>32.148997</td>\n",
       "    </tr>\n",
       "    <tr>\n",
       "      <th>Komputery;Drukarki i skanery;Biurowe urządzenia wielofunkcyjne</th>\n",
       "      <td>332</td>\n",
       "      <td>45.213013</td>\n",
       "      <td>34.096998</td>\n",
       "    </tr>\n",
       "    <tr>\n",
       "      <th>Telefony i akcesoria;Akcesoria telefoniczne;Zestawy słuchawkowe</th>\n",
       "      <td>326</td>\n",
       "      <td>47.860112</td>\n",
       "      <td>31.838340</td>\n",
       "    </tr>\n",
       "    <tr>\n",
       "      <th>Komputery;Tablety i akcesoria;Tablety</th>\n",
       "      <td>290</td>\n",
       "      <td>48.054924</td>\n",
       "      <td>31.903575</td>\n",
       "    </tr>\n",
       "    <tr>\n",
       "      <th>Gry i konsole;Gry na konsole;Gry Xbox 360</th>\n",
       "      <td>286</td>\n",
       "      <td>48.939038</td>\n",
       "      <td>33.989175</td>\n",
       "    </tr>\n",
       "    <tr>\n",
       "      <th>Sprzęt RTV;Audio;Słuchawki</th>\n",
       "      <td>332</td>\n",
       "      <td>49.004354</td>\n",
       "      <td>33.721106</td>\n",
       "    </tr>\n",
       "    <tr>\n",
       "      <th>Telefony i akcesoria;Akcesoria telefoniczne;Zestawy głośnomówiące</th>\n",
       "      <td>307</td>\n",
       "      <td>49.442234</td>\n",
       "      <td>34.177587</td>\n",
       "    </tr>\n",
       "    <tr>\n",
       "      <th>Telefony i akcesoria;Telefony komórkowe</th>\n",
       "      <td>314</td>\n",
       "      <td>49.564618</td>\n",
       "      <td>35.828951</td>\n",
       "    </tr>\n",
       "    <tr>\n",
       "      <th>Sprzęt RTV;Video;Telewizory i akcesoria;Okulary 3D</th>\n",
       "      <td>312</td>\n",
       "      <td>50.284382</td>\n",
       "      <td>34.492292</td>\n",
       "    </tr>\n",
       "    <tr>\n",
       "      <th>Telefony i akcesoria;Telefony stacjonarne</th>\n",
       "      <td>316</td>\n",
       "      <td>50.402675</td>\n",
       "      <td>36.296186</td>\n",
       "    </tr>\n",
       "    <tr>\n",
       "      <th>Gry i konsole;Gry komputerowe</th>\n",
       "      <td>306</td>\n",
       "      <td>50.929411</td>\n",
       "      <td>32.314050</td>\n",
       "    </tr>\n",
       "    <tr>\n",
       "      <th>Komputery;Monitory;Monitory LCD</th>\n",
       "      <td>301</td>\n",
       "      <td>51.177594</td>\n",
       "      <td>36.795600</td>\n",
       "    </tr>\n",
       "    <tr>\n",
       "      <th>Sprzęt RTV;Video;Telewizory i akcesoria;Anteny RTV</th>\n",
       "      <td>303</td>\n",
       "      <td>51.415133</td>\n",
       "      <td>34.293913</td>\n",
       "    </tr>\n",
       "    <tr>\n",
       "      <th>Gry i konsole;Gry na konsole;Gry PlayStation3</th>\n",
       "      <td>262</td>\n",
       "      <td>53.037028</td>\n",
       "      <td>36.044507</td>\n",
       "    </tr>\n",
       "  </tbody>\n",
       "</table>\n",
       "</div>"
      ],
      "text/plain": [
       "                                                    count_category_path  \\\n",
       "category_path                                                             \n",
       "Sprzęt RTV;Video;Odtwarzacze DVD                                    295   \n",
       "Sprzęt RTV;Przenośne audio i video;Odtwarzacze ...                  313   \n",
       "Komputery;Drukarki i skanery;Biurowe urządzenia...                  332   \n",
       "Telefony i akcesoria;Akcesoria telefoniczne;Zes...                  326   \n",
       "Komputery;Tablety i akcesoria;Tablety                               290   \n",
       "Gry i konsole;Gry na konsole;Gry Xbox 360                           286   \n",
       "Sprzęt RTV;Audio;Słuchawki                                          332   \n",
       "Telefony i akcesoria;Akcesoria telefoniczne;Zes...                  307   \n",
       "Telefony i akcesoria;Telefony komórkowe                             314   \n",
       "Sprzęt RTV;Video;Telewizory i akcesoria;Okulary 3D                  312   \n",
       "Telefony i akcesoria;Telefony stacjonarne                           316   \n",
       "Gry i konsole;Gry komputerowe                                       306   \n",
       "Komputery;Monitory;Monitory LCD                                     301   \n",
       "Sprzęt RTV;Video;Telewizory i akcesoria;Anteny RTV                  303   \n",
       "Gry i konsole;Gry na konsole;Gry PlayStation3                       262   \n",
       "\n",
       "                                                    mean_delivery_time_h  \\\n",
       "category_path                                                              \n",
       "Sprzęt RTV;Video;Odtwarzacze DVD                               43.177488   \n",
       "Sprzęt RTV;Przenośne audio i video;Odtwarzacze ...             45.001198   \n",
       "Komputery;Drukarki i skanery;Biurowe urządzenia...             45.213013   \n",
       "Telefony i akcesoria;Akcesoria telefoniczne;Zes...             47.860112   \n",
       "Komputery;Tablety i akcesoria;Tablety                          48.054924   \n",
       "Gry i konsole;Gry na konsole;Gry Xbox 360                      48.939038   \n",
       "Sprzęt RTV;Audio;Słuchawki                                     49.004354   \n",
       "Telefony i akcesoria;Akcesoria telefoniczne;Zes...             49.442234   \n",
       "Telefony i akcesoria;Telefony komórkowe                        49.564618   \n",
       "Sprzęt RTV;Video;Telewizory i akcesoria;Okulary 3D             50.284382   \n",
       "Telefony i akcesoria;Telefony stacjonarne                      50.402675   \n",
       "Gry i konsole;Gry komputerowe                                  50.929411   \n",
       "Komputery;Monitory;Monitory LCD                                51.177594   \n",
       "Sprzęt RTV;Video;Telewizory i akcesoria;Anteny RTV             51.415133   \n",
       "Gry i konsole;Gry na konsole;Gry PlayStation3                  53.037028   \n",
       "\n",
       "                                                    std_delivery_time_h  \n",
       "category_path                                                            \n",
       "Sprzęt RTV;Video;Odtwarzacze DVD                              28.847340  \n",
       "Sprzęt RTV;Przenośne audio i video;Odtwarzacze ...            32.148997  \n",
       "Komputery;Drukarki i skanery;Biurowe urządzenia...            34.096998  \n",
       "Telefony i akcesoria;Akcesoria telefoniczne;Zes...            31.838340  \n",
       "Komputery;Tablety i akcesoria;Tablety                         31.903575  \n",
       "Gry i konsole;Gry na konsole;Gry Xbox 360                     33.989175  \n",
       "Sprzęt RTV;Audio;Słuchawki                                    33.721106  \n",
       "Telefony i akcesoria;Akcesoria telefoniczne;Zes...            34.177587  \n",
       "Telefony i akcesoria;Telefony komórkowe                       35.828951  \n",
       "Sprzęt RTV;Video;Telewizory i akcesoria;Okulary 3D            34.492292  \n",
       "Telefony i akcesoria;Telefony stacjonarne                     36.296186  \n",
       "Gry i konsole;Gry komputerowe                                 32.314050  \n",
       "Komputery;Monitory;Monitory LCD                               36.795600  \n",
       "Sprzęt RTV;Video;Telewizory i akcesoria;Anteny RTV            34.293913  \n",
       "Gry i konsole;Gry na konsole;Gry PlayStation3                 36.044507  "
      ]
     },
     "execution_count": 22,
     "metadata": {},
     "output_type": "execute_result"
    }
   ],
   "source": [
    "correctDataDF.groupby(\"category_path\").agg(\n",
    "    count_category_path=(\"category_path\", \"count\"),\n",
    "    mean_delivery_time_h=(\"delivery_time_h\", \"mean\"),\n",
    "    std_delivery_time_h=(\"delivery_time_h\", \"std\")\n",
    ").sort_values(by=\"mean_delivery_time_h\")"
   ]
  },
  {
   "cell_type": "markdown",
   "metadata": {},
   "source": [
    "Widać pewną zależność między kategorią produktu a czasem dostawy, jednak nie jest ona bardzo wyraźna."
   ]
  },
  {
   "cell_type": "markdown",
   "metadata": {},
   "source": [
    "### Czas dostawy z podziałem na firmy kurierskie"
   ]
  },
  {
   "cell_type": "code",
   "execution_count": 23,
   "metadata": {},
   "outputs": [
    {
     "data": {
      "text/html": [
       "<div>\n",
       "<style scoped>\n",
       "    .dataframe tbody tr th:only-of-type {\n",
       "        vertical-align: middle;\n",
       "    }\n",
       "\n",
       "    .dataframe tbody tr th {\n",
       "        vertical-align: top;\n",
       "    }\n",
       "\n",
       "    .dataframe thead th {\n",
       "        text-align: right;\n",
       "    }\n",
       "</style>\n",
       "<table border=\"1\" class=\"dataframe\">\n",
       "  <thead>\n",
       "    <tr style=\"text-align: right;\">\n",
       "      <th></th>\n",
       "      <th>delivery_company</th>\n",
       "      <th>COUNT(*)</th>\n",
       "      <th>AVG(delivery_time_h)</th>\n",
       "    </tr>\n",
       "  </thead>\n",
       "  <tbody>\n",
       "    <tr>\n",
       "      <th>0</th>\n",
       "      <td>620.0</td>\n",
       "      <td>1454</td>\n",
       "      <td>47.238538</td>\n",
       "    </tr>\n",
       "    <tr>\n",
       "      <th>1</th>\n",
       "      <td>NaN</td>\n",
       "      <td>218</td>\n",
       "      <td>48.555042</td>\n",
       "    </tr>\n",
       "    <tr>\n",
       "      <th>2</th>\n",
       "      <td>360.0</td>\n",
       "      <td>1462</td>\n",
       "      <td>49.116755</td>\n",
       "    </tr>\n",
       "    <tr>\n",
       "      <th>3</th>\n",
       "      <td>516.0</td>\n",
       "      <td>1461</td>\n",
       "      <td>50.226304</td>\n",
       "    </tr>\n",
       "  </tbody>\n",
       "</table>\n",
       "</div>"
      ],
      "text/plain": [
       "   delivery_company  COUNT(*)  AVG(delivery_time_h)\n",
       "0             620.0      1454             47.238538\n",
       "1               NaN       218             48.555042\n",
       "2             360.0      1462             49.116755\n",
       "3             516.0      1461             50.226304"
      ]
     },
     "execution_count": 23,
     "metadata": {},
     "output_type": "execute_result"
    }
   ],
   "source": [
    "pysqldf(\"SELECT delivery_company, COUNT(*), AVG(delivery_time_h) FROM correctDataDF GROUP BY delivery_company ORDER BY AVG(delivery_time_h);\")"
   ]
  },
  {
   "cell_type": "code",
   "execution_count": 24,
   "metadata": {},
   "outputs": [
    {
     "data": {
      "text/html": [
       "<div>\n",
       "<style scoped>\n",
       "    .dataframe tbody tr th:only-of-type {\n",
       "        vertical-align: middle;\n",
       "    }\n",
       "\n",
       "    .dataframe tbody tr th {\n",
       "        vertical-align: top;\n",
       "    }\n",
       "\n",
       "    .dataframe thead th {\n",
       "        text-align: right;\n",
       "    }\n",
       "</style>\n",
       "<table border=\"1\" class=\"dataframe\">\n",
       "  <thead>\n",
       "    <tr style=\"text-align: right;\">\n",
       "      <th></th>\n",
       "      <th>count_delivery_company</th>\n",
       "      <th>mean_delivery_time_h</th>\n",
       "      <th>std_delivery_time_h</th>\n",
       "    </tr>\n",
       "    <tr>\n",
       "      <th>delivery_company</th>\n",
       "      <th></th>\n",
       "      <th></th>\n",
       "      <th></th>\n",
       "    </tr>\n",
       "  </thead>\n",
       "  <tbody>\n",
       "    <tr>\n",
       "      <th>620.0</th>\n",
       "      <td>1454</td>\n",
       "      <td>47.238538</td>\n",
       "      <td>32.535415</td>\n",
       "    </tr>\n",
       "    <tr>\n",
       "      <th>360.0</th>\n",
       "      <td>1462</td>\n",
       "      <td>49.116755</td>\n",
       "      <td>34.182565</td>\n",
       "    </tr>\n",
       "    <tr>\n",
       "      <th>516.0</th>\n",
       "      <td>1461</td>\n",
       "      <td>50.226304</td>\n",
       "      <td>34.964884</td>\n",
       "    </tr>\n",
       "  </tbody>\n",
       "</table>\n",
       "</div>"
      ],
      "text/plain": [
       "                  count_delivery_company  mean_delivery_time_h  \\\n",
       "delivery_company                                                 \n",
       "620.0                               1454             47.238538   \n",
       "360.0                               1462             49.116755   \n",
       "516.0                               1461             50.226304   \n",
       "\n",
       "                  std_delivery_time_h  \n",
       "delivery_company                       \n",
       "620.0                       32.535415  \n",
       "360.0                       34.182565  \n",
       "516.0                       34.964884  "
      ]
     },
     "execution_count": 24,
     "metadata": {},
     "output_type": "execute_result"
    }
   ],
   "source": [
    "correctDataDF.groupby(\"delivery_company\").agg(\n",
    "    count_delivery_company=(\"delivery_company\", \"count\"),\n",
    "    mean_delivery_time_h=(\"delivery_time_h\", \"mean\"),\n",
    "    std_delivery_time_h=(\"delivery_time_h\", \"std\")\n",
    ").sort_values(by=\"mean_delivery_time_h\")"
   ]
  },
  {
   "cell_type": "markdown",
   "metadata": {},
   "source": [
    "Z powyższej analizy wynika, że wybór firmy kurierskiej nie wpływa znacznie na czas dostawy."
   ]
  },
  {
   "cell_type": "markdown",
   "metadata": {},
   "source": [
    "### Czas dostawy z podziałem na udzieloną promocję"
   ]
  },
  {
   "cell_type": "code",
   "execution_count": 25,
   "metadata": {},
   "outputs": [
    {
     "data": {
      "text/html": [
       "<div>\n",
       "<style scoped>\n",
       "    .dataframe tbody tr th:only-of-type {\n",
       "        vertical-align: middle;\n",
       "    }\n",
       "\n",
       "    .dataframe tbody tr th {\n",
       "        vertical-align: top;\n",
       "    }\n",
       "\n",
       "    .dataframe thead th {\n",
       "        text-align: right;\n",
       "    }\n",
       "</style>\n",
       "<table border=\"1\" class=\"dataframe\">\n",
       "  <thead>\n",
       "    <tr style=\"text-align: right;\">\n",
       "      <th></th>\n",
       "      <th>Promocja</th>\n",
       "      <th>Liczba produktów</th>\n",
       "      <th>Średni czas dostawy</th>\n",
       "    </tr>\n",
       "  </thead>\n",
       "  <tbody>\n",
       "    <tr>\n",
       "      <th>0</th>\n",
       "      <td>5</td>\n",
       "      <td>439</td>\n",
       "      <td>47.309820</td>\n",
       "    </tr>\n",
       "    <tr>\n",
       "      <th>1</th>\n",
       "      <td>10</td>\n",
       "      <td>485</td>\n",
       "      <td>48.388797</td>\n",
       "    </tr>\n",
       "    <tr>\n",
       "      <th>2</th>\n",
       "      <td>15</td>\n",
       "      <td>503</td>\n",
       "      <td>48.513149</td>\n",
       "    </tr>\n",
       "    <tr>\n",
       "      <th>3</th>\n",
       "      <td>20</td>\n",
       "      <td>506</td>\n",
       "      <td>48.754345</td>\n",
       "    </tr>\n",
       "    <tr>\n",
       "      <th>4</th>\n",
       "      <td>0</td>\n",
       "      <td>2662</td>\n",
       "      <td>49.267382</td>\n",
       "    </tr>\n",
       "  </tbody>\n",
       "</table>\n",
       "</div>"
      ],
      "text/plain": [
       "   Promocja  Liczba produktów  Średni czas dostawy\n",
       "0         5               439            47.309820\n",
       "1        10               485            48.388797\n",
       "2        15               503            48.513149\n",
       "3        20               506            48.754345\n",
       "4         0              2662            49.267382"
      ]
     },
     "execution_count": 25,
     "metadata": {},
     "output_type": "execute_result"
    }
   ],
   "source": [
    "pysqldf(\"SELECT offered_discount as Promocja, COUNT(*) as 'Liczba produktów', AVG(delivery_time_h) as 'Średni czas dostawy' FROM correctDataDF GROUP BY offered_discount ORDER BY AVG(delivery_time_h);\")"
   ]
  },
  {
   "cell_type": "code",
   "execution_count": 26,
   "metadata": {},
   "outputs": [
    {
     "data": {
      "text/html": [
       "<div>\n",
       "<style scoped>\n",
       "    .dataframe tbody tr th:only-of-type {\n",
       "        vertical-align: middle;\n",
       "    }\n",
       "\n",
       "    .dataframe tbody tr th {\n",
       "        vertical-align: top;\n",
       "    }\n",
       "\n",
       "    .dataframe thead th {\n",
       "        text-align: right;\n",
       "    }\n",
       "</style>\n",
       "<table border=\"1\" class=\"dataframe\">\n",
       "  <thead>\n",
       "    <tr style=\"text-align: right;\">\n",
       "      <th></th>\n",
       "      <th>count_offered_discount</th>\n",
       "      <th>mean_delivery_time_h</th>\n",
       "      <th>std_delivery_time_h</th>\n",
       "    </tr>\n",
       "    <tr>\n",
       "      <th>offered_discount</th>\n",
       "      <th></th>\n",
       "      <th></th>\n",
       "      <th></th>\n",
       "    </tr>\n",
       "  </thead>\n",
       "  <tbody>\n",
       "    <tr>\n",
       "      <th>5</th>\n",
       "      <td>439</td>\n",
       "      <td>47.309820</td>\n",
       "      <td>33.947263</td>\n",
       "    </tr>\n",
       "    <tr>\n",
       "      <th>10</th>\n",
       "      <td>485</td>\n",
       "      <td>48.388797</td>\n",
       "      <td>32.925670</td>\n",
       "    </tr>\n",
       "    <tr>\n",
       "      <th>15</th>\n",
       "      <td>503</td>\n",
       "      <td>48.513149</td>\n",
       "      <td>34.699098</td>\n",
       "    </tr>\n",
       "    <tr>\n",
       "      <th>20</th>\n",
       "      <td>506</td>\n",
       "      <td>48.754345</td>\n",
       "      <td>32.734537</td>\n",
       "    </tr>\n",
       "    <tr>\n",
       "      <th>0</th>\n",
       "      <td>2662</td>\n",
       "      <td>49.267382</td>\n",
       "      <td>34.120161</td>\n",
       "    </tr>\n",
       "  </tbody>\n",
       "</table>\n",
       "</div>"
      ],
      "text/plain": [
       "                  count_offered_discount  mean_delivery_time_h  \\\n",
       "offered_discount                                                 \n",
       "5                                    439             47.309820   \n",
       "10                                   485             48.388797   \n",
       "15                                   503             48.513149   \n",
       "20                                   506             48.754345   \n",
       "0                                   2662             49.267382   \n",
       "\n",
       "                  std_delivery_time_h  \n",
       "offered_discount                       \n",
       "5                           33.947263  \n",
       "10                          32.925670  \n",
       "15                          34.699098  \n",
       "20                          32.734537  \n",
       "0                           34.120161  "
      ]
     },
     "execution_count": 26,
     "metadata": {},
     "output_type": "execute_result"
    }
   ],
   "source": [
    "correctDataDF.groupby(\"offered_discount\").agg(\n",
    "    count_offered_discount=(\"offered_discount\", \"count\"),\n",
    "    mean_delivery_time_h=(\"delivery_time_h\", \"mean\"),\n",
    "    std_delivery_time_h=(\"delivery_time_h\", \"std\")\n",
    ").sort_values(by=\"mean_delivery_time_h\")"
   ]
  },
  {
   "cell_type": "markdown",
   "metadata": {},
   "source": [
    "Oferowana zniżka też w żaden wyraźny sposób nie wpływa na czas dostawy."
   ]
  },
  {
   "cell_type": "markdown",
   "metadata": {},
   "source": [
    "## Czas dostawy - pora dnia"
   ]
  },
  {
   "cell_type": "code",
   "execution_count": 27,
   "metadata": {},
   "outputs": [
    {
     "data": {
      "image/png": "[encoded data removed]",
      "text/plain": [
       "<Figure size 432x288 with 1 Axes>"
      ]
     },
     "metadata": {
      "needs_background": "light"
     },
     "output_type": "display_data"
    }
   ],
   "source": [
    "delivery_hours = []\n",
    "\n",
    "for index, _ in correctDataDF.iterrows():\n",
    "    delivery_hours.append(correctDataDF[\"delivery_timestamp\"].iloc[index].hour)\n",
    "\n",
    "plt.hist(delivery_hours, bins=24, density=False)\n",
    "plt.xlabel(\"Hour of the day\")\n",
    "plt.ylabel(\"Number of deliveries\")\n",
    "plt.show()"
   ]
  },
  {
   "cell_type": "markdown",
   "metadata": {},
   "source": [
    "Firmy kurierskie pracują przez całą dobę."
   ]
  },
  {
   "cell_type": "markdown",
   "metadata": {},
   "source": [
    "### Czasy zamówienia niedostarczonych przesyłek\n",
    "\n",
    "Analizujemy czasy zamówienia przesyłek, które w bazie nie mają oznaczonego czasu dostarczenia zamówienia. Nie wiemy, czy wynika to z faktu rzeczywistego niedostarczenia tych zamówień, czy nie umieszczeniu informacji o dostarczeniu w bazie danych lub innych błędach w danych. Dla różnych przesyłek przyczyny mogły być różne.\n",
    "\n",
    "Za datę analizy czasu oczekiwania na zamówienie (\"dzisiejszą\" datę analizy) przyjmujemy najpóźniejszy czas dostawy obecny w bazie.\n",
    "\n",
    "Przy założeniu, że braki w czasie dostawy wynikają z niedostarczenia przesyłki - z drugiego histogramu widać, że zarówno niektóre zamówienia z przed prawie 3 miesięcy, jak i te opłacone kilka dni temu, zostały niedostarczone. Nie widać zależności w czasach oczekiwania - dłuższy czas oczekiwania nie daje większego prawdopodobieństwa na odnalezienie się zamówienia. Wskazuje na to brak wyraźnych różnic między czasami oczekiwania na niedostarczoną przesyłkę, przy jednoczesnym równomiernym rozłożeniu zamówień w czasie."
   ]
  },
  {
   "cell_type": "code",
   "execution_count": 28,
   "metadata": {},
   "outputs": [
    {
     "data": {
      "image/png": "[encoded data removed]",
      "text/plain": [
       "<Figure size 432x288 with 1 Axes>"
      ]
     },
     "metadata": {
      "needs_background": "light"
     },
     "output_type": "display_data"
    },
    {
     "data": {
      "image/png": "[encoded data removed]",
      "text/plain": [
       "<Figure size 432x288 with 1 Axes>"
      ]
     },
     "metadata": {
      "needs_background": "light"
     },
     "output_type": "display_data"
    }
   ],
   "source": [
    "purchasesList = pysqldf(\"select purchase_timestamp from projectedDataDF where delivery_timestamp is not null\")[\"purchase_timestamp\"].to_list()\n",
    "purchasesList = [dateToTimestamp(purchase) for purchase in purchasesList]\n",
    "plt.hist(purchasesList, bins=30, density=False)\n",
    "plt.xlabel(\"Timestamp of purchase\")\n",
    "plt.ylabel(\"Number of purchases\")\n",
    "plt.show()\n",
    "\n",
    "deliveriesArray = pysqldf(\"select delivery_timestamp from projectedDataDF where delivery_timestamp is not null order by delivery_timestamp desc\").to_numpy()\n",
    "latestDeliveryTimestamp = dateToTimestamp(deliveriesArray[0][0])\n",
    "\n",
    "notDeliveredDF = pysqldf(\"SELECT purchase_timestamp FROM projectedDataDF WHERE delivery_timestamp is null order by purchase_timestamp\")\n",
    "notDeliveredList = notDeliveredDF[\"purchase_timestamp\"].to_list()\n",
    "waitingTimes = [(latestDeliveryTimestamp - dateToTimestamp(purchase))/(24*3600) for purchase in notDeliveredList]\n",
    "plt.hist(waitingTimes, bins=30, density=False)\n",
    "plt.xlabel(\"Time since purchase [days]\")\n",
    "plt.ylabel(\"Number of failed deliveries\")\n",
    "plt.show()"
   ]
  },
  {
   "cell_type": "markdown",
   "metadata": {},
   "source": [
    "# Braki danych"
   ]
  },
  {
   "cell_type": "markdown",
   "metadata": {},
   "source": [
    "Test niezależności dwóch zmiennych - chi kwadrat"
   ]
  },
  {
   "cell_type": "code",
   "execution_count": 81,
   "metadata": {},
   "outputs": [],
   "source": [
    "# array - 2D array with 2 columns corresponding to each attribute and rows corresponding to samples\n",
    "# bins - number of bins to put the first and second attribute into\n",
    "# if bins[i] == -1 we assume that this attribute is discrete and count each value separately\n",
    "def chi2(array, bins=[-1, -1]):\n",
    "    #Calculate value at the beginning of each bin\n",
    "    binValues = []\n",
    "    for i in range(2):\n",
    "        if bins[i] == -1:\n",
    "            values = array[:, i]\n",
    "            values = np.unique(values)\n",
    "            values = np.sort(values)\n",
    "            binValues.append(values.tolist())\n",
    "        else:\n",
    "            maxValue = np.amax(array[:, i])\n",
    "            minValue = np.amin(array[:, i])\n",
    "            values = np.linspace(minValue, maxValue, bins[i])\n",
    "            binValues.append(values.tolist())\n",
    "            \n",
    "    #Create the matrix for chi2\n",
    "    dataMatrix = np.zeros((len(binValues[0]), len(binValues[1])))\n",
    "    for row in array:\n",
    "        AbinIndex = sum(i <= row[0] for i in binValues[0])-1\n",
    "        BbinIndex = sum(i <= row[1] for i in binValues[1])-1\n",
    "        dataMatrix[AbinIndex][BbinIndex] += 1\n",
    "    \n",
    "    #Calculate chi2\n",
    "    n = np.sum(dataMatrix)\n",
    "    pi = np.sum(dataMatrix, axis=1)/n\n",
    "    pj = np.sum(dataMatrix, axis=0)/n\n",
    "    result = 0\n",
    "    for i in range(dataMatrix.shape[0]):\n",
    "        for j in range(dataMatrix.shape[1]):\n",
    "            pipj = pi[i]*pj[j]\n",
    "            if dataMatrix[i][j] == 0:\n",
    "                continue\n",
    "            result += n*pipj*((dataMatrix[i][j]/n-pipj)/pipj)**2\n",
    "    return result\n",
    "            "
   ]
  },
  {
   "cell_type": "code",
   "execution_count": 86,
   "metadata": {},
   "outputs": [
    {
     "name": "stdout",
     "output_type": "stream",
     "text": [
      "266.2474434090451\n",
      "235.0488388133742\n",
      "10046.023207895305\n"
     ]
    }
   ],
   "source": [
    "#Test chi2\n",
    "\n",
    "#Real data\n",
    "data = pysqldf(\"select delivery_company, delivery_time_h from correctDataDF\").to_numpy()\n",
    "#Change nan values to -1\n",
    "data[:, 0] = np.nan_to_num(data[:, 0], nan=-1)\n",
    "print(chi2(data, [-1, 100]))\n",
    "\n",
    "#Random noise\n",
    "for row in data:\n",
    "    row[0] = np.random.randint(0, 4)\n",
    "print(chi2(data, [-1, 100]))\n",
    "\n",
    "#Full corellation\n",
    "for row in data:\n",
    "    row[0] = round(row[1]/20)\n",
    "    if row[0] > 3:\n",
    "        row[0] = 3\n",
    "print(chi2(data, [-1, 100]))"
   ]
  }
 ],
 "metadata": {
  "kernelspec": {
   "display_name": "Python 3",
   "language": "python",
   "name": "python3"
  },
  "language_info": {
   "codemirror_mode": {
    "name": "ipython",
    "version": 3
   },
   "file_extension": ".py",
   "mimetype": "text/x-python",
   "name": "python",
   "nbconvert_exporter": "python",
   "pygments_lexer": "ipython3",
   "version": "3.8.5"
  },
  "metadata": {
   "interpreter": {
    "hash": "c14cca93a9b9817eadb34c4f0893643548245e26a62ae1ca3111ae3cdf7f23a4"
   }
  }
 },
 "nbformat": 4,
 "nbformat_minor": 4
}
