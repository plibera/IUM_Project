{
 "cells": [
  {
   "cell_type": "markdown",
   "metadata": {},
   "source": [
    "# Predykcja czasu dostawy zamówienia\n"
   ]
  },
  {
   "cell_type": "markdown",
   "metadata": {},
   "source": [
    "## Wczytanie danych z plików"
   ]
  },
  {
   "cell_type": "code",
   "execution_count": 10,
   "metadata": {},
   "outputs": [],
   "source": [
    "import matplotlib.pyplot as plt\n",
    "import numpy as np\n",
    "import json\n",
    "from datetime import datetime\n",
    "import time"
   ]
  },
  {
   "cell_type": "code",
   "execution_count": 11,
   "metadata": {},
   "outputs": [
    {
     "name": "stdout",
     "output_type": "stream",
     "text": [
      "dict_keys(['purchase_id', 'purchase_timestamp', 'delivery_timestamp', 'delivery_company'])\n",
      "dict_keys(['product_id', 'product_name', 'category_path', 'price'])\n",
      "dict_keys(['session_id', 'timestamp', 'user_id', 'product_id', 'event_type', 'offered_discount', 'purchase_id'])\n",
      "dict_keys(['user_id', 'name', 'city', 'street'])\n"
     ]
    }
   ],
   "source": [
    "deliveriesFile = open(\"IUM21L_Zad_03_02/deliveries.jsonl\", \"r\")\n",
    "productsFile = open(\"IUM21L_Zad_03_02/products.jsonl\", \"r\")\n",
    "sessionsFile = open(\"IUM21L_Zad_03_02/sessions.jsonl\", \"r\")\n",
    "usersFile = open(\"IUM21L_Zad_03_02/users.jsonl\", \"r\")\n",
    "\n",
    "deliveries = [json.loads(jline) for jline in deliveriesFile.read().splitlines()]\n",
    "products = [json.loads(jline) for jline in productsFile.read().splitlines()]\n",
    "sessions = [json.loads(jline) for jline in sessionsFile.read().splitlines()]\n",
    "users = [json.loads(jline) for jline in usersFile.read().splitlines()]\n",
    "\n",
    "print(deliveries[0].keys())\n",
    "print(products[0].keys())\n",
    "print(sessions[0].keys())\n",
    "print(users[0].keys())"
   ]
  },
  {
   "cell_type": "markdown",
   "metadata": {},
   "source": [
    "## Wykorzystywane funkcje"
   ]
  },
  {
   "cell_type": "code",
   "execution_count": 21,
   "metadata": {},
   "outputs": [],
   "source": [
    "# Convert date to unix timestamp (seconds only)\n",
    "def dateToTimestamp(date):\n",
    "    date = date.split('.')[0]\n",
    "    date = datetime.strptime(date, \"%Y-%m-%dT%H:%M:%S\").timetuple()\n",
    "    return time.mktime(date)\n",
    "\n",
    "def timestampToDate(timestamp):\n",
    "    return datetime.fromtimestamp(timestamp).strftime(\"%Y-%m-%dT%H:%M:%S\")"
   ]
  },
  {
   "cell_type": "markdown",
   "metadata": {},
   "source": [
    "## Analiza danych"
   ]
  },
  {
   "cell_type": "markdown",
   "metadata": {},
   "source": [
    "### Ceny produktów\n",
    "\n",
    "Niektóre ceny są błędne - ujemne lub bardzo duże"
   ]
  },
  {
   "cell_type": "code",
   "execution_count": 3,
   "metadata": {},
   "outputs": [
    {
     "name": "stdout",
     "output_type": "stream",
     "text": [
      "Price \t Product\n",
      "-142.99\tRace Driver Grid (PC)\n",
      "-121.9\tThe Darkness 2 (PC)\n",
      "-112.28\tSencor SDA-500\n",
      "-109.0\tFight Night Champion (PS3)\n",
      "-79.9\tAssassin&#39;s Creed 3 (PS3)\n",
      "-69.99\tSencor SDA-600\n",
      "-49.99\tAssassin&#39;s Creed 3 (Xbox 360)\n",
      "-39.0\tSniper Ghost Warrior 2 (Xbox 360)\n",
      "-37.9\tBioshock 2 (PC)\n",
      "-32.99\tCall of Duty Black Ops 2 (PC)\n",
      "-19.99\tSymulator Agrar 2012 (PC)\n",
      "-19.99\tSpace Hack (PC)\n",
      "-14.9\tSniper Ghost Warrior (PC)\n",
      "-11.9\tStreet Racing Syndicate (PC)\n",
      "-9.99\tKing&#39;s Bounty Nowe Światy (PC)\n",
      "-1.0\tKról Futbolu Piłkarski Quiz (PC)\n",
      "1.0\tHeroes Over Europe (PC)\n",
      "1.0\tThe Ball (PC)\n",
      "1.99\tStreet Fighter 4 (PC)\n",
      "3.0\tDragonshard (PC)\n",
      "3.59\tHearts of Iron 2 (PC)\n",
      "4.9\tDream Pinball 3D (PC)\n",
      "4.99\tCities in Motion (PC)\n",
      "4.99\tA New Beginning (PC)\n",
      "4.99\tRig&#39;n&#39;Roll Tirowiec (PC)\n",
      "4.99\tSymulator Kamieniołomu (PC)\n",
      "5.0\tSymulator Zamiatarki ulic (PC)\n",
      "7.9\tWarhammer 40.000 Space Marine (PC)\n",
      "8.9\tSingularity (PC)\n",
      "8.99\tMAJESTY ANTOLOGIA (PC)\n",
      "8.99\tEuro Truck Simulator (PC)\n",
      "9.99\tBus Driver (PC)\n",
      "9.99\tHard Reset (PC)\n",
      "9.99\tSymulator Maszyn Budowlanych (PC)\n",
      "10.9\tBattlefield 3 Close Quarters (PC)\n",
      "10.99\tWarhammer 40.000 Dawn of War (PC)\n",
      "11.9\tDeath Track Resurrection (PC)\n",
      "11.9\tMafia 2 (PC)\n",
      "11.9\tGunMetal (PC)\n",
      "12.9\tHomefront (PC)\n",
      "12.9\tTwo Worlds 2 (PC)\n",
      "12.99\tEuro Truck Simulator 2 (PC)\n",
      "13.0\tSymulator Czołgu (PC)\n",
      "13.79\tMapeciątka podróżują (PC)\n",
      "13.99\tRage (PC)\n",
      "14.99\tSymulator Kopalni (PC)\n",
      "14.99\tDarksiders 2 (PC)\n",
      "14.99\tHTC HS-S200\n",
      "15.47\tMapeciątka zdobywają wiedzę (PC)\n",
      "15.9\tKane &amp; Lynch 2 (PC)\n",
      "15.99\tHearts of Iron 3 (PC)\n",
      "16.9\tDIRT 3 (PC)\n",
      "16.9\tBorderlands 2 (PC)\n",
      "16.9\tTropico 4 (PC)\n",
      "17.9\tMax Payne 3 (PC)\n",
      "17.9\tStar Wars Jedi Knight 2 Jedi Outcast (PC)\n",
      "17.99\tHospital Tycoon (PC)\n",
      "17.99\tOverlord (PC)\n",
      "17.99\tTrucks &amp; Trailers (PC)\n",
      "18.24\tSymulator Budowy Mostów (PC)\n",
      "18.24\tSymulator Transportu Kolejowego (PC)\n",
      "18.24\tSymulator Prac Górniczych (PC)\n",
      "18.9\tXCOM Enemy Unknown (PC)\n",
      "18.99\tCall of Cthulhu Mroczne zakamarki Świata (PC)\n",
      "19.9\tHitman Krwawa Forsa (PC)\n",
      "19.9\tPREY (PC)\n",
      "19.99\tDoom 3 (PC)\n",
      "19.99\tKurczak Mały (PC)\n",
      "19.99\tGdzie jest Nemo (PC)\n",
      "19.99\tRed Faction Guerrilla (PC)\n",
      "19.99\tProsiaczek i Przyjaciele (PC)\n",
      "19.99\tKULT HERETIC KINGDOMS (PC)\n",
      "20.9\tCivilization 4 Warlords (PC)\n",
      "20.9\tCivilization 3 (PC)\n",
      "22.9\tAuta 2 (PC)\n",
      "23.9\tToy Story Mania (PC)\n",
      "23.9\tStar Wars Knights of the Old Republic (PC)\n",
      "23.9\tReturn to Mysterious Island (PC)\n",
      "23.9\tPort Royale 3 (PC)\n",
      "23.9\tStar Wars Knights of the Old Republic 2 (PC)\n",
      "24.9\tDisney Universe (PC)\n",
      "24.9\tTropico 3 (PC)\n",
      "24.9\tSplit/Second (PC)\n",
      "24.9\tStill Life (PC)\n",
      "24.9\tSimCity (PC)\n",
      "24.99\tAngry Birds Classic (PC)\n",
      "24.99\tAngry Birds Space (PC)\n",
      "24.99\tLEGO Batman (PC)\n",
      "24.99\tKaraoke Hity Disco Polo (PC)\n",
      "25.49\tGTR Evolution (PC)\n",
      "25.9\tLEGO Piraci z Karaibów (PC)\n",
      "25.9\tS.T.A.L.K.E.R. Cień Czarnobyla (PC)\n",
      "26.99\tKing&#39;s Bounty Legenda (PC)\n",
      "27.9\tThe Sims 3 Nowoczesny Apartament (PC)\n",
      "27.9\tNeed for Speed Shift 2 Unleashed (PC)\n",
      "27.9\tThe Sims 3 Zwierzaki (PC)\n",
      "27.99\tScania Truck Driving Simulator (PC)\n",
      "28.9\tDead Space 2 (PC)\n",
      "29.9\tThe Lost Crown (PC)\n",
      "29.99\tCall of Duty Black Ops (PC)\n",
      "29.99\tBattlefield 3 Powrót do Karkand (PC)\n",
      "29.99\tLEGO Batman 2 DC Super Heroes (PC)\n",
      "29.99\tWiwa AN 200\n",
      "30.0\tTygrysek i Uczta Kubusia (PC)\n",
      "30.9\tTotal War Shogun (PC)\n",
      "31.9\tThe Sims 3 Kariera (PC)\n",
      "31.9\tSilent Hunter 5 Bitwa o Atlantyk (PC)\n",
      "31.9\tThe Sims 3 Cztery Pory Roku (PC)\n",
      "32.9\tBattlefield Bad Company 2 (PC)\n",
      "32.9\tAuta (PC)\n",
      "32.99\tCall of Duty 2 (PC)\n",
      "32.99\tCall of Duty Modern Warfare 3 (PC)\n",
      "32.99\tFallout New Vegas (PC)\n",
      "32.99\tBrink (PC)\n",
      "32.99\tMortal Kombat Komplete (PC)\n",
      "33.9\tMass Effect 2 (PC)\n",
      "33.99\tBatman Arkham Asylum (PC)\n",
      "33.99\tQuake 4 (PC)\n",
      "34.9\tPatrician 4 (PC)\n",
      "34.99\tWiedźmin 2 Zabójcy królów (PC)\n",
      "34.99\tTotal War Shogun 2 (PC)\n",
      "34.99\tDishonored (PC)\n",
      "34.99\tFallout 3 (PC)\n",
      "34.99\tCompany of Heroes (PC)\n",
      "34.99\tCompany of Heroes 2 (PC)\n",
      "34.99\tTwierdza 2 (PC)\n",
      "34.99\tRise of the Argonauts (PC)\n",
      "34.99\tNapoleon Total War (PC)\n",
      "34.99\tThe Elder Scrolls 5 Skyrim (PC)\n",
      "34.99\tThe Elder Scrolls 4 Oblivion (PC)\n",
      "34.99\tTwierdza 3 (PC)\n",
      "34.99\tOperation Flashpoint Dragon Rising (PC)\n",
      "34.99\tDamnation (PC)\n",
      "34.99\tOverlord 2 (PC)\n",
      "34.99\tBaldur&#39;s Gate (PC)\n",
      "34.99\tLego Harry Potter Lata 5-7 (PC)\n",
      "34.99\tWarhammer 40.000 Dawn of War 2 (PC)\n",
      "34.99\tMedieval 2 Total War (PC)\n",
      "35.0\tSymulator Prac Leśnych (PC)\n",
      "35.99\tRace Injection (PC)\n",
      "36.9\tLego Star Wars The Complete Saga (PC)\n",
      "36.9\tBattlefield 3 (PC)\n",
      "36.99\tBionic Commando (PC)\n",
      "36.99\tCall of Juarez (PC)\n",
      "37.9\tRayman Origins (PC)\n",
      "37.91\tSymulator Policji (PC)\n",
      "37.99\tAnomaly Warzone Earth (PC)\n",
      "38.9\tTitan Quest (PC)\n",
      "38.99\tAir Conflicts Secret Wars (PC)\n",
      "39.9\tCall of Juarez Więzy Krwi (PC)\n",
      "39.9\tThe Club (PC)\n",
      "39.99\tLEGO Władca Pierścieni (PC)\n",
      "39.99\tKing&#39;s Bounty Wojownicza Księżniczka (PC)\n",
      "40.9\tCivilization 4 (PC)\n",
      "40.9\tGTA San Andreas (PC)\n",
      "40.9\tGTA Vice City (PC)\n",
      "41.0\tDark Void (PC)\n",
      "41.9\tSupreme Commander (PC)\n",
      "42.9\tAnno 2070 (PC)\n",
      "44.99\tHama 44292\n",
      "45.9\tCall of Duty 4 Modern Warfare (PC)\n",
      "46.99\tWorms Reloaded (PC)\n",
      "47.7\tSymulator Robót Drogowych (PC)\n",
      "47.9\tLA Noire (PC)\n",
      "49.9\tOpticum AX-900\n",
      "49.99\tFallout 3 (Xbox 360)\n",
      "49.99\tSzalone Króliki Na żywo i w kolorze (Xbox 360)\n",
      "49.99\tTom Clancy&#39;s Rainbow Six Vegas (Xbox 360)\n",
      "49.99\tTom Clancy&#39;s Rainbow Six Vegas 2 (Xbox 360)\n",
      "49.99\tCompany of Heroes Tales of Valor (PC)\n",
      "49.99\tTom Clancy&#39;s Ghost Recon 4 Future Soldier (Xbox 360)\n",
      "49.99\tAssassin&#39;s Creed (Xbox 360)\n",
      "54.9\tRome Total War (PC)\n",
      "54.99\tJabra Talk\n",
      "55.0\tStar Wars Battlefront 2 (PC)\n",
      "55.9\tWarhammer 40.000 Dawn of War Winter Assault (PC)\n",
      "56.0\tSkate 3 (Xbox 360)\n",
      "56.9\tMedal of Honor Warfighter (PC)\n",
      "58.97\tTelefon Siemens Gigaset DA310\n",
      "59.9\tCall of Duty 4 Modern Warfare (Xbox 360)\n",
      "59.9\tCall of Duty Modern Warfare 2 (PS3)\n",
      "59.99\tOpticum AX-1000\n",
      "59.99\tWiwa AN 220\n",
      "59.99\tOne For All SV 9033\n",
      "61.18\tLEGO Batman 2 DC Super Heroes (PS3)\n",
      "62.48\tKaraoke Dziecięce Przeboje (PC)\n",
      "63.49\tGra o tron (PC)\n",
      "63.9\tGTA 5 (PC)\n",
      "63.99\tStar Wars The Force Unleashed (PC)\n",
      "69.0\tKinect Joy Ride (Xbox 360)\n",
      "69.0\tFallout New Vegas (Xbox 360)\n",
      "69.0\tRayman Origins (Xbox 360)\n",
      "69.0\tGears of War (Xbox 360)\n",
      "69.9\tDiablo 3 (PC)\n",
      "69.99\tLego Batman 2 DC Super Heroes (Xbox 360)\n",
      "70.9\tStar Wars The Force Unleashed 2 (PC)\n",
      "71.99\tF1 2012 (PC)\n",
      "73.0\tDead Rising 2 (PC)\n",
      "73.9\tRocksmith (PC)\n",
      "74.9\tSleeping Dogs (PC)\n",
      "75.0\tResident Evil 5 (PC)\n",
      "75.99\tAir Conflicts (PC)\n",
      "76.9\tSpec Ops The Line (PC)\n",
      "76.9\tGTA Trylogia (PC)\n",
      "78.0\tCivilization 5 Bogowie i Królowie (PC)\n",
      "78.9\tDuke Nukem Forever (PC)\n",
      "78.9\tIntenso Music Walker 8GB\n",
      "79.9\tNeed for Speed Most Wanted (Xbox 360)\n",
      "79.9\tCrysis 2 (PS3)\n",
      "79.9\tCrysis 3 (PS3)\n",
      "79.99\tSonic Generations (PC)\n",
      "79.99\tOne For All SV 9215\n",
      "79.99\tOne For All SV 9125\n",
      "82.9\tBioshock (PC)\n",
      "82.99\tOpticum AX-800\n",
      "86.28\tGembird BTCC-002\n",
      "89.0\tDead Space 2 (Xbox 360)\n",
      "89.0\tKinectimals Now with Bears (Xbox 360)\n",
      "89.9\tPirates of the Caribbean At World&#39;s End (PS3)\n",
      "89.99\tDead Space 3 (Xbox 360)\n",
      "89.99\tBioShock 2 (Xbox 360)\n",
      "89.99\tMax Payne 3 (Xbox 360)\n",
      "89.99\tGears of War 3 (Xbox 360)\n",
      "89.99\tMass Effect 2 (Xbox 360)\n",
      "89.99\tMass Effect 3 (Xbox 360)\n",
      "89.99\tMortal Kombat (Xbox 360)\n",
      "89.99\tBattlefield Bad Company 2 (Xbox 360)\n",
      "89.99\tKinect Sports Sezon 2 (Xbox 360)\n",
      "91.99\tAliens vs Predator (PC)\n",
      "94.0\tDevil May Cry 4 (PC)\n",
      "96.99\tEmpire Total War (PC)\n",
      "99.9\tOne For All SV 9335\n",
      "99.99\tSing It High School Musical 3 (PS3)\n",
      "99.99\tThe Sims 3 Pokolenia (PC)\n",
      "99.99\tOkulary 3D PHILIPS PTA436/00\n",
      "99.99\tOne For All SV 9143\n",
      "102.9\tArma 3 (PC)\n",
      "103.0\tEvolveo SHARK\n",
      "109.0\tManta DVD064\n",
      "109.0\tVivanco TVA 301\n",
      "109.99\tGTA 4 (Xbox 360)\n",
      "111.99\tOne For All SV 9360\n",
      "112.99\tAliens Colonial Marines (PC)\n",
      "118.9\tBorderlands (PC)\n",
      "119.0\tPhilips SDV5100\n",
      "119.0\tTelmor DSP-860\n",
      "122.99\tEuropa Universalis 3 (PC)\n",
      "129.0\tGTA 5 (PS3)\n",
      "129.0\tJabra Drive\n",
      "129.0\tPhilips SDV6226\n",
      "129.0\tPhilips SDV5225\n",
      "129.99\tLA Noire (Xbox 360)\n",
      "135.0\tVivanco TVA 500\n",
      "135.9\tFinal Fantasy 14 (PC)\n",
      "139.99\tBioShock Infinite (Xbox 360)\n",
      "139.99\tRed Dead Redemption (Xbox 360)\n",
      "149.0\tVivanco TVA 400\n",
      "168.79\tPhilips SDV6224\n",
      "169.0\tIniemamocni (PC)\n",
      "169.0\tPhilips SDV5120\n",
      "169.0\tVivanco TVA 501\n",
      "189.0\tWatch Dogs (PC)\n",
      "189.0\tPhilips SDV8622\n",
      "189.99\tOne For All SV 9345\n",
      "193.0\tSony DVP-SR760\n",
      "199.9\tJust Cause (PC)\n",
      "207.33\tNokia 3310\n",
      "219.0\tThomson ANT1410\n",
      "245.0\tParrot Minikit NEO\n",
      "249.0\tPlantronics Voyager Legend\n",
      "269.0\tLCD Asus VS197D\n",
      "299.0\tJabra Freeway\n",
      "327.47\tJabra Speak 410\n",
      "349.0\tLCD BenQ GL2250\n",
      "380.9\tLCD BenQ GL2250HM\n",
      "399.0\tLCD Dell U2412M\n",
      "553.0\tPlantronics Savi W710\n",
      "609.0\tLCD Philips 241S4LCB\n",
      "639.0\tLCD Asus VK228H\n",
      "688.78\tLCD Iiyama E2280WSD\n",
      "689.0\tLCD Philips 241B4LPYCB\n",
      "739.0\tLCD Iiyama B2280WSD\n",
      "799.0\tLCD Asus VK248H\n",
      "979.0\tLCD NEC EA224WMi\n",
      "999.0\tLCD NEC EA223WMe\n",
      "1079.0\tLCD NEC EA223WM\n",
      "1117.01\tLCD Asus VK278Q\n",
      "1303.96\tPlantronics Savi W740\n",
      "1419.0\tLCD Asus PA248Q\n",
      "1816.97\tApple iPad mini 64GB\n",
      "1998.14\tRicoh SG3110DN\n",
      "2048.5\tKyocera FS-1135MFP\n",
      "2065.0\tLCD Iiyama T1931SR\n",
      "2199.9\tSamsung Galaxy S III GT-i9300\n",
      "2317.02\tApple iPad mini 64GB 4G\n",
      "2399.0\tSamsung CLX-6260FR ### Gadżety Samsung ### Eksploatacja -10% ### Negocjuj Cenę ### Raty ### Szybkie Płatności ### Szybka Wysyłka\n",
      "3029.0\tLCD Iiyama T1932MSC\n",
      "3777.0\tKyocera FS-C2026MFP\n",
      "4598.0\tKyocera FS-3040MFP\n",
      "5126.0\tKyocera FS-3540MFP\n",
      "5259.0\tOKI B840dn\n",
      "5301.9\tKyocera FS-3140MFP\n",
      "7639.0\tKyocera FS-3640MFP\n",
      "4990000.0\tMen of War Oddział Szturmowy (PC)\n",
      "9900000.0\tMad Riders (PC)\n",
      "14990000.0\tAnarchy Reigns (Xbox 360)\n",
      "18900000.0\tBioshock Infinite (PC)\n",
      "24990000.0\tLego Harry Potter Lata 1-4 (PC)\n",
      "31900000.0\tSniper Elite V2 (PC)\n",
      "31990000.0\tAvencast Rise of the Mage (PC)\n",
      "33990000.0\tWładca Pierścieni Wojna Na Północy (PC)\n",
      "34900000.0\tThe Sims 3 Wymarzone Podróże (PC)\n",
      "36990000.0\tRidge Racer Unbounded (PC)\n",
      "47790000.0\tDead Rising 2 Off the Record (PC)\n",
      "49900000.0\tSymulator Śmieciarki (PC)\n",
      "64800000.0\tManta MM266\n",
      "89990000.0\tSencor SDA-630\n",
      "94530000.0\tOne For All SV 9323\n",
      "132900000.0\tDeep Black Reloaded (PC)\n"
     ]
    }
   ],
   "source": [
    "products.sort(key=lambda product : product[\"price\"])\n",
    "print(\"Price \\t Product\")\n",
    "for product in products:\n",
    "    print(str(product[\"price\"])+\"\\t\"+product[\"product_name\"])"
   ]
  },
  {
   "cell_type": "markdown",
   "metadata": {},
   "source": [
    "### Analiza czasu dostawy"
   ]
  },
  {
   "cell_type": "code",
   "execution_count": 52,
   "metadata": {
    "scrolled": true
   },
   "outputs": [
    {
     "name": "stdout",
     "output_type": "stream",
     "text": [
      "382 purchases not delivered\n",
      "7258 purchases delivered\n"
     ]
    },
    {
     "data": {
      "image/png": "[encoded data removed]",
      "text/plain": [
       "<Figure size 432x288 with 1 Axes>"
      ]
     },
     "metadata": {
      "needs_background": "light"
     },
     "output_type": "display_data"
    }
   ],
   "source": [
    "notDeliveredList = [delivery for delivery in deliveries if delivery['delivery_timestamp'] is None]\n",
    "deliveredList = [delivery for delivery in deliveries if delivery['delivery_timestamp'] is not None]\n",
    "print(str(len(notDeliveredList))+\" purchases not delivered\")\n",
    "print(str(len(deliveredList))+\" purchases delivered\")\n",
    "\n",
    "deliveryTimes = [dateToTimestamp(delivery['delivery_timestamp']) for delivery in deliveredList]\n",
    "purchaseTimes = [dateToTimestamp(delivery['purchase_timestamp']) for delivery in deliveredList]\n",
    "\n",
    "deliveryDurations = [(deliveryTime - purchaseTime)/3600 for deliveryTime, purchaseTime in zip(deliveryTimes, purchaseTimes)]\n",
    "\n",
    "plt.hist(deliveryDurations, density=False, bins=100)\n",
    "plt.ylabel('Number of deliveries')\n",
    "plt.xlabel('Delivery duration [h]')\n",
    "plt.show()"
   ]
  },
  {
   "cell_type": "code",
   "execution_count": 51,
   "metadata": {},
   "outputs": [
    {
     "name": "stdout",
     "output_type": "stream",
     "text": [
      "Company 620\n",
      "2321 deliveries\n"
     ]
    },
    {
     "data": {
      "image/png": "[encoded data removed]",
      "text/plain": [
       "<Figure size 432x288 with 1 Axes>"
      ]
     },
     "metadata": {
      "needs_background": "light"
     },
     "output_type": "display_data"
    },
    {
     "name": "stdout",
     "output_type": "stream",
     "text": [
      "Company None\n",
      "337 deliveries\n"
     ]
    },
    {
     "data": {
      "image/png": "[encoded data removed]",
      "text/plain": [
       "<Figure size 432x288 with 1 Axes>"
      ]
     },
     "metadata": {
      "needs_background": "light"
     },
     "output_type": "display_data"
    },
    {
     "name": "stdout",
     "output_type": "stream",
     "text": [
      "Company 516\n",
      "2305 deliveries\n"
     ]
    },
    {
     "data": {
      "image/png": "[encoded data removed]",
      "text/plain": [
       "<Figure size 432x288 with 1 Axes>"
      ]
     },
     "metadata": {
      "needs_background": "light"
     },
     "output_type": "display_data"
    },
    {
     "name": "stdout",
     "output_type": "stream",
     "text": [
      "Company 360\n",
      "2295 deliveries\n"
     ]
    },
    {
     "data": {
      "image/png": "[encoded data removed]",
      "text/plain": [
       "<Figure size 432x288 with 1 Axes>"
      ]
     },
     "metadata": {
      "needs_background": "light"
     },
     "output_type": "display_data"
    }
   ],
   "source": [
    "companies = []\n",
    "for delivery in deliveries:\n",
    "    if delivery['delivery_company'] not in companies:# and delivery['delivery_company'] is not None:\n",
    "        companies.append(delivery['delivery_company'])\n",
    "\n",
    "for company in companies:\n",
    "    print('Company '+str(company))\n",
    "    durations = []\n",
    "    counter = 0\n",
    "    for delivery in deliveredList:\n",
    "        if delivery['delivery_company'] == company:\n",
    "            counter += 1\n",
    "            durations.append((dateToTimestamp(delivery['delivery_timestamp']) - dateToTimestamp(delivery['purchase_timestamp']))/3600)\n",
    "    print(str(counter)+' deliveries')\n",
    "    plt.hist(durations, density=False, bins=100)\n",
    "    plt.ylabel('Number of deliveries')\n",
    "    plt.xlabel('Delivery duration [h]')\n",
    "    plt.show()"
   ]
  }
 ],
 "metadata": {
  "kernelspec": {
   "display_name": "Python 3",
   "language": "python",
   "name": "python3"
  },
  "language_info": {
   "codemirror_mode": {
    "name": "ipython",
    "version": 3
   },
   "file_extension": ".py",
   "mimetype": "text/x-python",
   "name": "python",
   "nbconvert_exporter": "python",
   "pygments_lexer": "ipython3",
   "version": "3.8.5"
  }
 },
 "nbformat": 4,
 "nbformat_minor": 4
}
